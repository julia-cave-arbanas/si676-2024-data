{
 "cells": [
  {
   "cell_type": "markdown",
   "metadata": {},
   "source": [
    "# Sample - retrieving DC using OAI-PMH"
   ]
  },
  {
   "cell_type": "code",
   "execution_count": 1,
   "metadata": {},
   "outputs": [],
   "source": [
    "import requests"
   ]
  },
  {
   "cell_type": "code",
   "execution_count": 2,
   "metadata": {},
   "outputs": [],
   "source": [
    "rencen_item_url_ex = 'https://cdm17409.contentdm.oclc.org/digital/collection/rencen/id/315/rec/3'\n",
    "collection_url = 'https://cdm17409.contentdm.oclc.org/digital'\n",
    "item_set = 'rencen'\n",
    "item_id = '3'\n",
    "oai_endpoint = 'https://cdm17409.contentdm.oclc.org/oai/oai.php'"
   ]
  },
  {
   "cell_type": "markdown",
   "metadata": {},
   "source": [
    "### Identify the repository"
   ]
  },
  {
   "cell_type": "code",
   "execution_count": 3,
   "metadata": {},
   "outputs": [],
   "source": [
    "parameters = {\n",
    "    'verb':'Identify'\n",
    "}"
   ]
  },
  {
   "cell_type": "code",
   "execution_count": 4,
   "metadata": {},
   "outputs": [
    {
     "data": {
      "text/plain": [
       "'https://cdm17409.contentdm.oclc.org/oai/oai.php?verb=Identify'"
      ]
     },
     "execution_count": 4,
     "metadata": {},
     "output_type": "execute_result"
    }
   ],
   "source": [
    "r = requests.get(oai_endpoint, params=parameters)\n",
    "r.url"
   ]
  },
  {
   "cell_type": "code",
   "execution_count": 5,
   "metadata": {},
   "outputs": [
    {
     "name": "stdout",
     "output_type": "stream",
     "text": [
      "<?xml version=\"1.0\" encoding=\"UTF-8\"?><OAI-PMH xmlns=\"http://www.openarchives.org/OAI/2.0/\" xmlns:xsi=\"http://www.w3.org/2001/XMLSchema-instance\" xsi:schemaLocation=\"http://www.openarchives.org/OAI/2.0/ http://www.openarchives.org/OAI/2.0/OAI-PMH.xsd\"><responseDate>2024-10-17T21:14:43Z</responseDate><request verb=\"Identify\">http://cdm17409.contentdm.oclc.org/oai/oai.php</request><Identify>\n",
      "      <repositoryName>CONTENTdm Server Repository</repositoryName>\n",
      "      <baseURL>http://cdm17409.contentdm.oclc.org/oai/oai.php</baseURL>\n",
      "      <protocolVersion>2.0</protocolVersion>\n",
      "      <adminEmail>digitalcollections@wayne.edu</adminEmail>\n",
      "      <earliestDatestamp>2022-05-04</earliestDatestamp>\n",
      "      <deletedRecord>transient</deletedRecord>\n",
      "      <granularity>YYYY-MM-DD</granularity>\n",
      "   </Identify>\n",
      "  </OAI-PMH>\n"
     ]
    }
   ],
   "source": [
    "print(r.text)"
   ]
  },
  {
   "cell_type": "markdown",
   "metadata": {},
   "source": [
    "### Get a specific record\n",
    "\n",
    "https://cdm17409.contentdm.oclc.org/oai/oai.php?verb=GetRecord&identifier=oai:cdm17409.contentdm.oclc.org:rencen/3&metadataPrefix=oai_dc"
   ]
  },
  {
   "cell_type": "code",
   "execution_count": 6,
   "metadata": {},
   "outputs": [],
   "source": [
    "parameters = {\n",
    "    'verb':'GetRecord',\n",
    "    'identifier':'oai:cdm17409.contentdm.oclc.org:rencen/3',\n",
    "    'metadataPrefix':'oai_dc'\n",
    "}"
   ]
  },
  {
   "cell_type": "code",
   "execution_count": 7,
   "metadata": {},
   "outputs": [
    {
     "data": {
      "text/plain": [
       "'https://cdm17409.contentdm.oclc.org/oai/oai.php?verb=GetRecord&identifier=oai%3Acdm17409.contentdm.oclc.org%3Arencen%2F3&metadataPrefix=oai_dc'"
      ]
     },
     "execution_count": 7,
     "metadata": {},
     "output_type": "execute_result"
    }
   ],
   "source": [
    "r = requests.get(oai_endpoint, params=parameters)\n",
    "r.url"
   ]
  },
  {
   "cell_type": "code",
   "execution_count": 8,
   "metadata": {},
   "outputs": [
    {
     "name": "stdout",
     "output_type": "stream",
     "text": [
      "<?xml version=\"1.0\" encoding=\"UTF-8\"?><OAI-PMH xmlns=\"http://www.openarchives.org/OAI/2.0/\" xmlns:xsi=\"http://www.w3.org/2001/XMLSchema-instance\" xsi:schemaLocation=\"http://www.openarchives.org/OAI/2.0/ http://www.openarchives.org/OAI/2.0/OAI-PMH.xsd\"><responseDate>2024-10-17T21:14:43Z</responseDate><request verb=\"GetRecord\" identifier=\"oai:cdm17409.contentdm.oclc.org:rencen/3\" metadataPrefix=\"oai_dc\">http://cdm17409.contentdm.oclc.org/oai/oai.php</request><GetRecord><record><header><identifier>oai:cdm17409.contentdm.oclc.org:rencen/3</identifier><datestamp>2023-03-20</datestamp><setSpec>rencen</setSpec></header>\n",
      "<metadata>\n",
      "<oai_dc:dc xmlns:oai_dc=\"http://www.openarchives.org/OAI/2.0/oai_dc/\" xmlns:dc=\"http://purl.org/dc/elements/1.1/\" xmlns:xsi=\"http://www.w3.org/2001/XMLSchema-instance\" xsi:schemaLocation=\"http://www.openarchives.org/OAI/2.0/oai_dc/ http://www.openarchives.org/OAI/2.0/oai_dc.xsd\">\n",
      "<dc:title>View of the atrium in the completed Renaissance Center.</dc:title>\n",
      "<dc:description>Image of the atrium within the Renaissance Center, looking up at a large concrete structure. Trees, plants, and people can be seen in this picture of a restaurant.</dc:description>\n",
      "<dc:identifier>rencen_03e</dc:identifier>\n",
      "<dc:date>1977</dc:date>\n",
      "<dc:type>still image</dc:type>\n",
      "<dc:format>photographs</dc:format>\n",
      "<dc:subject>Renaissance Center (Detroit, Mich.)</dc:subject>\n",
      "<dc:coverage>Detroit, Michigan</dc:coverage>\n",
      "<dc:coverage>1970s</dc:coverage>\n",
      "<dc:relation>Building the Detroit Renaissance Center</dc:relation>\n",
      "<dc:rights>Users can cite and link to these materials without obtaining permission. Users can also use the materials for non-commercial educational and research purposes in accordance with fair use. For other uses or to obtain high resolution images, please contact the copyright holder.</dc:rights>\n",
      "<dc:date>1977</dc:date>\n",
      "<dc:identifier>http://cdm17409.contentdm.oclc.org/cdm/ref/collection/rencen/id/3</dc:identifier></oai_dc:dc>\n",
      "</metadata>\n",
      "</record></GetRecord></OAI-PMH>\n"
     ]
    }
   ],
   "source": [
    "print(r.text)"
   ]
  },
  {
   "cell_type": "markdown",
   "metadata": {},
   "source": [
    "#### Parse markup with beautful soup "
   ]
  },
  {
   "cell_type": "code",
   "execution_count": 9,
   "metadata": {},
   "outputs": [],
   "source": [
    "from bs4 import BeautifulSoup"
   ]
  },
  {
   "cell_type": "code",
   "execution_count": 10,
   "metadata": {},
   "outputs": [],
   "source": [
    "dc_example_parsed = BeautifulSoup(r.text, 'xml')"
   ]
  },
  {
   "cell_type": "code",
   "execution_count": 11,
   "metadata": {},
   "outputs": [
    {
     "name": "stdout",
     "output_type": "stream",
     "text": [
      "OAI-PMH\n"
     ]
    }
   ],
   "source": [
    "for tag in dc_example_parsed:\n",
    "    print(tag.name)"
   ]
  },
  {
   "cell_type": "code",
   "execution_count": 12,
   "metadata": {},
   "outputs": [
    {
     "data": {
      "text/plain": [
       "[<dc:coverage>Detroit, Michigan</dc:coverage>,\n",
       " <dc:coverage>1970s</dc:coverage>]"
      ]
     },
     "execution_count": 12,
     "metadata": {},
     "output_type": "execute_result"
    }
   ],
   "source": [
    "dc_example_parsed.find_all('dc:coverage')"
   ]
  },
  {
   "cell_type": "code",
   "execution_count": 13,
   "metadata": {},
   "outputs": [
    {
     "name": "stdout",
     "output_type": "stream",
     "text": [
      "\n",
      "\n",
      "<oai_dc:dc xmlns:dc=\"http://purl.org/dc/elements/1.1/\" xmlns:oai_dc=\"http://www.openarchives.org/OAI/2.0/oai_dc/\" xmlns:xsi=\"http://www.w3.org/2001/XMLSchema-instance\" xsi:schemaLocation=\"http://www.openarchives.org/OAI/2.0/oai_dc/ http://www.openarchives.org/OAI/2.0/oai_dc.xsd\">\n",
      "<dc:title>View of the atrium in the completed Renaissance Center.</dc:title>\n",
      "<dc:description>Image of the atrium within the Renaissance Center, looking up at a large concrete structure. Trees, plants, and people can be seen in this picture of a restaurant.</dc:description>\n",
      "<dc:identifier>rencen_03e</dc:identifier>\n",
      "<dc:date>1977</dc:date>\n",
      "<dc:type>still image</dc:type>\n",
      "<dc:format>photographs</dc:format>\n",
      "<dc:subject>Renaissance Center (Detroit, Mich.)</dc:subject>\n",
      "<dc:coverage>Detroit, Michigan</dc:coverage>\n",
      "<dc:coverage>1970s</dc:coverage>\n",
      "<dc:relation>Building the Detroit Renaissance Center</dc:relation>\n",
      "<dc:rights>Users can cite and link to these materials without obtaining permission. Users can also use the materials for non-commercial educational and research purposes in accordance with fair use. For other uses or to obtain high resolution images, please contact the copyright holder.</dc:rights>\n",
      "<dc:date>1977</dc:date>\n",
      "<dc:identifier>http://cdm17409.contentdm.oclc.org/cdm/ref/collection/rencen/id/3</dc:identifier></oai_dc:dc>\n",
      "\n",
      "\n"
     ]
    }
   ],
   "source": [
    "for tag in dc_example_parsed.find('metadata'):\n",
    "    print(tag)"
   ]
  },
  {
   "cell_type": "markdown",
   "metadata": {},
   "source": [
    "## Transform that data into something you can use\n",
    "\n",
    "For example, do you need your data in a CSV? You can use the above to parse HTML.\n",
    "Or, as demonstrated below, use a dedicated XML library like `lxml`."
   ]
  },
  {
   "cell_type": "code",
   "execution_count": 14,
   "metadata": {},
   "outputs": [],
   "source": [
    "import csv\n",
    "import xml.etree.ElementTree as ET"
   ]
  },
  {
   "cell_type": "markdown",
   "metadata": {},
   "source": [
    "Here's a function that transforms OAI PMH XML data into a CSV:"
   ]
  },
  {
   "cell_type": "code",
   "execution_count": 15,
   "metadata": {},
   "outputs": [],
   "source": [
    "def oai_pmh_to_csv(xml_data, csv_filename):\n",
    "    # Parse the XML data\n",
    "    root = ET.fromstring(xml_data)\n",
    "\n",
    "    # Define the namespaces to search within the XML\n",
    "    ns = {\n",
    "        'oai_pmh': 'http://www.openarchives.org/OAI/2.0/',\n",
    "        'oai_dc': 'http://www.openarchives.org/OAI/2.0/oai_dc/',\n",
    "        'dc': 'http://purl.org/dc/elements/1.1/'\n",
    "    }\n",
    "\n",
    "    # List to hold CSV rows\n",
    "    csv_data = []\n",
    "\n",
    "    # Extract the metadata\n",
    "    for record in root.findall('.//oai_pmh:record', ns):\n",
    "        row = {}\n",
    "        metadata = record.find('.//oai_dc:dc', ns)\n",
    "        if metadata is not None:\n",
    "            for child in metadata:\n",
    "                tag = child.tag.split('}')[1]  # Removing the namespace\n",
    "                if tag in row:\n",
    "                    row[tag] += '; ' + child.text\n",
    "                else:\n",
    "                    row[tag] = child.text\n",
    "            csv_data.append(row)\n",
    "\n",
    "    # Define CSV headers based on the first row keys\n",
    "    headers = set(k for d in csv_data for k in d.keys())\n",
    "\n",
    "    # Write to CSV\n",
    "    with open(csv_filename, 'w', newline='') as csvfile:\n",
    "        writer = csv.DictWriter(csvfile, fieldnames=headers)\n",
    "        writer.writeheader()\n",
    "        for row in csv_data:\n",
    "            writer.writerow(row)"
   ]
  },
  {
   "cell_type": "markdown",
   "metadata": {},
   "source": [
    "Now, define an output file name, retrieve the XML data and save it to a variable,\n",
    "and run the above function"
   ]
  },
  {
   "cell_type": "code",
   "execution_count": 16,
   "metadata": {},
   "outputs": [],
   "source": [
    "# define an output file\n",
    "csv_filename = 'transformed-oai-pmh-to-dc-in-csv.csv'\n",
    "\n",
    "# save the OAI-PMH DublinCore into a variable\n",
    "oa_pmh_dc_in_xml = r.text"
   ]
  },
  {
   "cell_type": "markdown",
   "metadata": {},
   "source": [
    "Run the function:"
   ]
  },
  {
   "cell_type": "code",
   "execution_count": 17,
   "metadata": {},
   "outputs": [],
   "source": [
    "oai_pmh_to_csv(oa_pmh_dc_in_xml, csv_filename)"
   ]
  },
  {
   "cell_type": "markdown",
   "metadata": {},
   "source": [
    "Check the file!"
   ]
  },
  {
   "cell_type": "code",
   "execution_count": 18,
   "metadata": {},
   "outputs": [
    {
     "name": "stdout",
     "output_type": "stream",
     "text": [
      "format,rights,date,relation,identifier,title,subject,description,coverage,type\n",
      "photographs,\"Users can cite and link to these materials without obtaining permission. Users can also use the materials for non-commercial educational and research purposes in accordance with fair use. For other uses or to obtain high resolution images, please contact the copyright holder.\",1977; 1977,Building the Detroit Renaissance Center,rencen_03e; http://cdm17409.contentdm.oclc.org/cdm/ref/collection/rencen/id/3,View of the atrium in the completed Renaissance Center.,\"Renaissance Center (Detroit, Mich.)\",\"Image of the atrium within the Renaissance Center, looking up at a large concrete structure. Trees, plants, and people can be seen in this picture of a restaurant.\",\"Detroit, Michigan; 1970s\",still image\n"
     ]
    }
   ],
   "source": [
    "!cat transformed-oai-pmh-to-dc-in-csv.csv"
   ]
  }
 ],
 "metadata": {
  "kernelspec": {
   "display_name": "base",
   "language": "python",
   "name": "python3"
  },
  "language_info": {
   "codemirror_mode": {
    "name": "ipython",
    "version": 3
   },
   "file_extension": ".py",
   "mimetype": "text/x-python",
   "name": "python",
   "nbconvert_exporter": "python",
   "pygments_lexer": "ipython3",
   "version": "3.9.18"
  }
 },
 "nbformat": 4,
 "nbformat_minor": 2
}
