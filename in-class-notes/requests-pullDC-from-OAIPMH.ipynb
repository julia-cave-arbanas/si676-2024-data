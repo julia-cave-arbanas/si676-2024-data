{
 "cells": [
  {
   "cell_type": "markdown",
   "metadata": {},
   "source": [
    "# Sample - retrieving DC using OAI-PMH"
   ]
  },
  {
   "cell_type": "code",
   "execution_count": 1,
   "metadata": {},
   "outputs": [],
   "source": [
    "import requests"
   ]
  },
  {
   "cell_type": "code",
   "execution_count": 3,
   "metadata": {},
   "outputs": [],
   "source": [
    "rencen_item_url_ex = 'https://cdm17409.contentdm.oclc.org/digital/collection/rencen/id/315/rec/3'\n",
    "collection_url = 'https://cdm17409.contentdm.oclc.org/digital'\n",
    "item_set = 'rencen'\n",
    "item_id = '3'\n",
    "oai_endpoint = 'https://cdm17409.contentdm.oclc.org/oai/oai.php'"
   ]
  },
  {
   "cell_type": "markdown",
   "metadata": {},
   "source": [
    "### Identify the repository"
   ]
  },
  {
   "cell_type": "code",
   "execution_count": 12,
   "metadata": {},
   "outputs": [],
   "source": [
    "parameters = {\n",
    "    'verb':'Identify'\n",
    "}"
   ]
  },
  {
   "cell_type": "code",
   "execution_count": 13,
   "metadata": {},
   "outputs": [
    {
     "data": {
      "text/plain": [
       "'https://cdm17409.contentdm.oclc.org/oai/oai.php?verb=Identify'"
      ]
     },
     "execution_count": 13,
     "metadata": {},
     "output_type": "execute_result"
    }
   ],
   "source": [
    "r = requests.get(oai_endpoint, params=parameters)\n",
    "r.url"
   ]
  },
  {
   "cell_type": "code",
   "execution_count": 15,
   "metadata": {},
   "outputs": [
    {
     "name": "stdout",
     "output_type": "stream",
     "text": [
      "<?xml version=\"1.0\" encoding=\"UTF-8\"?><OAI-PMH xmlns=\"http://www.openarchives.org/OAI/2.0/\" xmlns:xsi=\"http://www.w3.org/2001/XMLSchema-instance\" xsi:schemaLocation=\"http://www.openarchives.org/OAI/2.0/ http://www.openarchives.org/OAI/2.0/OAI-PMH.xsd\"><responseDate>2024-10-09T21:03:31Z</responseDate><request verb=\"Identify\">http://cdm17409.contentdm.oclc.org/oai/oai.php</request><Identify>\n",
      "      <repositoryName>CONTENTdm Server Repository</repositoryName>\n",
      "      <baseURL>http://cdm17409.contentdm.oclc.org/oai/oai.php</baseURL>\n",
      "      <protocolVersion>2.0</protocolVersion>\n",
      "      <adminEmail>digitalcollections@wayne.edu</adminEmail>\n",
      "      <earliestDatestamp>2022-05-04</earliestDatestamp>\n",
      "      <deletedRecord>transient</deletedRecord>\n",
      "      <granularity>YYYY-MM-DD</granularity>\n",
      "   </Identify>\n",
      "  </OAI-PMH>\n"
     ]
    }
   ],
   "source": [
    "print(r.text)"
   ]
  },
  {
   "cell_type": "markdown",
   "metadata": {},
   "source": [
    "### Get a specific record\n",
    "\n",
    "https://cdm17409.contentdm.oclc.org/oai/oai.php?verb=GetRecord&identifier=oai:cdm17409.contentdm.oclc.org:rencen/3&metadataPrefix=oai_dc"
   ]
  },
  {
   "cell_type": "code",
   "execution_count": 16,
   "metadata": {},
   "outputs": [],
   "source": [
    "parameters = {\n",
    "    'verb':'GetRecord',\n",
    "    'identifier':'oai:cdm17409.contentdm.oclc.org:rencen/3',\n",
    "    'metadataPrefix':'oai_dc'\n",
    "}"
   ]
  },
  {
   "cell_type": "code",
   "execution_count": 17,
   "metadata": {},
   "outputs": [
    {
     "data": {
      "text/plain": [
       "'https://cdm17409.contentdm.oclc.org/oai/oai.php?verb=GetRecord&identifier=oai%3Acdm17409.contentdm.oclc.org%3Arencen%2F3&metadataPrefix=oai_dc'"
      ]
     },
     "execution_count": 17,
     "metadata": {},
     "output_type": "execute_result"
    }
   ],
   "source": [
    "r = requests.get(oai_endpoint, params=parameters)\n",
    "r.url"
   ]
  },
  {
   "cell_type": "code",
   "execution_count": 19,
   "metadata": {},
   "outputs": [
    {
     "name": "stdout",
     "output_type": "stream",
     "text": [
      "<?xml version=\"1.0\" encoding=\"UTF-8\"?><OAI-PMH xmlns=\"http://www.openarchives.org/OAI/2.0/\" xmlns:xsi=\"http://www.w3.org/2001/XMLSchema-instance\" xsi:schemaLocation=\"http://www.openarchives.org/OAI/2.0/ http://www.openarchives.org/OAI/2.0/OAI-PMH.xsd\"><responseDate>2024-10-09T21:49:43Z</responseDate><request verb=\"GetRecord\" identifier=\"oai:cdm17409.contentdm.oclc.org:rencen/3\" metadataPrefix=\"oai_dc\">http://cdm17409.contentdm.oclc.org/oai/oai.php</request><GetRecord><record><header><identifier>oai:cdm17409.contentdm.oclc.org:rencen/3</identifier><datestamp>2023-03-20</datestamp><setSpec>rencen</setSpec></header>\n",
      "<metadata>\n",
      "<oai_dc:dc xmlns:oai_dc=\"http://www.openarchives.org/OAI/2.0/oai_dc/\" xmlns:dc=\"http://purl.org/dc/elements/1.1/\" xmlns:xsi=\"http://www.w3.org/2001/XMLSchema-instance\" xsi:schemaLocation=\"http://www.openarchives.org/OAI/2.0/oai_dc/ http://www.openarchives.org/OAI/2.0/oai_dc.xsd\">\n",
      "<dc:title>View of the atrium in the completed Renaissance Center.</dc:title>\n",
      "<dc:description>Image of the atrium within the Renaissance Center, looking up at a large concrete structure. Trees, plants, and people can be seen in this picture of a restaurant.</dc:description>\n",
      "<dc:identifier>rencen_03e</dc:identifier>\n",
      "<dc:date>1977</dc:date>\n",
      "<dc:type>still image</dc:type>\n",
      "<dc:format>photographs</dc:format>\n",
      "<dc:subject>Renaissance Center (Detroit, Mich.)</dc:subject>\n",
      "<dc:coverage>Detroit, Michigan</dc:coverage>\n",
      "<dc:coverage>1970s</dc:coverage>\n",
      "<dc:relation>Building the Detroit Renaissance Center</dc:relation>\n",
      "<dc:rights>Users can cite and link to these materials without obtaining permission. Users can also use the materials for non-commercial educational and research purposes in accordance with fair use. For other uses or to obtain high resolution images, please contact the copyright holder.</dc:rights>\n",
      "<dc:date>1977</dc:date>\n",
      "<dc:identifier>http://cdm17409.contentdm.oclc.org/cdm/ref/collection/rencen/id/3</dc:identifier></oai_dc:dc>\n",
      "</metadata>\n",
      "</record></GetRecord></OAI-PMH>\n"
     ]
    }
   ],
   "source": [
    "print(r.text)"
   ]
  },
  {
   "cell_type": "markdown",
   "metadata": {},
   "source": [
    "#### Parse markup with beautful soup "
   ]
  },
  {
   "cell_type": "code",
   "execution_count": 20,
   "metadata": {},
   "outputs": [],
   "source": [
    "from bs4 import BeautifulSoup"
   ]
  },
  {
   "cell_type": "code",
   "execution_count": 22,
   "metadata": {},
   "outputs": [],
   "source": [
    "dc_example_parsed = BeautifulSoup(r.text, 'xml')"
   ]
  },
  {
   "cell_type": "code",
   "execution_count": 23,
   "metadata": {},
   "outputs": [
    {
     "name": "stdout",
     "output_type": "stream",
     "text": [
      "OAI-PMH\n"
     ]
    }
   ],
   "source": [
    "for tag in dc_example_parsed:\n",
    "    print(tag.name)"
   ]
  },
  {
   "cell_type": "code",
   "execution_count": 30,
   "metadata": {},
   "outputs": [
    {
     "data": {
      "text/plain": [
       "[<dc:coverage>Detroit, Michigan</dc:coverage>,\n",
       " <dc:coverage>1970s</dc:coverage>]"
      ]
     },
     "execution_count": 30,
     "metadata": {},
     "output_type": "execute_result"
    }
   ],
   "source": [
    "dc_example_parsed.find_all('dc:coverage')"
   ]
  },
  {
   "cell_type": "code",
   "execution_count": 34,
   "metadata": {},
   "outputs": [
    {
     "name": "stdout",
     "output_type": "stream",
     "text": [
      "\n",
      "\n",
      "<oai_dc:dc xmlns:dc=\"http://purl.org/dc/elements/1.1/\" xmlns:oai_dc=\"http://www.openarchives.org/OAI/2.0/oai_dc/\" xmlns:xsi=\"http://www.w3.org/2001/XMLSchema-instance\" xsi:schemaLocation=\"http://www.openarchives.org/OAI/2.0/oai_dc/ http://www.openarchives.org/OAI/2.0/oai_dc.xsd\">\n",
      "<dc:title>View of the atrium in the completed Renaissance Center.</dc:title>\n",
      "<dc:description>Image of the atrium within the Renaissance Center, looking up at a large concrete structure. Trees, plants, and people can be seen in this picture of a restaurant.</dc:description>\n",
      "<dc:identifier>rencen_03e</dc:identifier>\n",
      "<dc:date>1977</dc:date>\n",
      "<dc:type>still image</dc:type>\n",
      "<dc:format>photographs</dc:format>\n",
      "<dc:subject>Renaissance Center (Detroit, Mich.)</dc:subject>\n",
      "<dc:coverage>Detroit, Michigan</dc:coverage>\n",
      "<dc:coverage>1970s</dc:coverage>\n",
      "<dc:relation>Building the Detroit Renaissance Center</dc:relation>\n",
      "<dc:rights>Users can cite and link to these materials without obtaining permission. Users can also use the materials for non-commercial educational and research purposes in accordance with fair use. For other uses or to obtain high resolution images, please contact the copyright holder.</dc:rights>\n",
      "<dc:date>1977</dc:date>\n",
      "<dc:identifier>http://cdm17409.contentdm.oclc.org/cdm/ref/collection/rencen/id/3</dc:identifier></oai_dc:dc>\n",
      "\n",
      "\n"
     ]
    }
   ],
   "source": [
    "for tag in dc_example_parsed.find('metadata'):\n",
    "    print(tag)"
   ]
  }
 ],
 "metadata": {
  "kernelspec": {
   "display_name": "base",
   "language": "python",
   "name": "python3"
  },
  "language_info": {
   "codemirror_mode": {
    "name": "ipython",
    "version": 3
   },
   "file_extension": ".py",
   "mimetype": "text/x-python",
   "name": "python",
   "nbconvert_exporter": "python",
   "pygments_lexer": "ipython3",
   "version": "3.9.18"
  }
 },
 "nbformat": 4,
 "nbformat_minor": 2
}
