{
 "cells": [
  {
   "cell_type": "markdown",
   "metadata": {},
   "source": [
    "## HTTP in Python\n",
    "\n",
    "*Date: October 7, 2024*\n",
    "\n",
    "Activities to demonstrate HTTP in Python using the requests library."
   ]
  },
  {
   "cell_type": "code",
   "execution_count": 2,
   "metadata": {},
   "outputs": [],
   "source": [
    "import requests"
   ]
  },
  {
   "cell_type": "markdown",
   "metadata": {},
   "source": [
    "## Defining a URL\n",
    "\n",
    "Construct a basic Request - defining a URL"
   ]
  },
  {
   "cell_type": "code",
   "execution_count": 3,
   "metadata": {},
   "outputs": [],
   "source": [
    "url = 'https://www.loc.gov/'\n",
    "lccn_url = 'https://lccn.loc.gov/'"
   ]
  },
  {
   "cell_type": "code",
   "execution_count": 5,
   "metadata": {},
   "outputs": [
    {
     "name": "stdout",
     "output_type": "stream",
     "text": [
      "https://lccn.loc.gov/\n"
     ]
    }
   ],
   "source": [
    "print(lccn_url)"
   ]
  },
  {
   "cell_type": "code",
   "execution_count": 4,
   "metadata": {},
   "outputs": [],
   "source": [
    "resource_list = ['resource/cph.3f05183/','resource/fsa.8d24709/','resource/highsm.64003/']"
   ]
  },
  {
   "cell_type": "code",
   "execution_count": 7,
   "metadata": {},
   "outputs": [
    {
     "name": "stdout",
     "output_type": "stream",
     "text": [
      "https://www.loc.gov/resource/cph.3f05183/\n",
      "https://www.loc.gov/resource/fsa.8d24709/\n",
      "https://www.loc.gov/resource/highsm.64003/\n"
     ]
    }
   ],
   "source": [
    "for resource in resource_list:\n",
    "    r = requests.get(url + resource)\n",
    "    print(r.url)"
   ]
  },
  {
   "cell_type": "markdown",
   "metadata": {},
   "source": [
    "## Placing requests\n",
    "\n",
    "Basically, use the HTTP verbs. The one that is akin to requesting a web page is ... `GET`\n",
    "\n",
    "Once a request is placed, you can also ask for information about the response, including status code, headers, and the response content:"
   ]
  },
  {
   "cell_type": "code",
   "execution_count": 5,
   "metadata": {},
   "outputs": [
    {
     "name": "stdout",
     "output_type": "stream",
     "text": [
      "https://www.loc.gov/resource/cph.3f05183/ 200\n",
      "https://www.loc.gov/resource/fsa.8d24709/ 200\n",
      "https://www.loc.gov/resource/highsm.64003/ 200\n"
     ]
    }
   ],
   "source": [
    "for resource in resource_list:\n",
    "    r = requests.get(url + resource)\n",
    "    print(r.url, r.status_code)"
   ]
  },
  {
   "cell_type": "code",
   "execution_count": 8,
   "metadata": {},
   "outputs": [
    {
     "name": "stdout",
     "output_type": "stream",
     "text": [
      "https://www.loc.gov/resource/cph.3f05183/ 200 \n",
      " {'Date': 'Mon, 07 Oct 2024 02:25:05 GMT', 'Content-Type': 'text/html; charset=UTF-8', 'Content-Length': '1335612', 'Connection': 'keep-alive', 'access-control-allow-origin': '*', 'referrer-policy': 'no-referrer-when-downgrade', 'strict-transport-security': 'max-age=3600; preload', 'x-content-type-options': 'nosniff', 'x-frame-options': 'sameorigin', 'etag': '\"5e37d63134a4b421208621073554d45b\"', 'expires': 'Tue, 08 Oct 2024 00:20:22 GMT', 'content-security-policy': \"block-all-mixed-content;         default-src https://loc.gov/ https://*.loc.gov/ ;         media-src https://loc.gov/ https://*.loc.gov/              https://*.readspeaker.com/             https://*.arcgis.com/ https://*.arcgisonline.com/  https://webapps-cdn.esri.com/             blob:;         worker-src https://loc.gov/ https://*.loc.gov/              blob:;         font-src https://loc.gov/ https://*.loc.gov/              https://*.arcgis.com/ https://*.arcgisonline.com/  https://webapps-cdn.esri.com/             https://ssl.p.jwpcdn.com/             data:;         img-src https://loc.gov/ https://*.loc.gov/              https://congress.gov/ https://*.congress.gov/             https://*.readspeaker.com/             https://*.arcgis.com/ https://*.arcgisonline.com/  https://webapps-cdn.esri.com/             https://*.ssa.gov/             https://dpm.demdex.net/             https://cm.everesttech.net/             https://*.amazonaws.com             data:             blob:;         connect-src https://loc.gov/ https://*.loc.gov/              https://*.arcgis.com/ https://*.arcgisonline.com/  https://webapps-cdn.esri.com/             https://chat-us.libanswers.com/             https://thelibraryofcongress.tt.omtrdc.net/             https://dpm.demdex.net/ \\t        https://d3c605m4lmznjl.cloudfront.net/             https://*.s3.us-east-1.amazonaws.com/;         style-src https://loc.gov/ https://*.loc.gov/              https://*.readspeaker.com/             https://*.arcgis.com/ https://*.arcgisonline.com/  https://webapps-cdn.esri.com/             https://ssl.p.jwpcdn.com/             https://assets.adobedtm.com/             https://*.ssa.gov/             'unsafe-inline'             blob:;         script-src https://loc.gov/ https://*.loc.gov/              https://*.readspeaker.com/             https://*.arcgis.com/ https://*.arcgisonline.com/  https://webapps-cdn.esri.com/             https://ssl.p.jwpcdn.com/             https://assets.adobedtm.com/             https://*.blackbaudcdn.net/ https://*.blackbaud.com/             https://ajax.googleapis.com/ajax/libs/jquery/             https://*.ssa.gov/             https://s.ytimg.com/             'unsafe-inline'             'unsafe-eval';         frame-src https://loc.gov/ https://*.loc.gov/              https://*.readspeaker.com/             https://*.blackbaudcdn.net/ https://*.blackbaud.com/             https://www.nlstalkingbooks.org/             https://unitedstateslibraryofcongress.demdex.net             https://www.youtube-nocookie.com/;         frame-ancestors https://loc.gov/ https://*.loc.gov/              https://*.blackbaudcdn.net/ https://*.blackbaud.com/             https://loc.libwizard.com/;         report-uri https://errorlogging.loc.gov/api/51/security/?sentry_key=2176ae0b9acd4cd59297edc0e064cc95&sentry_environment=production ;\", 'x-grace': 'none', 'x-nearside-cache': 'MISS', 'x-nearside-cache-hits': '0', 'Cache-Control': 'no-transform, max-age=86400', 'CF-Cache-Status': 'HIT', 'Age': '7482', 'Accept-Ranges': 'bytes', 'Vary': 'Accept-Encoding', 'Server': 'cloudflare', 'CF-RAY': '8cea70482a07a933-DTW'}\n",
      "https://www.loc.gov/resource/fsa.8d24709/ 200 \n",
      " {'Date': 'Mon, 07 Oct 2024 02:25:05 GMT', 'Content-Type': 'text/html; charset=UTF-8', 'Content-Length': '1336469', 'Connection': 'keep-alive', 'access-control-allow-origin': '*', 'referrer-policy': 'no-referrer-when-downgrade', 'strict-transport-security': 'max-age=3600; preload', 'x-content-type-options': 'nosniff', 'x-frame-options': 'sameorigin', 'etag': '\"73d72a2019198c2eff1cfb3b315d5add\"', 'expires': 'Tue, 08 Oct 2024 02:12:18 GMT', 'content-security-policy': \"block-all-mixed-content;         default-src https://loc.gov/ https://*.loc.gov/ ;         media-src https://loc.gov/ https://*.loc.gov/              https://*.readspeaker.com/             https://*.arcgis.com/ https://*.arcgisonline.com/  https://webapps-cdn.esri.com/             blob:;         worker-src https://loc.gov/ https://*.loc.gov/              blob:;         font-src https://loc.gov/ https://*.loc.gov/              https://*.arcgis.com/ https://*.arcgisonline.com/  https://webapps-cdn.esri.com/             https://ssl.p.jwpcdn.com/             data:;         img-src https://loc.gov/ https://*.loc.gov/              https://congress.gov/ https://*.congress.gov/             https://*.readspeaker.com/             https://*.arcgis.com/ https://*.arcgisonline.com/  https://webapps-cdn.esri.com/             https://*.ssa.gov/             https://dpm.demdex.net/             https://cm.everesttech.net/             https://*.amazonaws.com             data:             blob:;         connect-src https://loc.gov/ https://*.loc.gov/              https://*.arcgis.com/ https://*.arcgisonline.com/  https://webapps-cdn.esri.com/             https://chat-us.libanswers.com/             https://thelibraryofcongress.tt.omtrdc.net/             https://dpm.demdex.net/ \\t        https://d3c605m4lmznjl.cloudfront.net/             https://*.s3.us-east-1.amazonaws.com/;         style-src https://loc.gov/ https://*.loc.gov/              https://*.readspeaker.com/             https://*.arcgis.com/ https://*.arcgisonline.com/  https://webapps-cdn.esri.com/             https://ssl.p.jwpcdn.com/             https://assets.adobedtm.com/             https://*.ssa.gov/             'unsafe-inline'             blob:;         script-src https://loc.gov/ https://*.loc.gov/              https://*.readspeaker.com/             https://*.arcgis.com/ https://*.arcgisonline.com/  https://webapps-cdn.esri.com/             https://ssl.p.jwpcdn.com/             https://assets.adobedtm.com/             https://*.blackbaudcdn.net/ https://*.blackbaud.com/             https://ajax.googleapis.com/ajax/libs/jquery/             https://*.ssa.gov/             https://s.ytimg.com/             'unsafe-inline'             'unsafe-eval';         frame-src https://loc.gov/ https://*.loc.gov/              https://*.readspeaker.com/             https://*.blackbaudcdn.net/ https://*.blackbaud.com/             https://www.nlstalkingbooks.org/             https://unitedstateslibraryofcongress.demdex.net             https://www.youtube-nocookie.com/;         frame-ancestors https://loc.gov/ https://*.loc.gov/              https://*.blackbaudcdn.net/ https://*.blackbaud.com/             https://loc.libwizard.com/;         report-uri https://errorlogging.loc.gov/api/51/security/?sentry_key=2176ae0b9acd4cd59297edc0e064cc95&sentry_environment=production ;\", 'x-grace': 'none', 'x-nearside-cache': 'MISS', 'x-nearside-cache-hits': '0', 'Cache-Control': 'no-transform, max-age=86400', 'CF-Cache-Status': 'HIT', 'Age': '766', 'Accept-Ranges': 'bytes', 'Vary': 'Accept-Encoding', 'Server': 'cloudflare', 'CF-RAY': '8cea7049fb2ca942-DTW'}\n",
      "https://www.loc.gov/resource/highsm.64003/ 200 \n",
      " {'Date': 'Mon, 07 Oct 2024 02:25:05 GMT', 'Content-Type': 'text/html; charset=UTF-8', 'Content-Length': '1339235', 'Connection': 'keep-alive', 'access-control-allow-origin': '*', 'referrer-policy': 'no-referrer-when-downgrade', 'strict-transport-security': 'max-age=3600; preload', 'x-content-type-options': 'nosniff', 'x-frame-options': 'sameorigin', 'etag': '\"bfa82fcaf21c3904ced292aee8424d79\"', 'expires': 'Tue, 08 Oct 2024 02:13:19 GMT', 'content-security-policy': \"block-all-mixed-content;         default-src https://loc.gov/ https://*.loc.gov/ ;         media-src https://loc.gov/ https://*.loc.gov/              https://*.readspeaker.com/             https://*.arcgis.com/ https://*.arcgisonline.com/  https://webapps-cdn.esri.com/             blob:;         worker-src https://loc.gov/ https://*.loc.gov/              blob:;         font-src https://loc.gov/ https://*.loc.gov/              https://*.arcgis.com/ https://*.arcgisonline.com/  https://webapps-cdn.esri.com/             https://ssl.p.jwpcdn.com/             data:;         img-src https://loc.gov/ https://*.loc.gov/              https://congress.gov/ https://*.congress.gov/             https://*.readspeaker.com/             https://*.arcgis.com/ https://*.arcgisonline.com/  https://webapps-cdn.esri.com/             https://*.ssa.gov/             https://dpm.demdex.net/             https://cm.everesttech.net/             https://*.amazonaws.com             data:             blob:;         connect-src https://loc.gov/ https://*.loc.gov/              https://*.arcgis.com/ https://*.arcgisonline.com/  https://webapps-cdn.esri.com/             https://chat-us.libanswers.com/             https://thelibraryofcongress.tt.omtrdc.net/             https://dpm.demdex.net/ \\t        https://d3c605m4lmznjl.cloudfront.net/             https://*.s3.us-east-1.amazonaws.com/;         style-src https://loc.gov/ https://*.loc.gov/              https://*.readspeaker.com/             https://*.arcgis.com/ https://*.arcgisonline.com/  https://webapps-cdn.esri.com/             https://ssl.p.jwpcdn.com/             https://assets.adobedtm.com/             https://*.ssa.gov/             'unsafe-inline'             blob:;         script-src https://loc.gov/ https://*.loc.gov/              https://*.readspeaker.com/             https://*.arcgis.com/ https://*.arcgisonline.com/  https://webapps-cdn.esri.com/             https://ssl.p.jwpcdn.com/             https://assets.adobedtm.com/             https://*.blackbaudcdn.net/ https://*.blackbaud.com/             https://ajax.googleapis.com/ajax/libs/jquery/             https://*.ssa.gov/             https://s.ytimg.com/             'unsafe-inline'             'unsafe-eval';         frame-src https://loc.gov/ https://*.loc.gov/              https://*.readspeaker.com/             https://*.blackbaudcdn.net/ https://*.blackbaud.com/             https://www.nlstalkingbooks.org/             https://unitedstateslibraryofcongress.demdex.net             https://www.youtube-nocookie.com/;         frame-ancestors https://loc.gov/ https://*.loc.gov/              https://*.blackbaudcdn.net/ https://*.blackbaud.com/             https://loc.libwizard.com/;         report-uri https://errorlogging.loc.gov/api/51/security/?sentry_key=2176ae0b9acd4cd59297edc0e064cc95&sentry_environment=production ;\", 'x-grace': 'none', 'x-nearside-cache': 'MISS', 'x-nearside-cache-hits': '0', 'Cache-Control': 'no-transform, max-age=86400', 'CF-Cache-Status': 'HIT', 'Age': '705', 'Accept-Ranges': 'bytes', 'Vary': 'Accept-Encoding', 'Server': 'cloudflare', 'CF-RAY': '8cea704b9848a92d-DTW'}\n"
     ]
    }
   ],
   "source": [
    "for resource in resource_list:\n",
    "    r = requests.get(url + resource)\n",
    "    print(r.url, r.status_code, '\\n', r.headers)"
   ]
  },
  {
   "cell_type": "markdown",
   "metadata": {},
   "source": [
    "You can look at the headers as a dictionary:"
   ]
  },
  {
   "cell_type": "code",
   "execution_count": 16,
   "metadata": {},
   "outputs": [
    {
     "name": "stdout",
     "output_type": "stream",
     "text": [
      "https://www.loc.gov/resource/cph.3f05183/ 200\n",
      "Date : Mon, 07 Oct 2024 02:29:14 GMT\n",
      "Content-Type : text/html; charset=UTF-8\n",
      "Content-Length : 1335612\n",
      "Connection : keep-alive\n",
      "access-control-allow-origin : *\n",
      "referrer-policy : no-referrer-when-downgrade\n",
      "strict-transport-security : max-age=3600; preload\n",
      "x-content-type-options : nosniff\n",
      "x-frame-options : sameorigin\n",
      "etag : \"5e37d63134a4b421208621073554d45b\"\n",
      "expires : Tue, 08 Oct 2024 00:20:22 GMT\n",
      "content-security-policy : block-all-mixed-content;         default-src https://loc.gov/ https://*.loc.gov/ ;         media-src https://loc.gov/ https://*.loc.gov/              https://*.readspeaker.com/             https://*.arcgis.com/ https://*.arcgisonline.com/  https://webapps-cdn.esri.com/             blob:;         worker-src https://loc.gov/ https://*.loc.gov/              blob:;         font-src https://loc.gov/ https://*.loc.gov/              https://*.arcgis.com/ https://*.arcgisonline.com/  https://webapps-cdn.esri.com/             https://ssl.p.jwpcdn.com/             data:;         img-src https://loc.gov/ https://*.loc.gov/              https://congress.gov/ https://*.congress.gov/             https://*.readspeaker.com/             https://*.arcgis.com/ https://*.arcgisonline.com/  https://webapps-cdn.esri.com/             https://*.ssa.gov/             https://dpm.demdex.net/             https://cm.everesttech.net/             https://*.amazonaws.com             data:             blob:;         connect-src https://loc.gov/ https://*.loc.gov/              https://*.arcgis.com/ https://*.arcgisonline.com/  https://webapps-cdn.esri.com/             https://chat-us.libanswers.com/             https://thelibraryofcongress.tt.omtrdc.net/             https://dpm.demdex.net/ \t        https://d3c605m4lmznjl.cloudfront.net/             https://*.s3.us-east-1.amazonaws.com/;         style-src https://loc.gov/ https://*.loc.gov/              https://*.readspeaker.com/             https://*.arcgis.com/ https://*.arcgisonline.com/  https://webapps-cdn.esri.com/             https://ssl.p.jwpcdn.com/             https://assets.adobedtm.com/             https://*.ssa.gov/             'unsafe-inline'             blob:;         script-src https://loc.gov/ https://*.loc.gov/              https://*.readspeaker.com/             https://*.arcgis.com/ https://*.arcgisonline.com/  https://webapps-cdn.esri.com/             https://ssl.p.jwpcdn.com/             https://assets.adobedtm.com/             https://*.blackbaudcdn.net/ https://*.blackbaud.com/             https://ajax.googleapis.com/ajax/libs/jquery/             https://*.ssa.gov/             https://s.ytimg.com/             'unsafe-inline'             'unsafe-eval';         frame-src https://loc.gov/ https://*.loc.gov/              https://*.readspeaker.com/             https://*.blackbaudcdn.net/ https://*.blackbaud.com/             https://www.nlstalkingbooks.org/             https://unitedstateslibraryofcongress.demdex.net             https://www.youtube-nocookie.com/;         frame-ancestors https://loc.gov/ https://*.loc.gov/              https://*.blackbaudcdn.net/ https://*.blackbaud.com/             https://loc.libwizard.com/;         report-uri https://errorlogging.loc.gov/api/51/security/?sentry_key=2176ae0b9acd4cd59297edc0e064cc95&sentry_environment=production ;\n",
      "x-grace : none\n",
      "x-nearside-cache : MISS\n",
      "x-nearside-cache-hits : 0\n",
      "Cache-Control : no-transform, max-age=86400\n",
      "CF-Cache-Status : HIT\n",
      "Age : 7731\n",
      "Accept-Ranges : bytes\n",
      "Vary : Accept-Encoding\n",
      "Server : cloudflare\n",
      "CF-RAY : 8cea765f3e7af269-DTW\n"
     ]
    }
   ],
   "source": [
    "r = requests.get(url + resource_list[0])\n",
    "print(r.url, r.status_code)\n",
    "headers = r.headers\n",
    "for header in headers:\n",
    "    print(header, ':', headers[header])"
   ]
  },
  {
   "cell_type": "markdown",
   "metadata": {},
   "source": [
    "Or, look at the content of the response:"
   ]
  },
  {
   "cell_type": "code",
   "execution_count": 17,
   "metadata": {},
   "outputs": [
    {
     "name": "stdout",
     "output_type": "stream",
     "text": [
      "https://www.loc.gov/resource/cph.3f05183/ 200\n"
     ]
    },
    {
     "data": {
      "text/plain": [
       "'<!DOCTYPE html>\\n\\n\\n<html lang=\"en\" class=\"no-js\" prefix=\"lc: http://loc.gov/#\">\\n<head>\\n\\n    \\n<meta charset=\"utf-8\">\\n<meta name=\"viewport\" content=\"width=device-width,initial-scale=1\"/>\\n<meta http-equiv=\"X-UA-Compatible\" content=\"IE=edge\">\\n<meta name=\"version\" content=\"$Revision$\"/>\\n<meta name=\"msvalidate.01\" content=\"5C89FB9D99590AB2F55BD95C3A59BD81\"/>\\n<link title=\"schema(DC)\" rel=\"schema.dc\" href=\"http://purl.org/dc/elements/1.1/\"/>\\n<meta name=\"dc.language\" content=\"eng\" />\\n<meta name=\"dc.source'"
      ]
     },
     "execution_count": 17,
     "metadata": {},
     "output_type": "execute_result"
    }
   ],
   "source": [
    "r = requests.get(url + resource_list[0])\n",
    "print(r.url, r.status_code)\n",
    "r.text[:500]"
   ]
  },
  {
   "cell_type": "markdown",
   "metadata": {},
   "source": [
    "## Adding variables (i.e., parameters) to a request\n",
    "\n",
    "The pattern here is, adding `key=value` after a `?`...\n",
    "\n",
    "For example, we can look for the LCCNs if we ask for a JSON response ..."
   ]
  },
  {
   "cell_type": "code",
   "execution_count": 18,
   "metadata": {},
   "outputs": [
    {
     "name": "stdout",
     "output_type": "stream",
     "text": [
      "https://www.loc.gov/resource/cph.3f05183/ 200\n",
      "https://www.loc.gov/resource/fsa.8d24709/ 200\n",
      "https://www.loc.gov/resource/highsm.64003/ 200\n"
     ]
    }
   ],
   "source": [
    "for resource in resource_list:\n",
    "    r = requests.get(url + resource)\n",
    "    print(r.url, r.status_code)"
   ]
  },
  {
   "cell_type": "code",
   "execution_count": 19,
   "metadata": {},
   "outputs": [
    {
     "name": "stdout",
     "output_type": "stream",
     "text": [
      "https://www.loc.gov/resource/cph.3f05183/?fo=json 200\n",
      "https://www.loc.gov/resource/fsa.8d24709/?fo=json 200\n",
      "https://www.loc.gov/resource/highsm.64003/?fo=json 200\n"
     ]
    }
   ],
   "source": [
    "params = {'fo': 'json'}\n",
    "for resource in resource_list:\n",
    "    r = requests.get(url + resource, params=params)\n",
    "    print(r.url, r.status_code)"
   ]
  },
  {
   "cell_type": "code",
   "execution_count": 43,
   "metadata": {},
   "outputs": [
    {
     "name": "stdout",
     "output_type": "stream",
     "text": [
      "https://www.loc.gov/resource/cph.3f05183/?fo=json 200\n",
      "98508155\n",
      "https://www.loc.gov/resource/fsa.8d24709/?fo=json 200\n",
      "2017843202\n",
      "https://www.loc.gov/resource/highsm.64003/?fo=json 200\n",
      "2020722343\n"
     ]
    }
   ],
   "source": [
    "params = {'fo': 'json'}\n",
    "for resource in resource_list:\n",
    "    r = requests.get(url + resource, params=params)\n",
    "    print(r.url, r.status_code)\n",
    "    r_data = r.json()\n",
    "    lccn = r_data['item']['library_of_congress_control_number']\n",
    "    print(lccn)"
   ]
  },
  {
   "cell_type": "code",
   "execution_count": 48,
   "metadata": {},
   "outputs": [
    {
     "name": "stdout",
     "output_type": "stream",
     "text": [
      "https://www.loc.gov/resource/cph.3f05183/?fo=json 200\n",
      "Access JSON data:\n",
      "  LCCN is:\n",
      "     98508155\n",
      "https://www.loc.gov/resource/fsa.8d24709/?fo=json 200\n",
      "Access JSON data:\n",
      "  LCCN is:\n",
      "     2017843202\n",
      "https://www.loc.gov/resource/highsm.64003/?fo=json 200\n",
      "Access JSON data:\n",
      "  LCCN is:\n",
      "     2020722343\n"
     ]
    }
   ],
   "source": [
    "params = {'fo':'json'}\n",
    "for resource in resource_list:\n",
    "    r = requests.get(url + resource, params=params)\n",
    "    print(r.url, r.status_code)\n",
    "    print('Access JSON data:')\n",
    "    data = r.json()\n",
    "    print('  LCCN is:')\n",
    "    print('    ',data['item']['library_of_congress_control_number'])"
   ]
  },
  {
   "cell_type": "markdown",
   "metadata": {},
   "source": [
    "## Try some different URI patterns\n",
    "\n",
    "How, for example, would you find the DublinCore metadata for these given items?\n",
    "\n",
    "We know, for example, that the LCCN permalink, plus, `/dc` should return this. So ..."
   ]
  },
  {
   "cell_type": "code",
   "execution_count": 44,
   "metadata": {},
   "outputs": [
    {
     "name": "stdout",
     "output_type": "stream",
     "text": [
      "https://www.loc.gov/resource/cph.3f05183/?fo=json 200\n",
      "https://lccn.loc.gov/98508155/dc\n",
      "<?xml version=\"1.0\" encoding=\"UTF-8\"?><srw_dc:dc xmlns:srw_dc=\"info:srw/schema/1/dc-schema\" xmlns:zs=\"http://docs.oasis-open.org/ns/search-ws/sruResponse\" xmlns:xsi=\"http://www.w3.org/2001/XMLSchema-instance\" xsi:schemaLocation=\"info:srw/schema/1/dc-schema http://www.loc.gov/standards/sru/resources/dc-schema.xsd\">\n",
      "  <title xmlns=\"http://purl.org/dc/elements/1.1/\">For greater knowledge on more subjects use your library more often [graphic].</title>\n",
      "  <creator xmlns=\"http://purl.org/dc/elements/1.1/\">Federal Art Project, sponsor.</creator>\n",
      "  <type xmlns=\"http://purl.org/dc/elements/1.1/\">still image</type>\n",
      "  <type xmlns=\"http://purl.org/dc/elements/1.1/\">Posters 1930-1950. gmgpc</type>\n",
      "  <type xmlns=\"http://purl.org/dc/elements/1.1/\">Screen prints Color 1930-1950. gmgpc</type>\n",
      "  <publisher xmlns=\"http://purl.org/dc/elements/1.1/\">Chicago : Illinois WPA Art Project,</publisher>\n",
      "  <date xmlns=\"http://purl.org/dc/elements/1.1/\">[between 1936 and 1941]</date>\n",
      "  <language xmlns=\"http://purl.org/dc/elements/1.1/\">   </language>\n",
      "  <description xmlns=\"http://purl.org/dc/elements/1.1/\">Poster showing a mortarboard and a pair of glasses superimposed over a globe, promoting use of libraries.</description>\n",
      "  <description xmlns=\"http://purl.org/dc/elements/1.1/\">Work Projects Administration Poster Collection (Library of Congress).</description>\n",
      "  <description xmlns=\"http://purl.org/dc/elements/1.1/\">Date stamped on verso: Jan 24 1941.</description>\n",
      "  <subject xmlns=\"http://purl.org/dc/elements/1.1/\">Libraries--Illinois--Chicago--1930-1950.</subject>\n",
      "  <subject xmlns=\"http://purl.org/dc/elements/1.1/\">Education--Illinois--Chicago--1930-1950.</subject>\n",
      "  <identifier xmlns=\"http://purl.org/dc/elements/1.1/\">http://hdl.loc.gov/loc.pnp/cph.3f05183</identifier>\n",
      "  <rights xmlns=\"http://purl.org/dc/elements/1.1/\">No known restrictions on publication.</rights>\n",
      "</srw_dc:dc>\n",
      "\n",
      "https://www.loc.gov/resource/fsa.8d24709/?fo=json 200\n",
      "https://lccn.loc.gov/2017843202/dc\n",
      "<?xml version=\"1.0\" encoding=\"UTF-8\"?><srw_dc:dc xmlns:srw_dc=\"info:srw/schema/1/dc-schema\" xmlns:zs=\"http://docs.oasis-open.org/ns/search-ws/sruResponse\" xmlns:xsi=\"http://www.w3.org/2001/XMLSchema-instance\" xsi:schemaLocation=\"info:srw/schema/1/dc-schema http://www.loc.gov/standards/sru/resources/dc-schema.xsd\">\n",
      "  <title xmlns=\"http://purl.org/dc/elements/1.1/\">Daytona Beach, Florida. Bethune-Cookman College. Students in the library reading room [graphic].</title>\n",
      "  <creator xmlns=\"http://purl.org/dc/elements/1.1/\">Parks, Gordon, 1912-2006, photographer.</creator>\n",
      "  <type xmlns=\"http://purl.org/dc/elements/1.1/\">still image</type>\n",
      "  <type xmlns=\"http://purl.org/dc/elements/1.1/\">Nitrate negatives. gmgpc</type>\n",
      "  <publisher xmlns=\"http://purl.org/dc/elements/1.1/\"/>\n",
      "  <date xmlns=\"http://purl.org/dc/elements/1.1/\">1943 Jan.</date>\n",
      "  <language xmlns=\"http://purl.org/dc/elements/1.1/\">eng</language>\n",
      "  <description xmlns=\"http://purl.org/dc/elements/1.1/\">Title and other information from caption card.</description>\n",
      "  <description xmlns=\"http://purl.org/dc/elements/1.1/\">United States. Office of War Information. Overseas Picture Division. Washington Division;</description>\n",
      "  <description xmlns=\"http://purl.org/dc/elements/1.1/\">More information about the FSA/OWI Collection is available at</description>\n",
      "  <coverage xmlns=\"http://purl.org/dc/elements/1.1/\">United States Volusia County Daytona Beach.</coverage>\n",
      "  <relation xmlns=\"http://purl.org/dc/elements/1.1/\">Farm Security Administration - Office of War Information photograph collection (Library of Congress)</relation>\n",
      "  <identifier xmlns=\"http://purl.org/dc/elements/1.1/\">http://hdl.loc.gov/loc.pnp/fsa.8d24709</identifier>\n",
      "  <rights xmlns=\"http://purl.org/dc/elements/1.1/\">No known restrictions. For information, see U.S. Farm Security Administration/Office of War Information Black &amp; White Photographs</rights>\n",
      "</srw_dc:dc>\n",
      "\n",
      "https://www.loc.gov/resource/highsm.64003/?fo=json 200\n",
      "https://lccn.loc.gov/2020722343/dc\n",
      "<?xml version=\"1.0\" encoding=\"UTF-8\"?><srw_dc:dc xmlns:srw_dc=\"info:srw/schema/1/dc-schema\" xmlns:zs=\"http://docs.oasis-open.org/ns/search-ws/sruResponse\" xmlns:xsi=\"http://www.w3.org/2001/XMLSchema-instance\" xsi:schemaLocation=\"info:srw/schema/1/dc-schema http://www.loc.gov/standards/sru/resources/dc-schema.xsd\">\n",
      "  <title xmlns=\"http://purl.org/dc/elements/1.1/\">An appropriately decorated \"Bookmobile\" bus belonging to the Perry County Public Library in Hazard, a coal town of 4,500 or so population in the hills of southeastern Kentucky [graphic].</title>\n",
      "  <creator xmlns=\"http://purl.org/dc/elements/1.1/\">Highsmith, Carol M., 1946- photographer.</creator>\n",
      "  <type xmlns=\"http://purl.org/dc/elements/1.1/\">still image</type>\n",
      "  <type xmlns=\"http://purl.org/dc/elements/1.1/\">Digital photographs Color 2020. gmgpc</type>\n",
      "  <publisher xmlns=\"http://purl.org/dc/elements/1.1/\"/>\n",
      "  <date xmlns=\"http://purl.org/dc/elements/1.1/\">2020-07-19.</date>\n",
      "  <language xmlns=\"http://purl.org/dc/elements/1.1/\">eng</language>\n",
      "  <description xmlns=\"http://purl.org/dc/elements/1.1/\">Title, date, keywords, and additional description details based on information provided by the photographer.</description>\n",
      "  <description xmlns=\"http://purl.org/dc/elements/1.1/\">The small city was named for Oliver Hazard Perry (and the surrounding county is Perry County). Perry was a prominent naval hero in the early years of the American nation, famous for popularizing another mariner's cry, \"Don't give up the ship.\"</description>\n",
      "  <description xmlns=\"http://purl.org/dc/elements/1.1/\">Carol M. Highsmith Photography, Inc.;</description>\n",
      "  <description xmlns=\"http://purl.org/dc/elements/1.1/\">Forms part of Carol M. Highsmith's America Project in the Carol M. Highsmith Archive.</description>\n",
      "  <subject xmlns=\"http://purl.org/dc/elements/1.1/\">America Bookmobiles Perry County Public Library Oliver Hazard Perry</subject>\n",
      "  <coverage xmlns=\"http://purl.org/dc/elements/1.1/\">United States Kentucky  Perry County  Hazard.</coverage>\n",
      "  <relation xmlns=\"http://purl.org/dc/elements/1.1/\">Carol M. Highsmith Archive.</relation>\n",
      "  <identifier xmlns=\"http://purl.org/dc/elements/1.1/\">https://hdl.loc.gov/loc.pnp/highsm.64003</identifier>\n",
      "  <rights xmlns=\"http://purl.org/dc/elements/1.1/\">No known restrictions on publication.</rights>\n",
      "</srw_dc:dc>\n",
      "\n"
     ]
    }
   ],
   "source": [
    "params = {'fo': 'json'}\n",
    "for resource in resource_list:\n",
    "    r = requests.get(url + resource, params=params)\n",
    "    print(r.url, r.status_code)\n",
    "    r_data = r.json()\n",
    "    lccn = r_data['item']['library_of_congress_control_number']\n",
    "    dc_url = lccn_url + lccn + '/dc'\n",
    "    print(dc_url)\n",
    "    dublincore = requests.get(dc_url)\n",
    "    print(dublincore.text)"
   ]
  },
  {
   "cell_type": "markdown",
   "metadata": {},
   "source": [
    "Similarly, you can request `mods`:"
   ]
  },
  {
   "cell_type": "code",
   "execution_count": 45,
   "metadata": {},
   "outputs": [
    {
     "name": "stdout",
     "output_type": "stream",
     "text": [
      "https://www.loc.gov/resource/cph.3f05183/?fo=json 200\n",
      "https://lccn.loc.gov/98508155/mods\n",
      "<?xml version=\"1.0\" encoding=\"UTF-8\"?><error>System Temporarily Unavailable. <a href=\"https://lccn.loc.gov/98508155\">Retry</a>\n",
      "</error>\n",
      "\n",
      "https://www.loc.gov/resource/fsa.8d24709/?fo=json 200\n",
      "https://lccn.loc.gov/2017843202/mods\n",
      "<?xml version=\"1.0\" encoding=\"UTF-8\"?><error>System Temporarily Unavailable. <a href=\"https://lccn.loc.gov/2017843202\">Retry</a>\n",
      "</error>\n",
      "\n",
      "https://www.loc.gov/resource/highsm.64003/?fo=json 200\n",
      "https://lccn.loc.gov/2020722343/mods\n",
      "<?xml version=\"1.0\" encoding=\"UTF-8\"?><error>System Temporarily Unavailable. <a href=\"https://lccn.loc.gov/2020722343\">Retry</a>\n",
      "</error>\n",
      "\n"
     ]
    }
   ],
   "source": [
    "params = {'fo': 'json'}\n",
    "for resource in resource_list:\n",
    "    r = requests.get(url + resource, params=params)\n",
    "    print(r.url, r.status_code)\n",
    "    r_data = r.json()\n",
    "    lccn = r_data['item']['library_of_congress_control_number']\n",
    "    mods_url = lccn_url + lccn + '/mods'\n",
    "    print(mods_url)\n",
    "    mods_rec = requests.get(mods_url)\n",
    "    print(mods_rec.text)"
   ]
  }
 ],
 "metadata": {
  "kernelspec": {
   "display_name": "base",
   "language": "python",
   "name": "python3"
  },
  "language_info": {
   "codemirror_mode": {
    "name": "ipython",
    "version": 3
   },
   "file_extension": ".py",
   "mimetype": "text/x-python",
   "name": "python",
   "nbconvert_exporter": "python",
   "pygments_lexer": "ipython3",
   "version": "3.9.18"
  }
 },
 "nbformat": 4,
 "nbformat_minor": 2
}
