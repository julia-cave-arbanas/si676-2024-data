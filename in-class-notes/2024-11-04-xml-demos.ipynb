{
 "cells": [
  {
   "cell_type": "markdown",
   "metadata": {},
   "source": [
    "# Class Demos for Nov 4, 2024\n",
    "\n",
    "XML and Python demonstrations in class, November 4, 2024"
   ]
  },
  {
   "cell_type": "code",
   "execution_count": 1,
   "metadata": {},
   "outputs": [],
   "source": [
    "import xml.etree.ElementTree as ET\n",
    "from lxml import etree"
   ]
  },
  {
   "cell_type": "code",
   "execution_count": 2,
   "metadata": {},
   "outputs": [],
   "source": [
    "superior_papers_ead = '../data/xml/superior-papers-complete.xml'"
   ]
  },
  {
   "cell_type": "code",
   "execution_count": 3,
   "metadata": {},
   "outputs": [],
   "source": [
    "tree = ET.parse(superior_papers_ead)"
   ]
  },
  {
   "cell_type": "code",
   "execution_count": 4,
   "metadata": {},
   "outputs": [
    {
     "data": {
      "text/plain": [
       "xml.etree.ElementTree.ElementTree"
      ]
     },
     "execution_count": 4,
     "metadata": {},
     "output_type": "execute_result"
    }
   ],
   "source": [
    "type(tree)"
   ]
  },
  {
   "cell_type": "code",
   "execution_count": 5,
   "metadata": {},
   "outputs": [
    {
     "name": "stdout",
     "output_type": "stream",
     "text": [
      "[<Element '{http://ead3.archivists.org/schema/}control' at 0x7fbb786252c0>, <Element '{http://ead3.archivists.org/schema/}archdesc' at 0x7fbb680657c0>]\n"
     ]
    }
   ],
   "source": [
    "root = tree.getroot()\n",
    "\n",
    "print(root[:150])"
   ]
  },
  {
   "cell_type": "code",
   "execution_count": 6,
   "metadata": {},
   "outputs": [
    {
     "name": "stdout",
     "output_type": "stream",
     "text": [
      "{http://ead3.archivists.org/schema/}control\n",
      "{http://ead3.archivists.org/schema/}archdesc\n"
     ]
    }
   ],
   "source": [
    "for element in root:\n",
    "    print(element.tag)"
   ]
  },
  {
   "cell_type": "code",
   "execution_count": null,
   "metadata": {},
   "outputs": [
    {
     "name": "stdout",
     "output_type": "stream",
     "text": [
      "{http://ead3.archivists.org/schema/}control {'countryencoding': 'iso3166-1', 'dateencoding': 'iso8601', 'langencoding': 'iso639-2b', 'relatedencoding': 'marc', 'repositoryencoding': 'iso15511', 'scriptencoding': 'iso15924'}\n"
     ]
    }
   ],
   "source": [
    "control = root.find('{http://ead3.archivists.org/schema/}control')\n",
    "\n",
    "print(control.tag, control.attrib)"
   ]
  },
  {
   "cell_type": "code",
   "execution_count": 10,
   "metadata": {},
   "outputs": [
    {
     "name": "stdout",
     "output_type": "stream",
     "text": [
      "{http://ead3.archivists.org/schema/}control None\n"
     ]
    }
   ],
   "source": [
    "control = root.find('{http://ead3.archivists.org/schema/}control')\n",
    "\n",
    "print(control.tag, control.text)"
   ]
  },
  {
   "cell_type": "code",
   "execution_count": null,
   "metadata": {},
   "outputs": [
    {
     "name": "stdout",
     "output_type": "stream",
     "text": [
      "{http://ead3.archivists.org/schema/}recordid 00-1332\n"
     ]
    }
   ],
   "source": [
    "recordid = root.find('{http://ead3.archivists.org/schema/}control/{http://ead3.archivists.org/schema/}recordid')\n",
    "\n",
    "print(recordid.tag, recordid.text)"
   ]
  },
  {
   "cell_type": "code",
   "execution_count": 12,
   "metadata": {},
   "outputs": [
    {
     "name": "stdout",
     "output_type": "stream",
     "text": [
      "00-1332\n"
     ]
    }
   ],
   "source": [
    "recordid = root.find('{http://ead3.archivists.org/schema/}control/{http://ead3.archivists.org/schema/}recordid')\n",
    "\n",
    "recordIDupdatable = recordid.text\n",
    "\n",
    "print(recordIDupdatable)"
   ]
  },
  {
   "cell_type": "markdown",
   "metadata": {},
   "source": [
    "### Namespaces in XML\n",
    "\n",
    "Working with namespaces in XML"
   ]
  },
  {
   "cell_type": "code",
   "execution_count": 13,
   "metadata": {},
   "outputs": [],
   "source": [
    "ns = {\n",
    "    'ead' : 'http://ead3.archivists.org/schema/',\n",
    "    'dcterms' : 'http://purl.org/dc/elements/1.1/'\n",
    "}"
   ]
  },
  {
   "cell_type": "code",
   "execution_count": 14,
   "metadata": {},
   "outputs": [
    {
     "name": "stdout",
     "output_type": "stream",
     "text": [
      "{http://ead3.archivists.org/schema/}ead\n"
     ]
    }
   ],
   "source": [
    "print(root.tag)"
   ]
  },
  {
   "cell_type": "code",
   "execution_count": 15,
   "metadata": {},
   "outputs": [
    {
     "name": "stdout",
     "output_type": "stream",
     "text": [
      "{http://ead3.archivists.org/schema/}control {'countryencoding': 'iso3166-1', 'dateencoding': 'iso8601', 'langencoding': 'iso639-2b', 'relatedencoding': 'marc', 'repositoryencoding': 'iso15511', 'scriptencoding': 'iso15924'}\n"
     ]
    }
   ],
   "source": [
    "control = root.find('ead:control', ns)\n",
    "\n",
    "print(control.tag, control.attrib)"
   ]
  }
 ],
 "metadata": {
  "kernelspec": {
   "display_name": "base",
   "language": "python",
   "name": "python3"
  },
  "language_info": {
   "codemirror_mode": {
    "name": "ipython",
    "version": 3
   },
   "file_extension": ".py",
   "mimetype": "text/x-python",
   "name": "python",
   "nbconvert_exporter": "python",
   "pygments_lexer": "ipython3",
   "version": "3.9.18"
  }
 },
 "nbformat": 4,
 "nbformat_minor": 2
}
