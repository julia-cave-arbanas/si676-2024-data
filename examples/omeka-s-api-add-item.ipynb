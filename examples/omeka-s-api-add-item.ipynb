{
 "cells": [
  {
   "cell_type": "markdown",
   "metadata": {},
   "source": [
    "# Adding an Item with the Omeka S API\n",
    "\n",
    "The \"basics\" of accessing the API, including authentication and querying item lists, are covered in the previous notebook\n",
    "[`omeka-s-api-basics.ipynb`](omeka-s-api-basics.ipynb).\n",
    "\n",
    "For some (dated 2019) advice on doing this with `curl` see: https://forum.omeka.org/t/example-api-usage-using-curl/8083. \n",
    "\n",
    "Since this is a standalone notebook, go through the setup and authentication again:"
   ]
  },
  {
   "cell_type": "code",
   "execution_count": null,
   "metadata": {},
   "outputs": [],
   "source": [
    "import requests\n",
    "import json"
   ]
  },
  {
   "cell_type": "code",
   "execution_count": null,
   "metadata": {},
   "outputs": [],
   "source": [
    "# establish API location/endpoints\n",
    "\n",
    "siteUrl = 'http://jajohnst.si676.si.umich.edu/omeka-s' # if you replicate this example, provide the URI for your site\n",
    "endpoint = '/api'"
   ]
  },
  {
   "cell_type": "code",
   "execution_count": null,
   "metadata": {},
   "outputs": [],
   "source": [
    "def get_credentials(credential_file_path):\n",
    "    '''Retrieve Omeka S Api credentials from another file. \n",
    "    That file must be a JSON file.'''\n",
    "\n",
    "    with open(credential_file_path, 'r') as credentials:\n",
    "        keys = json.load(credentials)\n",
    "    \n",
    "    return keys['key_identity'], keys['key_credential']\n",
    "\n",
    "key_identity, key_credential = get_credentials('../collection-project/omeka-credentials.json')\n"
   ]
  },
  {
   "cell_type": "code",
   "execution_count": null,
   "metadata": {},
   "outputs": [],
   "source": [
    "print(key_credential, key_identity)"
   ]
  },
  {
   "cell_type": "markdown",
   "metadata": {},
   "source": [
    "## Use the Omeka S API to add a new item\n",
    "\n",
    "The process involves the data for the new item, then\n",
    "using a `post` request to add the item via the API. "
   ]
  },
  {
   "cell_type": "code",
   "execution_count": null,
   "metadata": {},
   "outputs": [],
   "source": [
    "action = '/items'\n",
    "\n",
    "parameters = {\n",
    "    'key_credential': key_credential,\n",
    "    'key_identity'  : key_identity\n",
    "}\n",
    "\n",
    "headers = {\n",
    "    'Content-Type': 'application/json'\n",
    "}"
   ]
  },
  {
   "cell_type": "code",
   "execution_count": null,
   "metadata": {},
   "outputs": [],
   "source": [
    "# create data for a new item\n",
    "\n",
    "data = { \n",
    "    \"dcterms:title\": [{\n",
    "        \"property_id\": 1,\n",
    "        \"property_label\": \"Title\",\n",
    "        \"@value\": \"A Mere Title for an item created via the API\",\n",
    "        \"type\": \"literal\",\n",
    "        \"@language\": \"en-us\"\n",
    "        }],\n",
    "    \"dcterms:rights\": [{\n",
    "        \"type\": \"literal\",\n",
    "        \"property_id\": 15,\n",
    "        \"property_label\": \"Rights\",\n",
    "        \"is_public\": True,\n",
    "        \"@value\": \"No known restrictions on publication.\",\n",
    "        \"@language\": \"en-us\"\n",
    "        }]\n",
    "    }"
   ]
  },
  {
   "cell_type": "code",
   "execution_count": null,
   "metadata": {},
   "outputs": [],
   "source": [
    "# now, post the data\n",
    "\n",
    "post_item_url = siteUrl + endpoint + action\n",
    "\n",
    "new_item_post = requests.post(post_item_url, headers=headers, params=parameters, data=json.dumps(data))\n",
    "\n",
    "print(new_item_post.url,new_item_post.status_code,'\\n',new_item_post.headers)"
   ]
  },
  {
   "cell_type": "code",
   "execution_count": null,
   "metadata": {},
   "outputs": [],
   "source": [
    "new_item_post.json()"
   ]
  },
  {
   "cell_type": "markdown",
   "metadata": {},
   "source": [
    "## Use the Omeka S API to add a new item with Media\n",
    "\n",
    "The process requires the metadata for the new item,\n",
    "the link to the file (aka \"media\" in Omeka S terms), and\n",
    "then using a `post` request to add the item via the API. "
   ]
  },
  {
   "cell_type": "code",
   "execution_count": null,
   "metadata": {},
   "outputs": [],
   "source": [
    "# example of how you can format the metadata\n",
    "# note that this is a python dictionary, and can then be converted in valid JSON\n",
    "\n",
    "post_data = {\n",
    "    \"dcterms:title\": [\n",
    "        {\n",
    "            \"property_id\": 1,\n",
    "            \"property_label\": \"Title\",\n",
    "            \"@value\": \"An image of an Orca, archived from an old website, and uploaded via the API\",\n",
    "            \"type\": \"literal\"\n",
    "        }\n",
    "    ],\n",
    "    \"@type\": \"o:Item\",\n",
    "    \"o:item_set\": [\n",
    "        {\n",
    "            \"o:id\": 440\n",
    "        }\n",
    "    ],\n",
    "    \"o:media\": [\n",
    "        {\n",
    "            \"o:ingester\": \"upload\",\n",
    "            \"file_index\": \"0\",\n",
    "            \"o:item\": {},\n",
    "            \"dcterms:title\": [\n",
    "                {\n",
    "                    \"property_id\": 1,\n",
    "                    \"property_label\": \"Title\",\n",
    "                    \"@value\": \"Media file for the archived Orca image\",\n",
    "                    \"type\": \"literal\"\n",
    "                }\n",
    "            ]\n",
    "        }\n",
    "    ]\n",
    "}"
   ]
  },
  {
   "cell_type": "markdown",
   "metadata": {},
   "source": [
    "## Trying with `curl`"
   ]
  },
  {
   "cell_type": "code",
   "execution_count": null,
   "metadata": {},
   "outputs": [],
   "source": [
    "post_data = { \"dcterms:title\" : [ {\"property_id\": 1, \"property_label\" : \"Title\", \"@value\" : \"An image of an Orca, archived from an old website, and uploaded via the API\", \"type\" : \"literal\" } ], \"@type\" : \"o:Item\", \"o:item_set\" : [ {\"o:id\": 440}], \"o:media\" : [{\"o:ingester\": \"upload\", \"file_index\": \"0\", \"o:item\": {}, \"dcterms:title\" : [ { \"property_id\" : 1, \"property_label\" : \"Title\", \"@value\" : \"Media file for the archived Orca image\", \"type\" : \"literal\" } ]}] }\n",
    "\n",
    "print(json.dumps(post_data)) # this converts the data into valid JSON"
   ]
  },
  {
   "cell_type": "markdown",
   "metadata": {},
   "source": [
    "This example didn't work, probably because the JSON elements were not formatted correctly:\n",
    "\n",
    "```bash\n",
    "curl -v -F \"data={'dcterms:title': [{'property_id': 1, 'property_label': 'Title', '@value': 'An image of an Orca, archived from an old website, and uploaded via the API', 'type': 'literal'}], '@type': 'o:Item', 'o:item_set': [{'o:id': 441}], 'o:media': [{'o:ingester': 'upload', 'file_index': '0', 'o:item': {}, 'dcterms:title': [{'property_id': 1, 'property_label': 'Title', '@value': 'Media file for the archived Orca image', 'type': 'literal'}]}]}\" -F \"file[0]=@./data/webfiles-samples/image/orca.via_.moc_.noaa_.jpg\" \"http://jajohnst.si676.si.umich.edu/omeka-s/api/items?key_credential=nj0K6JAqnFgeqyP3Kq40SOhl6fiPBXky&key_identity=yAu5NAEEtJCvGx4s8XgJSgvTFjwvLD6j\"\n",
    "```\n",
    "\n",
    "Produced this response:\n",
    "\n",
    "```\n",
    "* processing: http://jajohnst.si676.si.umich.edu/omeka-s/api/items?key_credential=nj0K6JAqnFgeqyP3Kq40SOhl6fiPBXky&key_identity=yAu5NAEEtJCvGx4s8XgJSgvTFjwvLD6j\n",
    "*   Trying 141.211.145.90:80...\n",
    "* Connected to jajohnst.si676.si.umich.edu (141.211.145.90) port 80\n",
    "> POST /omeka-s/api/items?key_credential=nj0K6JAqnFgeqyP3Kq40SOhl6fiPBXky&key_identity=yAu5NAEEtJCvGx4s8XgJSgvTFjwvLD6j HTTP/1.1\n",
    "> Host: jajohnst.si676.si.umich.edu\n",
    "> User-Agent: curl/8.2.1\n",
    "> Accept: */*\n",
    "> Content-Length: 83277\n",
    "> Content-Type: multipart/form-data; boundary=------------------------16ca63cbdb399460\n",
    "> \n",
    "* We are completely uploaded and fine\n",
    "< HTTP/1.1 400 Bad Request\n",
    "< Date: Tue, 19 Nov 2024 15:05:24 GMT\n",
    "< Server: Apache\n",
    "< Omeka-S-Version: 4.1.1\n",
    "< Connection: close\n",
    "< Transfer-Encoding: chunked\n",
    "< Content-Type: application/ld+json\n",
    "< \n",
    "* Closing connection\n",
    "{\"errors\":{\"error\":\"JSON: Syntax error\"}}%\n",
    "```"
   ]
  },
  {
   "cell_type": "markdown",
   "metadata": {},
   "source": [
    "## this worked\n",
    "\n",
    "```bash\n",
    "curl -v -F 'data={\"dcterms:title\": [{\"property_id\": 1, \"property_label\": \"Title\", \"@value\": \"An image of an Orca, archived from an old website, and uploaded via the API\", \"type\": \"literal\"}], \"@type\": \"o:Item\", \"o:item_set\": [{\"o:id\": 441}], \"o:media\": [{\"o:ingester\": \"upload\", \"file_index\": \"0\", \"o:item\": {}, \"dcterms:title\": [{\"property_id\": 1, \"property_label\": \"Title\", \"@value\": \"Media file for the archived Orca image\", \"type\": \"literal\"}]}]}' -F \"file[0]=@./data/webfiles-samples/image/orca.via_.moc_.noaa_.jpg\" \"http://jajohnst.si676.si.umich.edu/omeka-s/api/items?key_credential=nj0K6JAqnFgeqyP3Kq40SOhl6fiPBXky&key_identity=yAu5NAEEtJCvGx4s8XgJSgvTFjwvLD6j\"\n",
    "```"
   ]
  },
  {
   "cell_type": "markdown",
   "metadata": {},
   "source": [
    "### Uploading the media item with Python requests\n",
    "\n",
    "Using the working `curl` command, trying this curl converter to python requests... \n",
    "\n",
    "https://curlconverter.com/"
   ]
  },
  {
   "cell_type": "code",
   "execution_count": null,
   "metadata": {},
   "outputs": [],
   "source": [
    "import requests\n",
    "\n",
    "siteAPI = 'http://jajohnst.si676.si.umich.edu/omeka-s/api'\n",
    "action = '/items'\n",
    "\n",
    "params = {\n",
    "    'key_credential': 'nj0K6JAqnFgeqyP3Kq40SOhl6fiPBXky',\n",
    "    'key_identity': 'yAu5NAEEtJCvGx4s8XgJSgvTFjwvLD6j',\n",
    "}\n",
    "\n",
    "files = {\n",
    "    'data': (None, '{\"dcterms:title\": [{\"property_id\": 1, \"property_label\": \"Title\", \"@value\": \"An image of an Orca, archived from an old website, and uploaded via the API\", \"type\": \"literal\"}], \"@type\": \"o:Item\", \"o:item_set\": [{\"o:id\": 440}], \"o:media\": [{\"o:ingester\": \"upload\", \"file_index\": \"0\", \"o:item\": {}, \"dcterms:title\": [{\"property_id\": 1, \"property_label\": \"Title\", \"@value\": \"Media file for the archived Orca image\", \"type\": \"literal\"}]}]}'),\n",
    "    'file[0]': open('../data/webfiles-samples/image/orca.via_.moc_.noaa_.jpg', 'rb'),\n",
    "}\n",
    "\n",
    "r = requests.post(siteAPI + action, params=params, files=files)\n",
    "\n",
    "print(r.url, r.status_code)"
   ]
  },
  {
   "cell_type": "code",
   "execution_count": null,
   "metadata": {},
   "outputs": [],
   "source": [
    "r.json()"
   ]
  }
 ],
 "metadata": {
  "kernelspec": {
   "display_name": "base",
   "language": "python",
   "name": "python3"
  },
  "language_info": {
   "codemirror_mode": {
    "name": "ipython",
    "version": 3
   },
   "file_extension": ".py",
   "mimetype": "text/x-python",
   "name": "python",
   "nbconvert_exporter": "python",
   "pygments_lexer": "ipython3",
   "version": "3.9.18"
  }
 },
 "nbformat": 4,
 "nbformat_minor": 2
}
