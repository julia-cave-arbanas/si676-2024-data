{
 "cells": [
  {
   "cell_type": "markdown",
   "metadata": {},
   "source": [
    "# Adding an Item with the Omeka S API\n",
    "\n",
    "The \"basics\" of accessing the API, including authentication and querying item lists, are covered in the previous notebook\n",
    "[`omeka-s-api-basics.ipynb`](omeka-s-api-basics.ipynb).\n",
    "\n",
    "Since this is a standalone notebook, go through the setup and authentication again:"
   ]
  },
  {
   "cell_type": "code",
   "execution_count": 1,
   "metadata": {},
   "outputs": [],
   "source": [
    "import requests\n",
    "import json"
   ]
  },
  {
   "cell_type": "code",
   "execution_count": 2,
   "metadata": {},
   "outputs": [],
   "source": [
    "# establish API location/endpoints\n",
    "\n",
    "siteUrl = 'http://jajohnst.si676.si.umich.edu/omeka-s' # if you replicate this example, provide the URI for your site\n",
    "endpoint = '/api'"
   ]
  },
  {
   "cell_type": "code",
   "execution_count": 3,
   "metadata": {},
   "outputs": [],
   "source": [
    "def get_credentials(credential_file_path):\n",
    "    '''Retrieve Omeka S Api credentials from another file. \n",
    "    That file must be a JSON file.'''\n",
    "\n",
    "    with open(credential_file_path, 'r') as credentials:\n",
    "        keys = json.load(credentials)\n",
    "    \n",
    "    return keys['key_identity'], keys['key_credential']\n",
    "\n",
    "key_identity, key_credential = get_credentials('../collection-project/omeka-credentials.json')\n"
   ]
  },
  {
   "cell_type": "markdown",
   "metadata": {},
   "source": [
    "## Use the Omeka S API to add a new item\n",
    "\n",
    "The process involves the data for the new item, then\n",
    "using a `post` request to add the item via the API. "
   ]
  },
  {
   "cell_type": "code",
   "execution_count": 4,
   "metadata": {},
   "outputs": [],
   "source": [
    "action = '/items'\n",
    "\n",
    "parameters = {\n",
    "    'key_credential': key_credential,\n",
    "    'key_identity'  : key_identity\n",
    "}\n",
    "\n",
    "headers = {\n",
    "    'Content-Type': 'application/json'\n",
    "}"
   ]
  },
  {
   "cell_type": "code",
   "execution_count": 5,
   "metadata": {},
   "outputs": [],
   "source": [
    "# create data for a new item\n",
    "\n",
    "data = { \n",
    "    \"dcterms:title\": [{\n",
    "        \"property_id\": 1,\n",
    "        \"property_label\": \"Title\",\n",
    "        \"@value\": \"A Mere Title for an item created via the API\",\n",
    "        \"type\": \"literal\",\n",
    "        \"@language\": \"en-us\"\n",
    "        }],\n",
    "    \"dcterms:rights\": [{\n",
    "        \"type\": \"literal\",\n",
    "        \"property_id\": 15,\n",
    "        \"property_label\": \"Rights\",\n",
    "        \"is_public\": True,\n",
    "        \"@value\": \"No known restrictions on publication.\",\n",
    "        \"@language\": \"en-us\"\n",
    "        }]\n",
    "    }"
   ]
  },
  {
   "cell_type": "code",
   "execution_count": 6,
   "metadata": {},
   "outputs": [
    {
     "name": "stdout",
     "output_type": "stream",
     "text": [
      "http://jajohnst.si676.si.umich.edu/omeka-s/api/items?key_credential=nj0K6JAqnFgeqyP3Kq40SOhl6fiPBXky&key_identity=yAu5NAEEtJCvGx4s8XgJSgvTFjwvLD6j 200 \n",
      " {'Date': 'Mon, 18 Nov 2024 02:53:52 GMT', 'Server': 'Apache', 'Omeka-S-Version': '4.1.1', 'Keep-Alive': 'timeout=5, max=100', 'Connection': 'Keep-Alive', 'Transfer-Encoding': 'chunked', 'Content-Type': 'application/ld+json'}\n"
     ]
    }
   ],
   "source": [
    "# now, post the data\n",
    "\n",
    "post_item_url = siteUrl + endpoint + action\n",
    "\n",
    "new_item_post = requests.post(post_item_url, headers=headers, params=parameters, data=json.dumps(data))\n",
    "\n",
    "print(new_item_post.url,new_item_post.status_code,'\\n',new_item_post.headers)"
   ]
  },
  {
   "cell_type": "code",
   "execution_count": 7,
   "metadata": {},
   "outputs": [
    {
     "data": {
      "text/plain": [
       "{'@context': 'http://jajohnst.si676.si.umich.edu/omeka-s/api-context',\n",
       " '@id': 'http://jajohnst.si676.si.umich.edu/omeka-s/api/items/444',\n",
       " '@type': 'o:Item',\n",
       " 'o:id': 444,\n",
       " 'o:is_public': True,\n",
       " 'o:owner': {'@id': 'http://jajohnst.si676.si.umich.edu/omeka-s/api/users/1',\n",
       "  'o:id': 1},\n",
       " 'o:resource_class': None,\n",
       " 'o:resource_template': None,\n",
       " 'o:thumbnail': None,\n",
       " 'o:title': 'A Mere Title for an item created via the API',\n",
       " 'thumbnail_display_urls': {'large': None, 'medium': None, 'square': None},\n",
       " 'o:created': {'@value': '2024-11-18T02:53:53+00:00',\n",
       "  '@type': 'http://www.w3.org/2001/XMLSchema#dateTime'},\n",
       " 'o:modified': {'@value': '2024-11-18T02:53:53+00:00',\n",
       "  '@type': 'http://www.w3.org/2001/XMLSchema#dateTime'},\n",
       " 'o:primary_media': None,\n",
       " 'o:media': [],\n",
       " 'o:item_set': [],\n",
       " 'o:site': [{'@id': 'http://jajohnst.si676.si.umich.edu/omeka-s/api/sites/1',\n",
       "   'o:id': 1}],\n",
       " 'dcterms:title': [{'type': 'literal',\n",
       "   'property_id': 1,\n",
       "   'property_label': 'Title',\n",
       "   'is_public': True,\n",
       "   '@value': 'A Mere Title for an item created via the API',\n",
       "   '@language': 'en-us'}],\n",
       " 'dcterms:rights': [{'type': 'literal',\n",
       "   'property_id': 15,\n",
       "   'property_label': 'Rights',\n",
       "   'is_public': True,\n",
       "   '@value': 'No known restrictions on publication.',\n",
       "   '@language': 'en-us'}]}"
      ]
     },
     "execution_count": 7,
     "metadata": {},
     "output_type": "execute_result"
    }
   ],
   "source": [
    "new_item_post.json()"
   ]
  },
  {
   "cell_type": "markdown",
   "metadata": {},
   "source": [
    "## Use the Omeka S API to add a new item with Media\n",
    "\n",
    "The process involves the data for the new item, then\n",
    "using a `post` request to add the item via the API. "
   ]
  },
  {
   "cell_type": "code",
   "execution_count": 8,
   "metadata": {},
   "outputs": [],
   "source": [
    "action = '/items'\n",
    "\n",
    "parameters = {\n",
    "    'key_credential': key_credential,\n",
    "    'key_identity'  : key_identity\n",
    "}\n",
    "\n",
    "headers = {\n",
    "    'Content-Type': 'application/json'\n",
    "}"
   ]
  },
  {
   "cell_type": "code",
   "execution_count": 9,
   "metadata": {},
   "outputs": [],
   "source": [
    "# create data for a new item with media\n",
    "\n",
    "data = { \n",
    "    \"dcterms:title\": [{\n",
    "        \"property_id\": 1,\n",
    "        \"property_label\": \"Title\",\n",
    "        \"@value\": \"An archived image of an Orca from an old website\",\n",
    "        \"type\" : \"literal\"\n",
    "        }],\n",
    "        \"@type\": \"o:Item\",\n",
    "        \"o:item_set\": [{\n",
    "            \"o:id\": 441\n",
    "            }],\n",
    "        \"o:media\": [{\n",
    "            \"o:ingester\": \"upload\",\n",
    "            \"file_index\": \"0\",\n",
    "            \"o:item\": {},\n",
    "            \"dcterms:title\": [{\n",
    "                \"property_id\" : 1,\n",
    "                \"property_label\" : \"Title\",\n",
    "                \"@value\" : \"Image media for new item uploaded via the API\",\n",
    "                \"type\": \"literal\"\n",
    "                }]\n",
    "            }]\n",
    "        }\n",
    "\n",
    "upload_file_path = '../data/webfiles-samples/image/orca.via_.moc_.noaa_.jpg'\n",
    "\n",
    "upload_file_tuple = {'file': ('orca.via_.moc_.noaa_.jpg', open('../data/webfiles-samples/image/orca.via_.moc_.noaa_.jpg', 'rb'), 'image/jpeg')}\n",
    "\n",
    "upload_file = {'file': open('../data/webfiles-samples/image/orca.via_.moc_.noaa_.jpg', 'rb')}"
   ]
  },
  {
   "cell_type": "code",
   "execution_count": 10,
   "metadata": {},
   "outputs": [
    {
     "name": "stdout",
     "output_type": "stream",
     "text": [
      "http://jajohnst.si676.si.umich.edu/omeka-s/api/items?key_credential=nj0K6JAqnFgeqyP3Kq40SOhl6fiPBXky&key_identity=yAu5NAEEtJCvGx4s8XgJSgvTFjwvLD6j 422 \n",
      " {'Date': 'Mon, 18 Nov 2024 02:53:53 GMT', 'Server': 'Apache', 'Omeka-S-Version': '4.1.1', 'Keep-Alive': 'timeout=5, max=100', 'Connection': 'Keep-Alive', 'Transfer-Encoding': 'chunked', 'Content-Type': 'application/ld+json'}\n"
     ]
    }
   ],
   "source": [
    "# now, post the data\n",
    "\n",
    "post_item_url = siteUrl + endpoint + action\n",
    "\n",
    "new_item_post = requests.post(post_item_url, headers=headers, params=parameters, data=json.dumps(data))\n",
    "\n",
    "print(new_item_post.url,new_item_post.status_code,'\\n',new_item_post.headers)"
   ]
  },
  {
   "cell_type": "code",
   "execution_count": 11,
   "metadata": {},
   "outputs": [
    {
     "data": {
      "text/plain": [
       "{'errors': {'o:media': [{'error': ['No files were uploaded']}]}}"
      ]
     },
     "execution_count": 11,
     "metadata": {},
     "output_type": "execute_result"
    }
   ],
   "source": [
    "new_item_post.json()"
   ]
  }
 ],
 "metadata": {
  "kernelspec": {
   "display_name": "base",
   "language": "python",
   "name": "python3"
  },
  "language_info": {
   "codemirror_mode": {
    "name": "ipython",
    "version": 3
   },
   "file_extension": ".py",
   "mimetype": "text/x-python",
   "name": "python",
   "nbconvert_exporter": "python",
   "pygments_lexer": "ipython3",
   "version": "3.9.18"
  }
 },
 "nbformat": 4,
 "nbformat_minor": 2
}
