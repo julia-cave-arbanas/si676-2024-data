{
 "cells": [
  {
   "cell_type": "markdown",
   "metadata": {},
   "source": [
    "# Linked Data\n",
    "\n",
    "Testing with Omeka S API\n",
    "\n",
    "## Setup"
   ]
  },
  {
   "cell_type": "code",
   "execution_count": 1,
   "metadata": {},
   "outputs": [],
   "source": [
    "import requests\n",
    "import rdflib\n",
    "from rdflib import Graph, plugin, URIRef, Literal\n",
    "from rdflib.serializer import Serializer\n",
    "from rdflib.plugin import register, Parser\n",
    "from rdflib import Namespace, RDF, BNode, plugin, Variable, FOAF, SDO"
   ]
  },
  {
   "cell_type": "code",
   "execution_count": 2,
   "metadata": {},
   "outputs": [],
   "source": [
    "# create sample data to add to the graph\n",
    "newData = {\n",
    "    'J.D. Salinger' : { \n",
    "        'https://schema.org/deathDate' : 2010,\n",
    "        'https://schema.org/deathPlace': 'https://en.wikipedia.org/wiki/New_York_City'\n",
    "        },\n",
    "    'Herman Melvill' : { \n",
    "        'https://schema.org/deathDate' : 1862,\n",
    "        'https://schema.org/deathPlace' : 'https://en.wikipedia.org/wiki/New_York_City'\n",
    "        }\n",
    "}"
   ]
  },
  {
   "cell_type": "markdown",
   "metadata": {},
   "source": [
    "## Searching in Omeka S\n",
    "\n",
    "Search for all the items in the specified set"
   ]
  },
  {
   "cell_type": "code",
   "execution_count": 3,
   "metadata": {},
   "outputs": [],
   "source": [
    "url = 'http://jajohnst.si676.si.umich.edu/omeka-s/api'\n",
    "\n",
    "action = '/items'\n",
    "\n",
    "parameters = {\n",
    "#    property%5B0%5D%5Bjoiner%5D=and\n",
    "#    property%5B0%5D%5Bproperty%5D=\n",
    "#    property%5B0%5D%5Btype%5D=eq\n",
    "#    property%5B0%5D%5Btext%5D=\n",
    "#    resource_class_id%5B%5D=\n",
    "#    resource_template_id%5B%5D=\n",
    "    'item_set_id':440,\n",
    "#    site_id=\n",
    "#    owner_id=\n",
    "#    'fulltext_search':'',\n",
    "#    'submit':'Search'\n",
    "}"
   ]
  },
  {
   "cell_type": "code",
   "execution_count": 4,
   "metadata": {},
   "outputs": [
    {
     "name": "stdout",
     "output_type": "stream",
     "text": [
      "http://jajohnst.si676.si.umich.edu/omeka-s/api/items?item_set_id=440\n",
      "200\n"
     ]
    }
   ],
   "source": [
    "r = requests.get(url + action, params=parameters)\n",
    "\n",
    "print(r.url)\n",
    "print(r.status_code)"
   ]
  },
  {
   "cell_type": "code",
   "execution_count": 5,
   "metadata": {},
   "outputs": [
    {
     "data": {
      "text/plain": [
       "[{'@context': 'http://jajohnst.si676.si.umich.edu/omeka-s/api-context',\n",
       "  '@id': 'http://jajohnst.si676.si.umich.edu/omeka-s/api/items/438',\n",
       "  '@type': ['o:Item', 'dcterms:Agent'],\n",
       "  'o:id': 438,\n",
       "  'o:is_public': True,\n",
       "  'o:owner': {'@id': 'http://jajohnst.si676.si.umich.edu/omeka-s/api/users/1',\n",
       "   'o:id': 1},\n",
       "  'o:resource_class': {'@id': 'http://jajohnst.si676.si.umich.edu/omeka-s/api/resource_classes/1',\n",
       "   'o:id': 1},\n",
       "  'o:resource_template': None,\n",
       "  'o:thumbnail': None,\n",
       "  'o:title': 'Test record for J.D. Salinger RDF example',\n",
       "  'thumbnail_display_urls': {'large': None, 'medium': None, 'square': None},\n",
       "  'o:created': {'@value': '2024-11-18T01:11:42+00:00',\n",
       "   '@type': 'http://www.w3.org/2001/XMLSchema#dateTime'},\n",
       "  'o:modified': {'@value': '2024-11-18T01:15:28+00:00',\n",
       "   '@type': 'http://www.w3.org/2001/XMLSchema#dateTime'},\n",
       "  'o:primary_media': None,\n",
       "  'o:media': [],\n",
       "  'o:item_set': [{'@id': 'http://jajohnst.si676.si.umich.edu/omeka-s/api/item_sets/440',\n",
       "    'o:id': 440}],\n",
       "  'o:site': [{'@id': 'http://jajohnst.si676.si.umich.edu/omeka-s/api/sites/1',\n",
       "    'o:id': 1}],\n",
       "  'dcterms:title': [{'type': 'literal',\n",
       "    'property_id': 1,\n",
       "    'property_label': 'Title',\n",
       "    'is_public': True,\n",
       "    '@value': 'Test record for J.D. Salinger RDF example'}],\n",
       "  'foaf:name': [{'type': 'literal',\n",
       "    'property_id': 138,\n",
       "    'property_label': 'name',\n",
       "    'is_public': True,\n",
       "    '@value': 'J.D. Salinger'}]},\n",
       " {'@context': 'http://jajohnst.si676.si.umich.edu/omeka-s/api-context',\n",
       "  '@id': 'http://jajohnst.si676.si.umich.edu/omeka-s/api/items/439',\n",
       "  '@type': ['o:Item', 'dcterms:Agent'],\n",
       "  'o:id': 439,\n",
       "  'o:is_public': True,\n",
       "  'o:owner': {'@id': 'http://jajohnst.si676.si.umich.edu/omeka-s/api/users/1',\n",
       "   'o:id': 1},\n",
       "  'o:resource_class': {'@id': 'http://jajohnst.si676.si.umich.edu/omeka-s/api/resource_classes/1',\n",
       "   'o:id': 1},\n",
       "  'o:resource_template': None,\n",
       "  'o:thumbnail': None,\n",
       "  'o:title': 'Test record for Herman Melvill for linked data demonstrations',\n",
       "  'thumbnail_display_urls': {'large': None, 'medium': None, 'square': None},\n",
       "  'o:created': {'@value': '2024-11-18T01:14:13+00:00',\n",
       "   '@type': 'http://www.w3.org/2001/XMLSchema#dateTime'},\n",
       "  'o:modified': {'@value': '2024-11-18T01:15:28+00:00',\n",
       "   '@type': 'http://www.w3.org/2001/XMLSchema#dateTime'},\n",
       "  'o:primary_media': None,\n",
       "  'o:media': [],\n",
       "  'o:item_set': [{'@id': 'http://jajohnst.si676.si.umich.edu/omeka-s/api/item_sets/440',\n",
       "    'o:id': 440}],\n",
       "  'o:site': [{'@id': 'http://jajohnst.si676.si.umich.edu/omeka-s/api/sites/1',\n",
       "    'o:id': 1}],\n",
       "  'dcterms:title': [{'type': 'literal',\n",
       "    'property_id': 1,\n",
       "    'property_label': 'Title',\n",
       "    'is_public': True,\n",
       "    '@value': 'Test record for Herman Melvill for linked data demonstrations'}],\n",
       "  'foaf:name': [{'type': 'literal',\n",
       "    'property_id': 138,\n",
       "    'property_label': 'name',\n",
       "    'is_public': True,\n",
       "    '@value': 'Herman Melvill'}]}]"
      ]
     },
     "execution_count": 5,
     "metadata": {},
     "output_type": "execute_result"
    }
   ],
   "source": [
    "r.json()"
   ]
  },
  {
   "cell_type": "markdown",
   "metadata": {},
   "source": [
    "## Parse data with the RDFLib module\n",
    "\n",
    "Using the `rdflib` module capabilities, parse this data.\n",
    "\n",
    "First, create an RDF graph from it:"
   ]
  },
  {
   "cell_type": "code",
   "execution_count": 6,
   "metadata": {},
   "outputs": [],
   "source": [
    "g = Graph().parse(data=r.text, format='json-ld')"
   ]
  },
  {
   "cell_type": "markdown",
   "metadata": {},
   "source": [
    "Now, look through the graph. The graph is a series of \"triples\",\n",
    "which are subject-predicate-object tuples. These can be modified. example, after the initial look, you can remove all of those with the Omeka S namespace (`o`).\n",
    "Note that RDFLib may drop or delete any orphaned subjects or objects that may not be part of a triple. "
   ]
  },
  {
   "cell_type": "code",
   "execution_count": 7,
   "metadata": {},
   "outputs": [
    {
     "name": "stdout",
     "output_type": "stream",
     "text": [
      "http://jajohnst.si676.si.umich.edu/omeka-s/api/items/439 -> http://omeka.org/s/vocabs/o#id -> 439.\n",
      "http://jajohnst.si676.si.umich.edu/omeka-s/api/items/439 -> http://omeka.org/s/vocabs/o#modified -> 2024-11-18T01:15:28+00:00.\n",
      "http://jajohnst.si676.si.umich.edu/omeka-s/api/items/438 -> http://www.w3.org/1999/02/22-rdf-syntax-ns#type -> http://omeka.org/s/vocabs/o#Item.\n",
      "http://jajohnst.si676.si.umich.edu/omeka-s/api/items/439 -> http://www.w3.org/1999/02/22-rdf-syntax-ns#type -> http://purl.org/dc/terms/Agent.\n",
      "http://jajohnst.si676.si.umich.edu/omeka-s/api/items/438 -> http://omeka.org/s/vocabs/o#is_public -> true.\n",
      "http://jajohnst.si676.si.umich.edu/omeka-s/api/items/438 -> http://omeka.org/s/vocabs/o#id -> 438.\n",
      "http://jajohnst.si676.si.umich.edu/omeka-s/api/items/438 -> http://omeka.org/s/vocabs/o#created -> 2024-11-18T01:11:42+00:00.\n",
      "http://jajohnst.si676.si.umich.edu/omeka-s/api/sites/1 -> http://omeka.org/s/vocabs/o#id -> 1.\n",
      "http://jajohnst.si676.si.umich.edu/omeka-s/api/items/439 -> http://omeka.org/s/vocabs/o#item_set -> http://jajohnst.si676.si.umich.edu/omeka-s/api/item_sets/440.\n",
      "http://jajohnst.si676.si.umich.edu/omeka-s/api/item_sets/440 -> http://omeka.org/s/vocabs/o#id -> 440.\n",
      "http://jajohnst.si676.si.umich.edu/omeka-s/api/items/439 -> http://omeka.org/s/vocabs/o#resource_class -> http://jajohnst.si676.si.umich.edu/omeka-s/api/resource_classes/1.\n",
      "http://jajohnst.si676.si.umich.edu/omeka-s/api/items/439 -> http://omeka.org/s/vocabs/o#site -> http://jajohnst.si676.si.umich.edu/omeka-s/api/sites/1.\n",
      "http://jajohnst.si676.si.umich.edu/omeka-s/api/users/1 -> http://omeka.org/s/vocabs/o#id -> 1.\n",
      "http://jajohnst.si676.si.umich.edu/omeka-s/api/items/439 -> http://omeka.org/s/vocabs/o#owner -> http://jajohnst.si676.si.umich.edu/omeka-s/api/users/1.\n",
      "http://jajohnst.si676.si.umich.edu/omeka-s/api/items/439 -> http://purl.org/dc/terms/title -> Test record for Herman Melvill for linked data demonstrations.\n",
      "http://jajohnst.si676.si.umich.edu/omeka-s/api/items/439 -> http://www.w3.org/1999/02/22-rdf-syntax-ns#type -> http://omeka.org/s/vocabs/o#Item.\n",
      "http://jajohnst.si676.si.umich.edu/omeka-s/api/items/438 -> http://omeka.org/s/vocabs/o#modified -> 2024-11-18T01:15:28+00:00.\n",
      "http://jajohnst.si676.si.umich.edu/omeka-s/api/items/438 -> http://omeka.org/s/vocabs/o#item_set -> http://jajohnst.si676.si.umich.edu/omeka-s/api/item_sets/440.\n",
      "http://jajohnst.si676.si.umich.edu/omeka-s/api/items/438 -> http://omeka.org/s/vocabs/o#title -> Test record for J.D. Salinger RDF example.\n",
      "http://jajohnst.si676.si.umich.edu/omeka-s/api/items/438 -> http://purl.org/dc/terms/title -> Test record for J.D. Salinger RDF example.\n",
      "http://jajohnst.si676.si.umich.edu/omeka-s/api/items/438 -> http://omeka.org/s/vocabs/o#site -> http://jajohnst.si676.si.umich.edu/omeka-s/api/sites/1.\n",
      "http://jajohnst.si676.si.umich.edu/omeka-s/api/resource_classes/1 -> http://omeka.org/s/vocabs/o#id -> 1.\n",
      "http://jajohnst.si676.si.umich.edu/omeka-s/api/items/439 -> http://omeka.org/s/vocabs/o#is_public -> true.\n",
      "http://jajohnst.si676.si.umich.edu/omeka-s/api/items/438 -> http://www.w3.org/1999/02/22-rdf-syntax-ns#type -> http://purl.org/dc/terms/Agent.\n",
      "http://jajohnst.si676.si.umich.edu/omeka-s/api/items/439 -> http://omeka.org/s/vocabs/o#title -> Test record for Herman Melvill for linked data demonstrations.\n",
      "http://jajohnst.si676.si.umich.edu/omeka-s/api/items/438 -> http://xmlns.com/foaf/0.1/name -> J.D. Salinger.\n",
      "http://jajohnst.si676.si.umich.edu/omeka-s/api/items/438 -> http://omeka.org/s/vocabs/o#resource_class -> http://jajohnst.si676.si.umich.edu/omeka-s/api/resource_classes/1.\n",
      "http://jajohnst.si676.si.umich.edu/omeka-s/api/items/439 -> http://xmlns.com/foaf/0.1/name -> Herman Melvill.\n",
      "http://jajohnst.si676.si.umich.edu/omeka-s/api/items/439 -> http://omeka.org/s/vocabs/o#created -> 2024-11-18T01:14:13+00:00.\n",
      "http://jajohnst.si676.si.umich.edu/omeka-s/api/items/438 -> http://omeka.org/s/vocabs/o#owner -> http://jajohnst.si676.si.umich.edu/omeka-s/api/users/1.\n"
     ]
    }
   ],
   "source": [
    "for s, p, o in g:\n",
    "    print(f'{s} -> {p} -> {o}.')"
   ]
  },
  {
   "cell_type": "markdown",
   "metadata": {},
   "source": [
    "### Outputting, saving, and serializing\n",
    "\n",
    "Convert the graph to 'Turtle' format"
   ]
  },
  {
   "cell_type": "code",
   "execution_count": 8,
   "metadata": {},
   "outputs": [
    {
     "name": "stdout",
     "output_type": "stream",
     "text": [
      "@prefix ns1: <http://omeka.org/s/vocabs/o#> .\n",
      "@prefix ns2: <http://purl.org/dc/terms/> .\n",
      "@prefix ns3: <http://xmlns.com/foaf/0.1/> .\n",
      "@prefix xsd: <http://www.w3.org/2001/XMLSchema#> .\n",
      "\n",
      "<http://jajohnst.si676.si.umich.edu/omeka-s/api/items/438> a ns1:Item,\n",
      "        ns2:Agent ;\n",
      "    ns1:created \"2024-11-18T01:11:42+00:00\"^^xsd:dateTime ;\n",
      "    ns1:id 438 ;\n",
      "    ns1:is_public true ;\n",
      "    ns1:item_set <http://jajohnst.si676.si.umich.edu/omeka-s/api/item_sets/440> ;\n",
      "    ns1:modified \"2024-11-18T01:15:28+00:00\"^^xsd:dateTime ;\n",
      "    ns1:owner <http://jajohnst.si676.si.umich.edu/omeka-s/api/users/1> ;\n",
      "    ns1:resource_class <http://jajohnst.si676.si.umich.edu/omeka-s/api/resource_classes/1> ;\n",
      "    ns1:site <http://jajohnst.si676.si.umich.edu/omeka-s/api/sites/1> ;\n",
      "    ns1:title \"Test record for J.D. Salinger RDF example\" ;\n",
      "    ns2:title \"Test record for J.D. Salinger RDF example\" ;\n",
      "    ns3:name \"J.D. Salinger\" .\n",
      "\n",
      "<http://jajohnst.si676.si.umich.edu/omeka-s/api/items/439> a ns1:Item,\n",
      "        ns2:Agent ;\n",
      "    ns1:created \"2024-11-18T01:14:13+00:00\"^^xsd:dateTime ;\n",
      "    ns1:id 439 ;\n",
      "    ns1:is_public true ;\n",
      "    ns1:item_set <http://jajohnst.si676.si.umich.edu/omeka-s/api/item_sets/440> ;\n",
      "    ns1:modified \"2024-11-18T01:15:28+00:00\"^^xsd:dateTime ;\n",
      "    ns1:owner <http://jajohnst.si676.si.umich.edu/omeka-s/api/users/1> ;\n",
      "    ns1:resource_class <http://jajohnst.si676.si.umich.edu/omeka-s/api/resource_classes/1> ;\n",
      "    ns1:site <http://jajohnst.si676.si.umich.edu/omeka-s/api/sites/1> ;\n",
      "    ns1:title \"Test record for Herman Melvill for linked data demonstrations\" ;\n",
      "    ns2:title \"Test record for Herman Melvill for linked data demonstrations\" ;\n",
      "    ns3:name \"Herman Melvill\" .\n",
      "\n",
      "<http://jajohnst.si676.si.umich.edu/omeka-s/api/item_sets/440> ns1:id 440 .\n",
      "\n",
      "<http://jajohnst.si676.si.umich.edu/omeka-s/api/resource_classes/1> ns1:id 1 .\n",
      "\n",
      "<http://jajohnst.si676.si.umich.edu/omeka-s/api/sites/1> ns1:id 1 .\n",
      "\n",
      "<http://jajohnst.si676.si.umich.edu/omeka-s/api/users/1> ns1:id 1 .\n",
      "\n",
      "\n"
     ]
    }
   ],
   "source": [
    "ser = g.serialize(format='turtle')\n",
    "\n",
    "print(ser)"
   ]
  },
  {
   "cell_type": "markdown",
   "metadata": {},
   "source": [
    "Save it to a file"
   ]
  },
  {
   "cell_type": "code",
   "execution_count": 9,
   "metadata": {},
   "outputs": [],
   "source": [
    "with open('item-set-graph-1.ttl', 'w') as f:\n",
    "    f.write(ser)"
   ]
  },
  {
   "cell_type": "markdown",
   "metadata": {},
   "source": [
    "## Parsing, Modifying, and Adding to the Graph\n",
    "\n",
    "Now try to remove the Omeka data in order to get a closer look\n",
    "at the collection specific data."
   ]
  },
  {
   "cell_type": "code",
   "execution_count": 10,
   "metadata": {},
   "outputs": [],
   "source": [
    "# remove the omeka specific data\n",
    "for triple in g:\n",
    "    if 'http://omeka.org/s/vocabs/o#' in triple[1]:\n",
    "        g.remove(triple)"
   ]
  },
  {
   "cell_type": "code",
   "execution_count": 11,
   "metadata": {},
   "outputs": [
    {
     "name": "stdout",
     "output_type": "stream",
     "text": [
      "http://jajohnst.si676.si.umich.edu/omeka-s/api/items/439 -> http://www.w3.org/1999/02/22-rdf-syntax-ns#type -> http://omeka.org/s/vocabs/o#Item\n",
      "http://jajohnst.si676.si.umich.edu/omeka-s/api/items/438 -> http://www.w3.org/1999/02/22-rdf-syntax-ns#type -> http://omeka.org/s/vocabs/o#Item\n",
      "http://jajohnst.si676.si.umich.edu/omeka-s/api/items/438 -> http://purl.org/dc/terms/title -> Test record for J.D. Salinger RDF example\n",
      "http://jajohnst.si676.si.umich.edu/omeka-s/api/items/439 -> http://www.w3.org/1999/02/22-rdf-syntax-ns#type -> http://purl.org/dc/terms/Agent\n",
      "http://jajohnst.si676.si.umich.edu/omeka-s/api/items/438 -> http://www.w3.org/1999/02/22-rdf-syntax-ns#type -> http://purl.org/dc/terms/Agent\n",
      "http://jajohnst.si676.si.umich.edu/omeka-s/api/items/438 -> http://xmlns.com/foaf/0.1/name -> J.D. Salinger\n",
      "http://jajohnst.si676.si.umich.edu/omeka-s/api/items/439 -> http://xmlns.com/foaf/0.1/name -> Herman Melvill\n",
      "http://jajohnst.si676.si.umich.edu/omeka-s/api/items/439 -> http://purl.org/dc/terms/title -> Test record for Herman Melvill for linked data demonstrations\n"
     ]
    }
   ],
   "source": [
    "for s, p, o in g:\n",
    "    print(f'{s} -> {p} -> {o}')"
   ]
  },
  {
   "cell_type": "markdown",
   "metadata": {},
   "source": [
    "### Adding the \"newData\""
   ]
  },
  {
   "cell_type": "code",
   "execution_count": 12,
   "metadata": {},
   "outputs": [],
   "source": [
    "# add the \"newData\" by looping (iterating) through the data\n",
    "# and adding to the appropriate elements\n",
    "\n",
    "# Note: this will only work if the Keys are in the data already on the site,\n",
    "# so the data must be uploaded and added first\n",
    "\n",
    "for nameKey in newData: \n",
    "    for s, p, o, in g.triples((None, FOAF.name, Literal(nameKey))):\n",
    "        deathDate = newData[o.value]['https://schema.org/deathDate']\n",
    "        deathPlace = newData[o.value]['https://schema.org/deathPlace']\n",
    "        g.add((s, URIRef('https://schema.org/deathDate'), Literal(deathDate)))\n",
    "        g.add((s, URIRef('https://schema.org/deathPlace'), URIRef(deathPlace)))"
   ]
  },
  {
   "cell_type": "markdown",
   "metadata": {},
   "source": [
    "To demonstrate how the graph changed, serialize the new graph"
   ]
  },
  {
   "cell_type": "code",
   "execution_count": 13,
   "metadata": {},
   "outputs": [],
   "source": [
    "ser2 = g.serialize(format='turtle')\n",
    "\n",
    "with open('item-set-graph-2.ttl', 'w') as f:\n",
    "    f.write(ser2)"
   ]
  }
 ],
 "metadata": {
  "kernelspec": {
   "display_name": "base",
   "language": "python",
   "name": "python3"
  },
  "language_info": {
   "codemirror_mode": {
    "name": "ipython",
    "version": 3
   },
   "file_extension": ".py",
   "mimetype": "text/x-python",
   "name": "python",
   "nbconvert_exporter": "python",
   "pygments_lexer": "ipython3",
   "version": "3.9.18"
  }
 },
 "nbformat": 4,
 "nbformat_minor": 2
}
