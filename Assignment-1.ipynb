{
 "cells": [
  {
   "cell_type": "code",
   "execution_count": 41,
   "metadata": {},
   "outputs": [],
   "source": [
    "import csv\n",
    "import json\n",
    "import requests\n",
    "import os"
   ]
  },
  {
   "cell_type": "code",
   "execution_count": 42,
   "metadata": {},
   "outputs": [],
   "source": [
    "endpoint = 'https://www.loc.gov/free-to-use'\n",
    "parameters = {\n",
    "    'fo' : 'json'\n",
    "}"
   ]
  },
  {
   "cell_type": "code",
   "execution_count": 43,
   "metadata": {},
   "outputs": [],
   "source": [
    "collection = 'libraries'"
   ]
  },
  {
   "cell_type": "code",
   "execution_count": 44,
   "metadata": {},
   "outputs": [],
   "source": [
    "collection_list_response = requests.get(endpoint + '/' + collection, params=parameters)"
   ]
  },
  {
   "cell_type": "code",
   "execution_count": 45,
   "metadata": {},
   "outputs": [
    {
     "data": {
      "text/plain": [
       "'https://www.loc.gov/free-to-use/libraries?fo=json'"
      ]
     },
     "execution_count": 45,
     "metadata": {},
     "output_type": "execute_result"
    }
   ],
   "source": [
    "collection_list_response.url"
   ]
  },
  {
   "cell_type": "code",
   "execution_count": 46,
   "metadata": {},
   "outputs": [
    {
     "name": "stdout",
     "output_type": "stream",
     "text": [
      "JSON data saved\n"
     ]
    }
   ],
   "source": [
    "collection_json = collection_list_response.json()\n",
    "\n",
    "local_json_collection = '/Users/julia.cave.arbanas/si676-2024-data/collection_project/collection_list_response.json'\n",
    "\n",
    "with open(local_json_collection, 'w', encoding='utf-8', newline='') as f:\n",
    "    json.dump(collection_json, f, ensure_ascii=False, indent=4)\n",
    "print(f'JSON data saved')"
   ]
  },
  {
   "cell_type": "code",
   "execution_count": 47,
   "metadata": {},
   "outputs": [
    {
     "data": {
      "text/plain": [
       "dict_keys(['breadcrumbs', 'content', 'content_is_post', 'description', 'disable_max_line_length', 'expert_resources', 'manifest', 'next', 'next_sibling', 'options', 'pages', 'portal', 'previous', 'previous_sibling', 'site_type', 'timestamp', 'title', 'type'])"
      ]
     },
     "execution_count": 47,
     "metadata": {},
     "output_type": "execute_result"
    }
   ],
   "source": [
    "collection_json.keys()"
   ]
  },
  {
   "cell_type": "code",
   "execution_count": 48,
   "metadata": {},
   "outputs": [
    {
     "name": "stdout",
     "output_type": "stream",
     "text": [
      "{'image': '/static/portals/free-to-use/public-domain/libraries/libraries-1.jpg', 'link': '/resource/cph.3f05183/', 'title': 'For greater knowledge, on more subjects, use your library more often. Illinois WPA Arts Project, 1936-1941. Prints & Photographs Division'}\n",
      "{'image': '/static/portals/free-to-use/public-domain/libraries/libraries-2.jpg', 'link': '/resource/highsm.20336/', 'title': 'Noyes Library for Young Children. Kensington, Maryland. Photo by Carol M. Highsmith,  2011. Prints & Photographs Division'}\n",
      "{'image': '/static/portals/free-to-use/public-domain/libraries/libraries-3.jpg', 'link': '/resource/fsa.8d24709/', 'title': 'Bethune-Cookman College. Students in the library reading room, Daytona Beach, Florida. Gordon Parks, 1943. Prints & Photographs Division'}\n",
      "{'image': '/static/portals/free-to-use/public-domain/libraries/libraries-4.jpg', 'link': '/resource/highsm.36052/', 'title': 'Public library in Antonito,  Colorado, near the New Mexico border. Photo by Carol M. Highsmith, 2015. Prints & Photographs Division'}\n",
      "{'image': '/static/portals/free-to-use/public-domain/libraries/libraries-5.jpg', 'link': '/resource/highsm.51772/', 'title': 'Library and Innovation Center in New Castle, Delaware, defines itself as \"a community learning and resource hub.\" Photo by Carol M. Highsmith, 2018. Prints & Photographs Division\\n'}\n",
      "{'image': '/static/portals/free-to-use/public-domain/libraries/libraries-6.jpg', 'link': '/resource/cph.3b43255/', 'title': 'Silence. Lithograph by Mabel Dwight, 1939. Prints & Photographs Division'}\n",
      "{'image': '/static/portals/free-to-use/public-domain/libraries/libraries-7.jpg', 'link': '/resource/highsm.20483/', 'title': 'Patterson Park Branch of the Enoch Pratt Free Library System. Photo by Carol M. Highsmith, 2011. Prints & Photographs Division'}\n",
      "{'image': '/static/portals/free-to-use/public-domain/libraries/libraries-8.jpg', 'link': '/resource/highsm.29207/', 'title': 'The easily identifiable J. Erik Jonsson Central Library, Dallas, Texas. Photo by Carol M. Highsmith, 2014. Prints & Photographs Division'}\n",
      "{'image': '/static/portals/free-to-use/public-domain/libraries/libraries-9.jpg', 'link': '/resource/fsa.8b32222/', 'title': 'Public library in the southwestern section of Mississippi, in the piney woods. Photo by Dorothea Lange, 1937. Prints & Photographs Division'}\n",
      "{'image': '/static/portals/free-to-use/public-domain/libraries/libraries-10.jpg', 'link': '/resource/highsm.64003/', 'title': '\"Bookmobile\" bus belonging to the Perry County Public Library in Hazard, Kentucky. Photo by Carol M. Highsmith, 2020. Prints & Photographs Division\\n'}\n",
      "{'image': '/static/portals/free-to-use/public-domain/libraries/libraries-11.jpg', 'link': '/resource/ppmsca.15412/', 'title': \"Creating the first fully developed children's department in 1899 is one of the historic milestones claimed by the Pittsburgh, Pennsylvania, Carnegie Library. Photo, 1900-1905. Prints & Photographs Division\\n\"}\n",
      "{'image': '/static/portals/free-to-use/public-domain/libraries/libraries-12.jpg', 'link': '/resource/highsm.49335/', 'title': 'Even a sculpted gila monster appears to be into reading near a Little Free Library in the Dunbar Spring neighborhood of Tucson, Arizona. Photo by Carol M. Highsmith, 2018. Prints & Photographs Division'}\n",
      "{'image': '/static/portals/free-to-use/public-domain/libraries/libraries-13.jpg', 'link': '/resource/highsm.20497/', 'title': 'Handley Library, Winchester, Virginia. Photo by Carol M. Highsmith, 2011. Prints & Photographs Division'}\n",
      "{'image': '/static/portals/free-to-use/public-domain/libraries/libraries-14.jpg', 'link': '/resource/npcc.28724/', 'title': 'Reading room for the blind, Library of Congress, Washington, DC. By National Photo Co., 1919 or 1920. Prints & Photographs Division'}\n",
      "{'image': '/static/portals/free-to-use/public-domain/libraries/libraries-15.jpg', 'link': '/resource/ds.06560/', 'title': 'Main public library building, Detroit, Michigan. Cass Gilbert, architect. Postcard by Albertype Co., 1921-1930. Prints & Photographs Division'}\n",
      "{'image': '/static/portals/free-to-use/public-domain/libraries/libraries-16.jpg', 'link': '/resource/hhh.hi0135.photos', 'title': \"Mother Marianne Library, Moloka'i Island, Kalaupapa, Kalawao County, Hawaii. Photo by Jack Boucher, 1991. Historic American Buildings Survey. Prints & Photographs Division\"}\n",
      "{'image': '/static/portals/free-to-use/public-domain/libraries/libraries-17.jpg', 'link': '/resource/cph.3f05168/', 'title': 'Curb service, 10,000 current books, convenient, free, time saving : Chicago Public Library, Randolph St. corridor. Illinois WPA Art Project, 1936-1941. Prints & Photographs Division\\n'}\n",
      "{'image': '/static/portals/free-to-use/public-domain/libraries/libraries-18.jpg', 'link': '/resource/ppmsca.15375/', 'title': 'Reading Room, Billings Memorial Library, University of Vermont, Burlington, Vermont. H.H. Richardson, architect. Photo, approx. 1890. Prints & Photographs Division'}\n",
      "{'image': '/static/portals/free-to-use/public-domain/libraries/libraries-19.jpg', 'link': '/resource/highsm.53335/', 'title': 'Library. Herbert Hoover Federal Building in Washington, D.C. Photo by Carol M. Highsmith, 2018. Prints & Photographs Division'}\n",
      "{'image': '/static/portals/free-to-use/public-domain/libraries/libraries-20.jpg', 'link': '/resource/hhh.ks0072.photos/?sp=2', 'title': 'Paola Free Library, Paola, Kansas. Photo by Dan Collins, 1984. Historic American Buildings Survey. Prints & Photographs Division'}\n",
      "{'image': '/static/portals/free-to-use/public-domain/libraries/libraries-21.jpg', 'link': '/resource/highsm.34640/', 'title': 'The Guernsey Branch Library, in Guernsey, Wyoming. Photo by Carol M. Highsmith, 2015. Prints & Photographs Division'}\n",
      "{'image': '/static/portals/free-to-use/public-domain/libraries/libraries-22.jpg', 'link': '/resource/ppmsca.17588/', 'title': 'Library of Congress when it was located in the U.S. Capitol. Copy of watercolor by William Bengough, 1897. Prints & Photographs Division'}\n",
      "{'image': '/static/portals/free-to-use/public-domain/libraries/libraries-23.jpg', 'link': '/resource/ppmsca.18016/', 'title': 'Library of Congress, Washington. By Detroit Publishing Co., 1902. Prints & Photographs Division'}\n",
      "{'image': '/static/portals/free-to-use/public-domain/libraries/libraries-24.jpg', 'link': '/resource/hhh.me0057.photos/?sp=1', 'title': 'Hubbard Free Library, Hallowell, Kennebec County, Maine. Copy of photo from approx. 1880. Historic American Buildings Survey. Prints & Photographs Division'}\n",
      "{'image': '/static/portals/free-to-use/public-domain/libraries/libraries-25.jpg', 'link': '/resource/highsm.41101/', 'title': 'Modernist stairway and bookstacks inside the Allen County Public Library, Fort Wayne, Indiana. Photo by Carol M. Highsmith, 2016. Prints & Photographs Division'}\n",
      "{'image': '/static/portals/free-to-use/public-domain/libraries/libraries-26.jpg', 'link': '/resource/det.4a17925/', 'title': 'Cossitt Library, Memphis, Tennessee. Photo by Detroit Publishing Co., 1906. Prints & Photographs Division'}\n",
      "{'image': '/static/portals/free-to-use/public-domain/libraries/libraries-27.jpg', 'link': '/resource/ppmsca.15426/', 'title': 'Main entrance. Boston Public Library. Massachusetts. 1895. Prints & Photographs Division'}\n",
      "{'image': '/static/portals/free-to-use/public-domain/libraries/libraries-28.jpg', 'link': '/resource/ppmscd.00084/', 'title': 'Interior view of library reading room with male and female students sitting at tables, reading, at the Tuskegee Institute, Alabama. Photo by Frances B. Johnston, approx. 1902. Prints & Photographs Division'}\n",
      "{'image': '/static/portals/free-to-use/public-domain/libraries/libraries-29.jpg', 'link': '/resource/highsm.18384/', 'title': 'George Peabody Library, Johns Hopkins University, Baltimore, Maryland. Photo by Carol M.  Highsmith, 2012. Prints & Photographs Division'}\n",
      "{'image': '/static/portals/free-to-use/public-domain/libraries/libraries-30.jpg', 'link': '/resource/g3851e.ct006252/', 'title': 'Map of Libraries, Washington, D.C. Library of Congress, 1926. Geography & Map Division'}\n",
      "{'image': '/static/portals/free-to-use/public-domain/libraries/libraries-31.jpg', 'link': '/resource/ppmsca.35590/', 'title': '\"Open Free to All\" is carved over the door of the Carnegie Public Library in Taunton, Massachusetts. Drawing by Albert R. Ross, approx. 1903. Prints & Photographs Division\\n'}\n",
      "{'image': '/static/portals/free-to-use/public-domain/libraries/libraries-32.jpg', 'link': '/resource/hhh.il0998.sheet/?sp=1', 'title': 'Paxton Carnegie Library, Paxton, Illinois. Drawing, 2011. Historic American Buildings Survey. Prints & Photographs Division'}\n",
      "{'image': '/static/portals/free-to-use/public-domain/libraries/libraries-33.jpg', 'link': '/resource/hhh.ok0012.sheet/?sp=8&q=hhh.ok0012', 'title': 'Carnegie Library, Guthrie, Oklahoma. Cross section drawing, 1973. Historic American Buildings Survey. Prints & Photographs Division'}\n",
      "{'image': '/static/portals/free-to-use/public-domain/libraries/libraries-34.jpg', 'link': '/resource/hhh.sc0767.photos/?sp=1', 'title': 'Carnegie Free Library, Union, South Carolina. Photo by Jack Boucher, 1987. Historic American Buildings Survey. Prints & Photographs Division'}\n",
      "{'image': '/static/portals/free-to-use/public-domain/libraries/libraries-35.jpg', 'link': '/resource/hhh.nj0089.photos/?sp=4', 'title': 'Princeton University, Library, Princeton, New Jersey. Photo by Jack Boucher, 1964. Historic American Buildings Survey. Prints & Photographs Division'}\n",
      "{'image': '/static/portals/free-to-use/public-domain/libraries/libraries-36.jpg', 'link': '/resource/highsm.31350/', 'title': 'Public library in Shepherdstown, West Virginia. Photo by Carol M. Highsmith, 2015. Prints & Photographs Division'}\n",
      "{'image': '/static/portals/free-to-use/public-domain/libraries/libraries-37.jpg', 'link': '/resource/hhh.ri0071.photos/?sp=8', 'title': 'Redwood Library, Newport, Rhode Island. Photo by Cervin Robinson, 1970. Historic American Buildings Survey. Prints & Photographs Division'}\n",
      "{'image': '/static/portals/free-to-use/public-domain/libraries/libraries-38.jpg', 'link': '/resource/highsm.48241/', 'title': 'Cook Memorial Library, the public library of Tamworth, New Hampshire. Photo by Carol M. Highsmith, 2017. Prints & Photographs Division'}\n",
      "{'image': '/static/portals/free-to-use/public-domain/libraries/libraries-39.jpg', 'link': '/resource/det.4a23603/', 'title': 'Little Rock Public Library, Little Rock, Arkansas. Photo by Detroit Publishing Co., approx. 1910. Prints & Photographs Division'}\n",
      "{'image': '/static/portals/free-to-use/public-domain/libraries/libraries-40.jpg', 'link': '/resource/highsm.04362/', 'title': 'Public Library, Salt Lake City, Utah. Photo by Carol M. Highsmith, 2007. Prints & Photographs Division'}\n",
      "{'image': '/static/portals/free-to-use/public-domain/libraries/libraries-41.jpg', 'link': '/resource/hhh.dc0121.photos/?sp=24', 'title': 'Riggs Library, Georgetown University, Washington, DC. Historic American Buildings Survey. 1969. Prints & Photographs Division'}\n",
      "{'image': '/static/portals/free-to-use/public-domain/libraries/libraries-42.jpg', 'link': '/resource/ppbd.00600/', 'title': \"The People's Library, set up by the Occupy Wall Street protest movement in Zuccotti Park, New York City. Photo by Teri Sierra, 2011. Prints & Photographs Division\\n\"}\n",
      "{'image': '/static/portals/free-to-use/public-domain/libraries/libraries-43.jpg', 'link': '/resource/fsa.8b14169/', 'title': 'Newspaper reading room of public library. Omaha, Nebraska. Photo by John Vachon, 1938. Prints & Photographs Division'}\n",
      "{'image': '/static/portals/free-to-use/public-domain/libraries/libraries-44.jpg', 'link': '/resource/highsm.32720/', 'title': 'Dusk view, Rawlings Public Library, Pueblo, Colorado. Photo by Carol M. Highsmith, 2015. Prints & Photographs Division'}\n",
      "{'image': '/static/portals/free-to-use/public-domain/libraries/libraries-45.jpg', 'link': '/resource/fsa.8c22565/', 'title': 'Library tent at the Farm Security Administration mobile camp for migratory farm workers, Odell, Oregon. Photo by Russell Lee, 1941. Prints & Photographs Division'}\n",
      "{'image': '/static/portals/free-to-use/public-domain/libraries/libraries-46.jpg', 'link': '/resource/mrg.00785/', 'title': 'Parmly Billings Library (Western Heritage Center), Billings, Montana. Photo by John Margolies, 2004. Prints & Photographs Division'}\n",
      "{'image': '/static/portals/free-to-use/public-domain/libraries/libraries-47.jpg', 'link': '/resource/hhh.ak0345.photos/?sp=2', 'title': 'Juneau Public Library, Juneau, Alaska. Photo by Jet Lowe, 1991. Historic American Buildings Survey. Prints & Photographs Division'}\n",
      "{'image': '/static/portals/free-to-use/public-domain/libraries/libraries-48.jpg', 'link': '/resource/highsm.43863/', 'title': 'Historic library in the North Carolina Capitol in Raleigh. Photo by Carol M. Highsmith, 2017. Prints & Photographs Division'}\n",
      "{'image': '/static/portals/free-to-use/public-domain/libraries/libraries-49.jpg', 'link': '/resource/highsm.42123/', 'title': \"An upright polar bear in Cincinnati, Ohio, not at the zoo, since it's stuffed, but at Cincinnati's main library. Photo by Carol M. Highsmith, 2016. Prints & Photographs Division\\n\"}\n",
      "{'image': '/static/portals/free-to-use/public-domain/libraries/libraries-50.jpg', 'link': '/resource/cph.3c18157/', 'title': 'Carnegie Library, Sheldon, Iowa. 1909. Prints & Photographs Division'}\n",
      "{'image': '/static/portals/free-to-use/public-domain/libraries/libraries-51.jpg', 'link': '/resource/ds.06507/', 'title': \"Buffalo, New York, Public library. Children's room. Photo by Levin C. Handy, approx. 1900. Prints & Photographs Division\\n\"}\n",
      "{'image': '/static/portals/free-to-use/public-domain/libraries/libraries-52.jpg', 'link': '/resource/highsm.24333/', 'title': 'Tower of the Central Library, Los Angeles, California. Photo by Carol M. Highsmith, 2013. Prints & Photographs Division'}\n",
      "{'image': '/static/portals/free-to-use/public-domain/libraries/libraries-53.jpg', 'link': '/resource/mrg.00788/', 'title': 'Library, Dickason Street, Columbus, Wisconsin. Photo by John Margolies, 2008. Prints & Photographs Division'}\n",
      "{'image': '/static/portals/free-to-use/public-domain/libraries/libraries-54.jpg', 'link': '/resource/highsm.20216/', 'title': 'Norfolk Library, Norfolk, Connecticut. Photo by Carol M. Highsmith, 2011. Prints & Photographs Division'}\n",
      "{'image': '/static/portals/free-to-use/public-domain/libraries/libraries-55.jpg', 'link': '/resource/cph.3b41963/', 'title': 'Carnegie Library, Cordele, Georgia. Photo, approx. 1916. Prints & Photographs Division'}\n",
      "{'image': '/static/portals/free-to-use/public-domain/libraries/libraries-56.jpg', 'link': '/resource/mrg.00432/', 'title': 'Nampa Public Library, Nampa, Idaho. Photo by John Margolies, 2004. Prints & Photographs Division'}\n",
      "{'image': '/static/portals/free-to-use/public-domain/libraries/libraries-57.jpg', 'link': '/resource/cph.3b39859/', 'title': 'Louisiana Industrial Institute and College Library with students reading, Ruston, Louisiana. Photo, 1900-1920. Prints & Photographs Division'}\n",
      "{'image': '/static/portals/free-to-use/public-domain/libraries/libraries-58.jpg', 'link': '/resource/highsm.60215/', 'title': 'The public library, with a creative book-themed facade, in Houston, Minnesota. Photo by Carol Highsmith, 2019. Prints & Photographs Division'}\n",
      "{'image': '/static/portals/free-to-use/public-domain/libraries/libraries-59.jpg', 'link': '/resource/ppmsca.15419/', 'title': 'Book room, Carnegie library, St. Joseph, Missouri. Photo, 1900-1905. Prints & Photographs Division'}\n",
      "{'image': '/static/portals/free-to-use/public-domain/libraries/libraries-60.jpg', 'link': '/resource/highsm.50410/', 'title': \"You wouldn't guess that this is a public library, but it is, in Skynomish, Washington. Photo by Carol M. Highsmith, 2018. Prints & Photographs Division\\n\"}\n",
      "{'image': '/static/portals/free-to-use/public-domain/libraries/libraries-61.jpg', 'link': '/resource/hhh.nv0134.photos', 'title': 'Library (C425), looking SW - Hawthorne Naval Ammunition Depot, Babbitt Housing Area, Hawthorne, Nevada. Photo by Joe C. Freeman, 1992. Historic American Buildings Survey. Prints & Photographs Division'}\n",
      "{'image': '/static/portals/free-to-use/public-domain/libraries/libraries-62.jpg', 'link': '/resource/highsm.18402', 'title': 'Interior of the Hutzler Reading room located in Gilman Hall, Johns Hopkins University, Baltimore, Maryland. Photo by Carol M. Highsmith, 2012. Prints & Photographs Division'}\n"
     ]
    }
   ],
   "source": [
    "for k in collection_json['content']['set']['items']:\n",
    "    print(k)"
   ]
  },
  {
   "cell_type": "code",
   "execution_count": 49,
   "metadata": {},
   "outputs": [
    {
     "data": {
      "text/plain": [
       "62"
      ]
     },
     "execution_count": 49,
     "metadata": {},
     "output_type": "execute_result"
    }
   ],
   "source": [
    "len(collection_json['content']['set']['items'])"
   ]
  },
  {
   "cell_type": "code",
   "execution_count": 50,
   "metadata": {},
   "outputs": [
    {
     "data": {
      "text/plain": [
       "dict_keys(['image', 'link', 'title'])"
      ]
     },
     "execution_count": 50,
     "metadata": {},
     "output_type": "execute_result"
    }
   ],
   "source": [
    "collection_json['content']['set']['items'][0].keys()"
   ]
  },
  {
   "cell_type": "code",
   "execution_count": 51,
   "metadata": {},
   "outputs": [
    {
     "name": "stdout",
     "output_type": "stream",
     "text": [
      "wrote /Users/julia.cave.arbanas/si676-2024-data/collection_project/ftu-libraries-set-list.csv\n"
     ]
    }
   ],
   "source": [
    "collection_set_list = '/Users/julia.cave.arbanas/si676-2024-data/collection_project/ftu-libraries-set-list.csv'\n",
    "headers = ['image','link','title']\n",
    "\n",
    "with open(collection_set_list, 'w', encoding='utf-8', newline='') as f:\n",
    "    writer = csv.DictWriter(f, fieldnames=headers)\n",
    "    writer.writeheader()\n",
    "    for item in collection_json['content']['set']['items']:\n",
    "        item['title'] = item['title'].rstrip()\n",
    "        writer.writerow(item)\n",
    "    print('wrote',collection_set_list)"
   ]
  },
  {
   "cell_type": "markdown",
   "metadata": {},
   "source": [
    "Part 2: Getting Metadata and Content"
   ]
  },
  {
   "cell_type": "code",
   "execution_count": 52,
   "metadata": {},
   "outputs": [],
   "source": [
    "import csv\n",
    "import json\n",
    "import requests\n",
    "\n",
    "import os\n",
    "from os.path import join"
   ]
  },
  {
   "cell_type": "code",
   "execution_count": 53,
   "metadata": {},
   "outputs": [
    {
     "name": "stdout",
     "output_type": "stream",
     "text": [
      "/Users/julia.cave.arbanas/si676-2024-data\n"
     ]
    }
   ],
   "source": [
    "print(os.getcwd())"
   ]
  },
  {
   "cell_type": "code",
   "execution_count": 54,
   "metadata": {},
   "outputs": [],
   "source": [
    "def regenerate_collection_list(collection_csv):\n",
    "    \"\"\"\n",
    "    Reads a CSV file and returns the data as a dictionary.\n",
    "    \n",
    "    Parameters:\n",
    "    collection_csv (str): The path to the CSV file\n",
    "\n",
    "    Returns:\n",
    "    dict: A dictionary where each key is a column header and each value is a list of column values.\n",
    "    \"\"\"\n",
    "\n",
    "    coll_items = list()\n",
    "\n",
    "    with open(collection_csv, 'r', newline='', encoding='utf-8') as f:\n",
    "        data = csv.DictReader(f)\n",
    "\n",
    "        for row in data:\n",
    "            row_dict = dict()\n",
    "            for field in data.fieldnames:\n",
    "                row_dict[field] = row[field]\n",
    "            coll_items.append(row_dict)\n",
    "\n",
    "        return coll_items"
   ]
  },
  {
   "cell_type": "code",
   "execution_count": 55,
   "metadata": {},
   "outputs": [],
   "source": [
    "collection_csv = os.path.join('collection_project', 'ftu-libraries-set-list.csv')\n",
    "\n",
    "collection_set_list = regenerate_collection_list(collection_csv)"
   ]
  },
  {
   "cell_type": "code",
   "execution_count": 56,
   "metadata": {},
   "outputs": [
    {
     "data": {
      "text/plain": [
       "{'image': '/static/portals/free-to-use/public-domain/libraries/libraries-1.jpg',\n",
       " 'link': '/resource/cph.3f05183/',\n",
       " 'title': 'For greater knowledge, on more subjects, use your library more often. Illinois WPA Arts Project, 1936-1941. Prints & Photographs Division'}"
      ]
     },
     "execution_count": 56,
     "metadata": {},
     "output_type": "execute_result"
    }
   ],
   "source": [
    "collection_set_list[0]"
   ]
  },
  {
   "cell_type": "code",
   "execution_count": 57,
   "metadata": {},
   "outputs": [],
   "source": [
    "baseURL = 'https://www.loc.gov'\n",
    "parameters = {\n",
    "    'fo' : 'json'\n",
    "}"
   ]
  },
  {
   "cell_type": "code",
   "execution_count": 58,
   "metadata": {},
   "outputs": [
    {
     "name": "stdout",
     "output_type": "stream",
     "text": [
      "/Users/julia.cave.arbanas/si676-2024-data/collection_project/item_metadata exists\n"
     ]
    }
   ],
   "source": [
    "import os\n",
    "from os.path import join\n",
    "\n",
    "base_directory = os.path.expanduser('~/si676-2024-data')\n",
    "item_metadata_directory = join(base_directory, 'collection_project', 'item_metadata')\n",
    "\n",
    "if os.path.isdir(item_metadata_directory):\n",
    "    print(item_metadata_directory,'exists')\n",
    "else:\n",
    "    os.mkdir(item_metadata_directory)\n",
    "    print('created',item_metadata_directory)"
   ]
  },
  {
   "cell_type": "code",
   "execution_count": 59,
   "metadata": {},
   "outputs": [
    {
     "name": "stdout",
     "output_type": "stream",
     "text": [
      "requested https://www.loc.gov/resource/cph.3f05183/?fo=json 200\n",
      "wrote /Users/julia.cave.arbanas/si676-2024-data/collection_project/item_metadata/item_metadata-cph.3f05183.json\n",
      "requested https://www.loc.gov/resource/highsm.20336/?fo=json 200\n",
      "wrote /Users/julia.cave.arbanas/si676-2024-data/collection_project/item_metadata/item_metadata-highsm.20336.json\n",
      "requested https://www.loc.gov/resource/fsa.8d24709/?fo=json 200\n",
      "wrote /Users/julia.cave.arbanas/si676-2024-data/collection_project/item_metadata/item_metadata-fsa.8d24709.json\n",
      "requested https://www.loc.gov/resource/highsm.36052/?fo=json 200\n",
      "wrote /Users/julia.cave.arbanas/si676-2024-data/collection_project/item_metadata/item_metadata-highsm.36052.json\n",
      "requested https://www.loc.gov/resource/highsm.51772/?fo=json 200\n",
      "wrote /Users/julia.cave.arbanas/si676-2024-data/collection_project/item_metadata/item_metadata-highsm.51772.json\n",
      "requested https://www.loc.gov/resource/cph.3b43255/?fo=json 200\n",
      "wrote /Users/julia.cave.arbanas/si676-2024-data/collection_project/item_metadata/item_metadata-cph.3b43255.json\n",
      "requested https://www.loc.gov/resource/highsm.20483/?fo=json 200\n",
      "wrote /Users/julia.cave.arbanas/si676-2024-data/collection_project/item_metadata/item_metadata-highsm.20483.json\n",
      "requested https://www.loc.gov/resource/highsm.29207/?fo=json 200\n",
      "wrote /Users/julia.cave.arbanas/si676-2024-data/collection_project/item_metadata/item_metadata-highsm.29207.json\n",
      "requested https://www.loc.gov/resource/fsa.8b32222/?fo=json 200\n",
      "wrote /Users/julia.cave.arbanas/si676-2024-data/collection_project/item_metadata/item_metadata-fsa.8b32222.json\n",
      "requested https://www.loc.gov/resource/highsm.64003/?fo=json 200\n",
      "wrote /Users/julia.cave.arbanas/si676-2024-data/collection_project/item_metadata/item_metadata-highsm.64003.json\n",
      "requested https://www.loc.gov/resource/ppmsca.15412/?fo=json 200\n",
      "wrote /Users/julia.cave.arbanas/si676-2024-data/collection_project/item_metadata/item_metadata-ppmsca.15412.json\n",
      "requested https://www.loc.gov/resource/highsm.49335/?fo=json 200\n",
      "wrote /Users/julia.cave.arbanas/si676-2024-data/collection_project/item_metadata/item_metadata-highsm.49335.json\n",
      "requested https://www.loc.gov/resource/highsm.20497/?fo=json 200\n",
      "wrote /Users/julia.cave.arbanas/si676-2024-data/collection_project/item_metadata/item_metadata-highsm.20497.json\n",
      "requested https://www.loc.gov/resource/npcc.28724/?fo=json 200\n",
      "wrote /Users/julia.cave.arbanas/si676-2024-data/collection_project/item_metadata/item_metadata-npcc.28724.json\n",
      "requested https://www.loc.gov/resource/ds.06560/?fo=json 200\n",
      "wrote /Users/julia.cave.arbanas/si676-2024-data/collection_project/item_metadata/item_metadata-ds.06560.json\n",
      "requested https://www.loc.gov/resource/hhh.hi0135.photos?fo=json 200\n",
      "wrote /Users/julia.cave.arbanas/si676-2024-data/collection_project/item_metadata/item_metadata-hhh.hi0135.photos.json\n",
      "requested https://www.loc.gov/resource/cph.3f05168/?fo=json 200\n",
      "wrote /Users/julia.cave.arbanas/si676-2024-data/collection_project/item_metadata/item_metadata-cph.3f05168.json\n",
      "requested https://www.loc.gov/resource/ppmsca.15375/?fo=json 200\n",
      "wrote /Users/julia.cave.arbanas/si676-2024-data/collection_project/item_metadata/item_metadata-ppmsca.15375.json\n",
      "requested https://www.loc.gov/resource/highsm.53335/?fo=json 200\n",
      "wrote /Users/julia.cave.arbanas/si676-2024-data/collection_project/item_metadata/item_metadata-highsm.53335.json\n",
      "requested https://www.loc.gov/resource/hhh.ks0072.photos/?sp=2&fo=json 200\n",
      "wrote /Users/julia.cave.arbanas/si676-2024-data/collection_project/item_metadata/item_metadata-hhh.ks0072.photos.json\n",
      "requested https://www.loc.gov/resource/highsm.34640/?fo=json 200\n",
      "wrote /Users/julia.cave.arbanas/si676-2024-data/collection_project/item_metadata/item_metadata-highsm.34640.json\n",
      "requested https://www.loc.gov/item/97517380/ 200\n",
      "no json found\n",
      "requested https://www.loc.gov/resource/ppmsca.18016/?fo=json 200\n",
      "wrote /Users/julia.cave.arbanas/si676-2024-data/collection_project/item_metadata/item_metadata-ppmsca.18016.json\n",
      "requested https://www.loc.gov/resource/hhh.me0057.photos/?sp=1&fo=json 200\n",
      "wrote /Users/julia.cave.arbanas/si676-2024-data/collection_project/item_metadata/item_metadata-hhh.me0057.photos.json\n",
      "requested https://www.loc.gov/resource/highsm.41101/?fo=json 200\n",
      "wrote /Users/julia.cave.arbanas/si676-2024-data/collection_project/item_metadata/item_metadata-highsm.41101.json\n",
      "requested https://www.loc.gov/resource/det.4a17925/?fo=json 200\n",
      "wrote /Users/julia.cave.arbanas/si676-2024-data/collection_project/item_metadata/item_metadata-det.4a17925.json\n",
      "requested https://www.loc.gov/resource/ppmsca.15426/?fo=json 200\n",
      "wrote /Users/julia.cave.arbanas/si676-2024-data/collection_project/item_metadata/item_metadata-ppmsca.15426.json\n",
      "requested https://www.loc.gov/resource/ppmscd.00084/?fo=json 200\n",
      "wrote /Users/julia.cave.arbanas/si676-2024-data/collection_project/item_metadata/item_metadata-ppmscd.00084.json\n",
      "requested https://www.loc.gov/resource/highsm.18384/?fo=json 200\n",
      "wrote /Users/julia.cave.arbanas/si676-2024-data/collection_project/item_metadata/item_metadata-highsm.18384.json\n",
      "requested https://www.loc.gov/resource/g3851e.ct006252/?fo=json 200\n",
      "wrote /Users/julia.cave.arbanas/si676-2024-data/collection_project/item_metadata/item_metadata-g3851e.ct006252.json\n",
      "requested https://www.loc.gov/resource/ppmsca.35590/?fo=json 200\n",
      "wrote /Users/julia.cave.arbanas/si676-2024-data/collection_project/item_metadata/item_metadata-ppmsca.35590.json\n",
      "requested https://www.loc.gov/resource/hhh.il0998.sheet/?sp=1&fo=json 200\n",
      "wrote /Users/julia.cave.arbanas/si676-2024-data/collection_project/item_metadata/item_metadata-hhh.il0998.sheet.json\n",
      "requested https://www.loc.gov/resource/hhh.ok0012.sheet/?sp=8&q=hhh.ok0012&fo=json 200\n",
      "wrote /Users/julia.cave.arbanas/si676-2024-data/collection_project/item_metadata/item_metadata-hhh.ok0012.sheet.json\n",
      "requested https://www.loc.gov/resource/hhh.sc0767.photos/?sp=1&fo=json 200\n",
      "wrote /Users/julia.cave.arbanas/si676-2024-data/collection_project/item_metadata/item_metadata-hhh.sc0767.photos.json\n",
      "requested https://www.loc.gov/resource/hhh.nj0089.photos/?sp=4&fo=json 200\n",
      "wrote /Users/julia.cave.arbanas/si676-2024-data/collection_project/item_metadata/item_metadata-hhh.nj0089.photos.json\n",
      "requested https://www.loc.gov/resource/highsm.31350/?fo=json 200\n",
      "wrote /Users/julia.cave.arbanas/si676-2024-data/collection_project/item_metadata/item_metadata-highsm.31350.json\n",
      "requested https://www.loc.gov/resource/hhh.ri0071.photos/?sp=8&fo=json 200\n",
      "wrote /Users/julia.cave.arbanas/si676-2024-data/collection_project/item_metadata/item_metadata-hhh.ri0071.photos.json\n",
      "requested https://www.loc.gov/resource/highsm.48241/?fo=json 200\n",
      "wrote /Users/julia.cave.arbanas/si676-2024-data/collection_project/item_metadata/item_metadata-highsm.48241.json\n",
      "requested https://www.loc.gov/resource/det.4a23603/?fo=json 200\n",
      "wrote /Users/julia.cave.arbanas/si676-2024-data/collection_project/item_metadata/item_metadata-det.4a23603.json\n",
      "requested https://www.loc.gov/resource/highsm.04362/?fo=json 200\n",
      "wrote /Users/julia.cave.arbanas/si676-2024-data/collection_project/item_metadata/item_metadata-highsm.04362.json\n",
      "requested https://www.loc.gov/resource/hhh.dc0121.photos/?sp=24&fo=json 200\n",
      "wrote /Users/julia.cave.arbanas/si676-2024-data/collection_project/item_metadata/item_metadata-hhh.dc0121.photos.json\n",
      "requested https://www.loc.gov/resource/ppbd.00600/?fo=json 200\n",
      "wrote /Users/julia.cave.arbanas/si676-2024-data/collection_project/item_metadata/item_metadata-ppbd.00600.json\n",
      "requested https://www.loc.gov/resource/fsa.8b14169/?fo=json 200\n",
      "wrote /Users/julia.cave.arbanas/si676-2024-data/collection_project/item_metadata/item_metadata-fsa.8b14169.json\n",
      "requested https://www.loc.gov/resource/highsm.32720/?fo=json 200\n",
      "wrote /Users/julia.cave.arbanas/si676-2024-data/collection_project/item_metadata/item_metadata-highsm.32720.json\n",
      "requested https://www.loc.gov/resource/fsa.8c22565/?fo=json 200\n",
      "wrote /Users/julia.cave.arbanas/si676-2024-data/collection_project/item_metadata/item_metadata-fsa.8c22565.json\n",
      "requested https://www.loc.gov/resource/mrg.00785/?fo=json 200\n",
      "wrote /Users/julia.cave.arbanas/si676-2024-data/collection_project/item_metadata/item_metadata-mrg.00785.json\n",
      "requested https://www.loc.gov/resource/hhh.ak0345.photos/?sp=2&fo=json 200\n",
      "wrote /Users/julia.cave.arbanas/si676-2024-data/collection_project/item_metadata/item_metadata-hhh.ak0345.photos.json\n",
      "requested https://www.loc.gov/resource/highsm.43863/?fo=json 200\n",
      "wrote /Users/julia.cave.arbanas/si676-2024-data/collection_project/item_metadata/item_metadata-highsm.43863.json\n",
      "requested https://www.loc.gov/resource/highsm.42123/?fo=json 200\n",
      "wrote /Users/julia.cave.arbanas/si676-2024-data/collection_project/item_metadata/item_metadata-highsm.42123.json\n",
      "requested https://www.loc.gov/resource/cph.3c18157/?fo=json 200\n",
      "wrote /Users/julia.cave.arbanas/si676-2024-data/collection_project/item_metadata/item_metadata-cph.3c18157.json\n",
      "requested https://www.loc.gov/resource/ds.06507/?fo=json 200\n",
      "wrote /Users/julia.cave.arbanas/si676-2024-data/collection_project/item_metadata/item_metadata-ds.06507.json\n",
      "requested https://www.loc.gov/resource/highsm.24333/?fo=json 200\n",
      "wrote /Users/julia.cave.arbanas/si676-2024-data/collection_project/item_metadata/item_metadata-highsm.24333.json\n",
      "requested https://www.loc.gov/resource/mrg.00788/?fo=json 200\n",
      "wrote /Users/julia.cave.arbanas/si676-2024-data/collection_project/item_metadata/item_metadata-mrg.00788.json\n",
      "requested https://www.loc.gov/resource/highsm.20216/?fo=json 200\n",
      "wrote /Users/julia.cave.arbanas/si676-2024-data/collection_project/item_metadata/item_metadata-highsm.20216.json\n",
      "requested https://www.loc.gov/resource/cph.3b41963/?fo=json 200\n",
      "wrote /Users/julia.cave.arbanas/si676-2024-data/collection_project/item_metadata/item_metadata-cph.3b41963.json\n",
      "requested https://www.loc.gov/resource/mrg.00432/?fo=json 200\n",
      "wrote /Users/julia.cave.arbanas/si676-2024-data/collection_project/item_metadata/item_metadata-mrg.00432.json\n",
      "requested https://www.loc.gov/item/93510022/ 200\n",
      "no json found\n",
      "requested https://www.loc.gov/resource/highsm.60215/?fo=json 200\n",
      "wrote /Users/julia.cave.arbanas/si676-2024-data/collection_project/item_metadata/item_metadata-highsm.60215.json\n",
      "requested https://www.loc.gov/item/2007684180/ 200\n",
      "no json found\n",
      "requested https://www.loc.gov/resource/highsm.50410/?fo=json 200\n",
      "wrote /Users/julia.cave.arbanas/si676-2024-data/collection_project/item_metadata/item_metadata-highsm.50410.json\n",
      "requested https://www.loc.gov/resource/hhh.nv0134.photos?fo=json 200\n",
      "wrote /Users/julia.cave.arbanas/si676-2024-data/collection_project/item_metadata/item_metadata-hhh.nv0134.photos.json\n",
      "requested https://www.loc.gov/resource/highsm.18402?fo=json 200\n",
      "wrote /Users/julia.cave.arbanas/si676-2024-data/collection_project/item_metadata/item_metadata-highsm.18402.json\n",
      "--- mini LOG ---\n",
      "items requested: 59\n",
      "errors: 3\n",
      "files written: 59\n"
     ]
    }
   ],
   "source": [
    "item_count = 0\n",
    "error_count = 0\n",
    "file_count = 0\n",
    "\n",
    "base_directory = os.path.expanduser('~/si676-2024-data')\n",
    "item_metadata_directory = os.path.join(base_directory, 'collection_project', 'item_metadata')\n",
    "\n",
    "if not os.path.exists(item_metadata_directory):\n",
    "    os.makedirs(item_metadata_directory)\n",
    "    print('Created directory:', item_metadata_directory)\n",
    "\n",
    "data_directory = 'collection_project'\n",
    "item_metadata_directory = 'item_metadata'\n",
    "item_metadata_file_prefix = 'item_metadata'\n",
    "json_suffix = '.json'\n",
    "\n",
    "for item in collection_set_list:\n",
    "    if item['link'] == 'link':\n",
    "        continue\n",
    "    if '?' in item['link']:\n",
    "        resource_ID = item['link']\n",
    "        short_ID = item['link'].split('/')[2]\n",
    "        item_metadata = requests.get(baseURL + resource_ID, params={'fo':'json'})\n",
    "        print('requested',item_metadata.url,item_metadata.status_code)\n",
    "        if item_metadata.status_code != 200:\n",
    "            print('requested',item_metadata.url,item_metadata.status_code)\n",
    "            error_count += 1\n",
    "            continue\n",
    "        try:\n",
    "            item_metadata.json()\n",
    "        except:\n",
    "            error_count += 1\n",
    "            print('no json found')\n",
    "            continue\n",
    "        fout = os.path.join(base_directory,data_directory, item_metadata_directory, str(item_metadata_file_prefix + '-' + short_ID + json_suffix))\n",
    "        with open(fout, 'w', encoding='utf-8') as json_file:\n",
    "            json_file.write(json.dumps(item_metadata.json()['item']))\n",
    "            file_count += 1\n",
    "            print('wrote', fout)\n",
    "        item_count += 1\n",
    "    else:\n",
    "        resource_ID = item['link']\n",
    "        short_ID = item['link'].split('/')[2]\n",
    "        item_metadata = requests.get(baseURL + resource_ID, params={'fo':'json'})\n",
    "        print('requested',item_metadata.url,item_metadata.status_code)\n",
    "        if item_metadata.status_code != 200:\n",
    "            print('requested',item_metadata.url,item_metadata.status_code)\n",
    "            error_count += 1\n",
    "            continue\n",
    "        try:\n",
    "            item_metadata.json()\n",
    "        except:\n",
    "            error_count += 1\n",
    "            print('no json found')\n",
    "            continue\n",
    "        fout = os.path.join(base_directory,data_directory, item_metadata_directory, str(item_metadata_file_prefix + '-' + short_ID + json_suffix))\n",
    "        with open(fout, 'w', encoding='utf-8') as json_file:\n",
    "            json_file.write(json.dumps(item_metadata.json()['item']))\n",
    "            file_count += 1\n",
    "            print('wrote', fout)\n",
    "        item_count += 1\n",
    "\n",
    "print('--- mini LOG ---')\n",
    "print('items requested:',item_count)\n",
    "print('errors:',error_count)\n",
    "print('files written:',file_count)"
   ]
  },
  {
   "cell_type": "code",
   "execution_count": 61,
   "metadata": {},
   "outputs": [
    {
     "name": "stdout",
     "output_type": "stream",
     "text": [
      "Checking for /Users/julia.cave.arbanas/si676-2024-data/collection_project/item_files\n",
      "Files directory exists\n"
     ]
    }
   ],
   "source": [
    "base_directory = os.path.expanduser('~/si676-2024-data')\n",
    "project_dir = 'collection_project'\n",
    "files_dir = 'item_files'\n",
    "metadata_dir = 'item_metadata'\n",
    "\n",
    "files_loc = os.path.join(base_directory,project_dir,files_dir)\n",
    "print('Checking for',files_loc)\n",
    "\n",
    "# check directory\n",
    "if os.path.isdir(files_loc):\n",
    "    print('Files directory exists')\n",
    "else:\n",
    "    os.mkdir(files_loc)\n",
    "    print('Created file directory:',files_loc)"
   ]
  },
  {
   "cell_type": "code",
   "execution_count": 62,
   "metadata": {},
   "outputs": [],
   "source": [
    "import glob"
   ]
  },
  {
   "cell_type": "code",
   "execution_count": null,
   "metadata": {},
   "outputs": [],
   "source": [
    "search_for_metadata_here = os.path.join('..',project_dir,metadata_dir)\n",
    "\n",
    "print(search_for_metadata_here)\n",
    "\n",
    "metadata_file_list = glob.glob(search_for_metadata_here + '/*.json')\n",
    "\n",
    "print(metadata_file_list)\n"
   ]
  },
  {
   "cell_type": "code",
   "execution_count": null,
   "metadata": {},
   "outputs": [],
   "source": [
    "item_image_urls = list()\n",
    "count = 0\n",
    "\n",
    "for item in metadata_file_list:\n",
    "    with open(item, 'r', encoding='utf-8') as f:\n",
    "        metadata = json.load(f)\n",
    "        # noted this resource for working out index out of range errors: https://rollbar.com/blog/how-to-fix-python-list-index-out-of-range-error-in-for-loops/\n",
    "        image_url_no = len(metadata['image_url'])\n",
    "        image_url = metadata['image_url'][-1]\n",
    "        item_image_urls.append(image_url)\n",
    "        count += 1\n",
    "\n",
    "print(f'Identified { str(count) } image URLs')"
   ]
  },
  {
   "cell_type": "code",
   "execution_count": null,
   "metadata": {},
   "outputs": [],
   "source": [
    "item_image_urls"
   ]
  },
  {
   "cell_type": "code",
   "execution_count": null,
   "metadata": {},
   "outputs": [],
   "source": [
    "collection_set_list_with_images = list()\n",
    "\n",
    "for item in metadata_file_list:\n",
    "    with open(item, 'r', encoding='utf-8') as item_info:\n",
    "        item_metadata = json.load(item_info)\n",
    "\n",
    "        # add the metadata into a dictionary for each item\n",
    "        item_metadata_dict = dict()\n",
    "        item_metadata_dict['item_URI'] = item_metadata['id']\n",
    "        try:\n",
    "            item_metadata_dict['lccn'] = item_metadata['library_of_congress_control_number']\n",
    "        except:\n",
    "            item_metadata_dict['lccn'] = None\n",
    "        item_metadata_dict['title'] = item_metadata['title']\n",
    "        item_metadata_dict['image_URL_large'] = item_metadata['image_url'][-1]\n",
    "        \n",
    "        # add the metadata to the main list\n",
    "        collection_set_list_with_images.append(item_metadata_dict)\n",
    "\n",
    "print(collection_set_list_with_images[0])"
   ]
  },
  {
   "cell_type": "code",
   "execution_count": null,
   "metadata": {},
   "outputs": [],
   "source": [
    "item_count = 0\n",
    "error_count = 0\n",
    "file_count = 0\n",
    "\n",
    "img_file_prefix = 'img_'\n",
    "\n",
    "for item in collection_set_list_with_images:\n",
    "        image_URL = item['image_URL_large']\n",
    "        short_ID = item['item_URI'].split('/')[-2]\n",
    "        print('... requesting',image_URL)\n",
    "        item_count += 1\n",
    "\n",
    "        # if found, save image\n",
    "        r = requests.get(image_URL)\n",
    "        if r.status_code == 200:\n",
    "            img_out = os.path.join('..',project_dir,files_dir,str(img_file_prefix + short_ID + '.jpg'))\n",
    "            with open(img_out, 'wb') as file:\n",
    "                file.write(r.content)\n",
    "                print('Saved',img_out)\n",
    "                file_count += 1\n",
    "\n",
    "\n",
    "print('--- mini LOG ---')\n",
    "print('files requested:',item_count)\n",
    "print('errors:',error_count)\n",
    "print('files written:',file_count)"
   ]
  }
 ],
 "metadata": {
  "kernelspec": {
   "display_name": "Python 3",
   "language": "python",
   "name": "python3"
  },
  "language_info": {
   "codemirror_mode": {
    "name": "ipython",
    "version": 3
   },
   "file_extension": ".py",
   "mimetype": "text/x-python",
   "name": "python",
   "nbconvert_exporter": "python",
   "pygments_lexer": "ipython3",
   "version": "3.9.6"
  }
 },
 "nbformat": 4,
 "nbformat_minor": 2
}
