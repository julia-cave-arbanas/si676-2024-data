{
 "cells": [
  {
   "cell_type": "markdown",
   "metadata": {},
   "source": [
    "# Basic MARC Parser\n",
    "\n",
    "This notebook parses a MARC record, in a string format\n",
    "(aka the \"communications\" or transmission format). \n",
    "The parsing approach is based on the\n",
    "instructions and example presented by Betty Furrie\n",
    "in the essay \"Understanding MARC Bibliographic\"\n",
    "at https://www.loc.gov/marc/umb/um11to12.html"
   ]
  },
  {
   "cell_type": "code",
   "execution_count": 1,
   "metadata": {},
   "outputs": [],
   "source": [
    "marc_record = '01041cam  2200265 a 4500001002000000003000400020005001700024008004100041010002400082020002500106020004400131040001800175050002400193082001800217100003200235245008700267246003600354250001200390260003700402300002900439500004200468520022000510650003300730650001200763^###89048230#/AC/r91^DLC^19911106082810.9^891101s1990####maua###j######000#0#eng##^##$a###89048230#/AC/r91^##$a0316107514 :$c$12.95^##$a0316107506 (pbk.) :$c$5.95 ($6.95 Can.)^##$aDLC$cDLC$dDLC^00$aGV943.25$b.B74 1990^00$a796.334/2$220^10$aBrenner, Richard J.,$d1941-^10$aMake the team.$pSoccer :$ba heads up guide to super soccer! /$cRichard J. Brenner.^30$aHeads up guide to super soccer.^##$a1st ed.^##$aBoston :$bLittle, Brown,$cc1990.^##$a127 p. :$bill. ;$c19 cm.^##$a\"A Sports illustrated for kids book.\"^##$aInstructions for improving soccer skills. Discusses dribbling, heading, playmaking, defense, conditioning, mental attitude, how to handle problems with coaches, parents, and other players, and the history of soccer.^#0$aSoccer$vJuvenile literature.^#1$aSoccer.^\\\\'\n"
   ]
  },
  {
   "cell_type": "code",
   "execution_count": 2,
   "metadata": {},
   "outputs": [
    {
     "data": {
      "text/plain": [
       "1041"
      ]
     },
     "execution_count": 2,
     "metadata": {},
     "output_type": "execute_result"
    }
   ],
   "source": [
    "len(marc_record)"
   ]
  },
  {
   "cell_type": "markdown",
   "metadata": {},
   "source": [
    "The \"data\" in this case is a long string of letters and numbers. In this case, it is what Python calls a string datatype. You can do certain things with string data in Python, including \"slicing.\" Slicing is a way to extract or isolate a portion of the string based on its position in the data. To make a slice, you provide a starting index (strings start with index `0`) and an ending index (the slice goes up to, but doesn't include the last number noted). So, to \"slice\" the first 24 characters (the length of the leader), ask for the index `[0:24]`. (Even though it seems like that will give the first 25 characters it stops at the character preceding the last index.)"
   ]
  },
  {
   "cell_type": "code",
   "execution_count": 3,
   "metadata": {},
   "outputs": [
    {
     "data": {
      "text/plain": [
       "'01041cam  2200265 a 4500'"
      ]
     },
     "execution_count": 3,
     "metadata": {},
     "output_type": "execute_result"
    }
   ],
   "source": [
    "marc_record[0:24]"
   ]
  },
  {
   "cell_type": "markdown",
   "metadata": {},
   "source": [
    "According to Furrie, \"The first 24 positions are the leader. In this example the leader fills approximately 1/3 of the first line and ends with '4500.' Since the above also ends in 4500, this suggests that the above indeed isolates the leader data.\n",
    "\n",
    "The leader is followed by the directory. Because a MARC record could, in theory, have about 100 separate fields, there is not a fixed length of the directory. But we do know that the carat `^` character is used to separate (or \"delimit\") the fields following the directory. So to isolate the directory, try splitting the string based on the delimiter. Then, since you know the leader is 24 characters long, subtract that to get the usable indexes to \"slice\" the string to show the directory."
   ]
  },
  {
   "cell_type": "code",
   "execution_count": 4,
   "metadata": {},
   "outputs": [
    {
     "name": "stdout",
     "output_type": "stream",
     "text": [
      "01041cam  2200265 a 4500001002000000003000400020005001700024008004100041010002400082020002500106020004400131040001800175050002400193082001800217100003200235245008700267246003600354250001200390260003700402300002900439500004200468520022000510650003300730650001200763\n"
     ]
    }
   ],
   "source": [
    "broken_record = marc_record.split('^')\n",
    "\n",
    "ldr_dir = broken_record[0]\n",
    "\n",
    "print(ldr_dir)"
   ]
  },
  {
   "cell_type": "code",
   "execution_count": 5,
   "metadata": {},
   "outputs": [
    {
     "name": "stdout",
     "output_type": "stream",
     "text": [
      "001002000000003000400020005001700024008004100041010002400082020002500106020004400131040001800175050002400193082001800217100003200235245008700267246003600354250001200390260003700402300002900439500004200468520022000510650003300730650001200763\n"
     ]
    }
   ],
   "source": [
    "len_ldr = 24\n",
    "\n",
    "len_dir = len(broken_record[0])\n",
    "\n",
    "directory = marc_record[len_ldr:len_dir]\n",
    "\n",
    "print(directory)"
   ]
  },
  {
   "cell_type": "markdown",
   "metadata": {},
   "source": [
    "Alternatively, you could just count up the number of characters in the sample record. The leader is always 24. In this case, 20 fields, each at 12 characters suggests 240. When you add the dir and ldr, it should stop at 264. \n",
    "\n",
    "Test it:"
   ]
  },
  {
   "cell_type": "code",
   "execution_count": 6,
   "metadata": {},
   "outputs": [
    {
     "name": "stdout",
     "output_type": "stream",
     "text": [
      "leader: 01041cam  2200265 a 4500\n",
      "directory: 001002000000003000400020005001700024008004100041010002400082020002500106020004400131040001800175050002400193082001800217100003200235245008700267246003600354250001200390260003700402300002900439500004200468520022000510650003300730650001200763\n"
     ]
    }
   ],
   "source": [
    "leader = marc_record[:24]\n",
    "directory = marc_record[24:264]\n",
    "print('leader:',leader)\n",
    "print('directory:',directory)"
   ]
  },
  {
   "cell_type": "markdown",
   "metadata": {},
   "source": [
    "Assuming the above, without even knowing the delimiter character, you could assume the record data begins at position 266 (that is, the characters in the leader, directory, plus one for the delimiter)."
   ]
  },
  {
   "cell_type": "code",
   "execution_count": 7,
   "metadata": {},
   "outputs": [
    {
     "name": "stdout",
     "output_type": "stream",
     "text": [
      "###89048230#/AC/r91^DLC^19911106082810.9^891101s1990####maua###j######000#0#eng##^##$a###89048230#/AC/r91^##$a0316107514 :$c$12.95^##$a0316107506 (pbk.) :$c$5.95 ($6.95 Can.)^##$aDLC$cDLC$dDLC^00$aGV943.25$b.B74 1990^00$a796.334/2$220^10$aBrenner, Richard J.,$d1941-^10$aMake the team.$pSoccer :$ba heads up guide to super soccer! /$cRichard J. Brenner.^30$aHeads up guide to super soccer.^##$a1st ed.^##$aBoston :$bLittle, Brown,$cc1990.^##$a127 p. :$bill. ;$c19 cm.^##$a\"A Sports illustrated for kids book.\"^##$aInstructions for improving soccer skills. Discusses dribbling, heading, playmaking, defense, conditioning, mental attitude, how to handle problems with coaches, parents, and other players, and the history of soccer.^#0$aSoccer$vJuvenile literature.^#1$aSoccer.^\\\n"
     ]
    }
   ],
   "source": [
    "fields = marc_record[265:]\n",
    "print(fields)"
   ]
  },
  {
   "cell_type": "markdown",
   "metadata": {},
   "source": [
    "To actually parse the directory, you need to develop a way to look through the directory string, then separate it into units of 12 characters. Python has a function called `range()` which will do this. It allows you to loop through a specifed segment of a variable and, critically, define how big the \"steps\" are (in this case, 12):"
   ]
  },
  {
   "cell_type": "code",
   "execution_count": 8,
   "metadata": {},
   "outputs": [
    {
     "name": "stdout",
     "output_type": "stream",
     "text": [
      "001002000000\n",
      "003000400020\n",
      "005001700024\n",
      "008004100041\n",
      "010002400082\n",
      "020002500106\n",
      "020004400131\n",
      "040001800175\n",
      "050002400193\n",
      "082001800217\n",
      "100003200235\n",
      "245008700267\n",
      "246003600354\n",
      "250001200390\n",
      "260003700402\n",
      "300002900439\n",
      "500004200468\n",
      "520022000510\n",
      "650003300730\n",
      "650001200763\n",
      "\n",
      "Title Statement: 245008700267\n"
     ]
    }
   ],
   "source": [
    "for entry in range(0, len(directory), 12):\n",
    "    print(directory[entry:entry+12])\n",
    "    toc = directory[entry:entry+12]\n",
    "    if toc.startswith('245'):\n",
    "        dir_tstmt = toc \n",
    "\n",
    "print('\\nTitle Statement directory:',dir_tstmt)"
   ]
  },
  {
   "cell_type": "markdown",
   "metadata": {},
   "source": [
    "Finally, with a bit more work, use the directory to save the field tag, and the indices to slice the data for the title from the full string. \n",
    "\n",
    "Hint: the directory indices start with the first character in the data fields, so you have to make use of the total length of the directory, for which you can reuse the `len_dir` value determined and saved above."
   ]
  },
  {
   "cell_type": "code",
   "execution_count": 11,
   "metadata": {},
   "outputs": [
    {
     "name": "stdout",
     "output_type": "stream",
     "text": [
      "Full directory length: 264\n",
      "Field: 245\n",
      "Starts at: 00267\n",
      "Length: 0087\n",
      "\n",
      "Finally, here is the data you were looking for, the 245 field:\n",
      " 10$aMake the team.$pSoccer :$ba heads up guide to super soccer! /$cRichard J. Brenner.\n"
     ]
    }
   ],
   "source": [
    "len_dir = len(broken_record[0])\n",
    "print('Full directory length:',len_dir)\n",
    "\n",
    "print('Field:',dir_tstmt[:3])\n",
    "\n",
    "tstmt_start = dir_tstmt[7:]\n",
    "print('Starts at:',tstmt_start)\n",
    "\n",
    "tstmt_len = dir_tstmt[3:7]\n",
    "print('Length:',tstmt_len)\n",
    "\n",
    "# the next line is a bit clunky, but you need to convert the strings to numbers so that Python understands how to add them:\n",
    "tstmt = marc_record[int(len_dir)+1+int(tstmt_start):int(len_dir)+int(tstmt_start)+int(tstmt_len)]\n",
    "\n",
    "print('\\nFinally, here is the data you were looking for, the 245 field:\\n',tstmt)"
   ]
  },
  {
   "cell_type": "markdown",
   "metadata": {},
   "source": [
    "It's a bit complicated, right? But the above intends to illustrate some of the logical rules that you could use to build up more complicated parser code that would process the full record. \n",
    "\n",
    "Fortunately, you don't need to do that. Why not? Because the MARC Bibliographic data format is well documented and well known, and other people have already done this for us. Yay! Some tools you can use include a Python library called [`pymarc`](https://pypi.org/project/pymarc/), or the widely used [MarcEdit](https://marcedit.reeset.net/downloads)."
   ]
  }
 ],
 "metadata": {
  "kernelspec": {
   "display_name": "base",
   "language": "python",
   "name": "python3"
  },
  "language_info": {
   "codemirror_mode": {
    "name": "ipython",
    "version": 3
   },
   "file_extension": ".py",
   "mimetype": "text/x-python",
   "name": "python",
   "nbconvert_exporter": "python",
   "pygments_lexer": "ipython3",
   "version": "3.9.18"
  }
 },
 "nbformat": 4,
 "nbformat_minor": 2
}
