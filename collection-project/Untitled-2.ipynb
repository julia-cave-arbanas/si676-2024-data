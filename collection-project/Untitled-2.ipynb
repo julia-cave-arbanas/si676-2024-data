{
 "cells": [
  {
   "cell_type": "code",
   "execution_count": 1,
   "metadata": {},
   "outputs": [],
   "source": [
    "import json\n",
    "from os.path import join"
   ]
  },
  {
   "cell_type": "code",
   "execution_count": 3,
   "metadata": {},
   "outputs": [
    {
     "name": "stdout",
     "output_type": "stream",
     "text": [
      "{\n",
      "  \"_version_\": 1731714874606616576,\n",
      "  \"access_restricted\": false,\n",
      "  \"aka\": [\n",
      "    \"https://www.loc.\n"
     ]
    }
   ],
   "source": [
    "with open(join('/Users/julia.cave.arbanas/si676-2024-data','collection_project','item_metadata','item_metadata-cph.3b41963.json'), encoding='utf-8') as file:\n",
    "    metadata = json.load(file)\n",
    "\n",
    "# check if it's there\n",
    "print(json.dumps(metadata, indent=2)[:100])"
   ]
  },
  {
   "cell_type": "code",
   "execution_count": 4,
   "metadata": {},
   "outputs": [
    {
     "name": "stdout",
     "output_type": "stream",
     "text": [
      "call_number :\t SSF - Libraries--Georgia--Cordele <item> [P&P]\n",
      "control_number :\t 91787443\n",
      "created :\t 2016-04-21T09:17:00Z\n",
      "created_published :\t [ca. 1916]\n",
      "created_published_date :\t [ca. 1916]\n",
      "date :\t [ca. 1916]\n",
      "digital_id :\t ['cph 3b41963 //hdl.loc.gov/loc.pnp/cph.3b41963']\n",
      "display_offsite :\t True\n",
      "format :\t ['still image']\n",
      "formats :\t [{'link': 'https://www.loc.gov/pictures/related/?fi=format&q=Photographic%20prints--1910-1920.&co=cph', 'title': 'Photographic prints--1910-1920.'}]\n",
      "genre :\t ['Photographic prints--1910-1920']\n",
      "id :\t 91787443\n",
      "link :\t https://www.loc.gov/pictures/item/91787443/\n",
      "location :\t ['Georgia--Cordele']\n",
      "marc :\t https://www.loc.gov/pictures/item/91787443/marc/\n",
      "medium :\t ['1 photographic print.']\n",
      "medium_brief :\t 1 photographic print.\n",
      "mediums :\t ['1 photographic print.']\n",
      "modified :\t 2016-04-21T09:17:00Z\n",
      "notes :\t ['At bottom right of photo: \"Cordele Book Co.\"', 'Wittemann Collection.']\n",
      "number_former_id :\t ['https://www.loc.gov/item/91787443', 'https://www.loc.gov/item/11583075']\n",
      "other_control_numbers :\t ['11583075']\n",
      "place :\t [{'latitude': '', 'link': 'https://www.loc.gov/pictures/related/?fi=place&q=Georgia--Cordele&co=cph', 'longitude': '', 'title': 'Georgia--Cordele'}]\n",
      "reproduction_number :\t LC-USZ62-95830 (b&w film copy neg.)\n",
      "resource_links :\t ['//hdl.loc.gov/loc.pnp/cph.3b41963']\n",
      "rights_advisory :\t No known restrictions on publication.\n",
      "rights_information :\t No known restrictions on publication.\n",
      "service_low :\t https://tile.loc.gov/storage-services/service/pnp/cph/3b40000/3b41000/3b41900/3b41963_150px.jpg\n",
      "service_medium :\t https://tile.loc.gov/storage-services/service/pnp/cph/3b40000/3b41000/3b41900/3b41963r.jpg\n",
      "sort_date :\t 1916\n",
      "source_created :\t 1991-08-22T00:00:00Z\n",
      "source_modified :\t 2012-06-14T21:04:56Z\n",
      "subject_headings :\t ['Libraries--Georgia--Cordele--1910-1920.', 'Georgia--Cordele']\n",
      "subjects :\t ['Libraries--Georgia--Cordele--1910-1920']\n",
      "summary :\t Photo shows a group of children posed on and in front of steps, roof and dome draped with stars and stripes banners. A Carnegie grant for $10,000 in 1903 funded this building, with an  additional $7,556 in 1916 for remodeling. Still used as a public library.\n",
      "thumb_gallery :\t https://tile.loc.gov/storage-services/service/pnp/cph/3b40000/3b41000/3b41900/3b41963_150px.jpg\n",
      "title :\t Carnegie Library, Cordele, Georgia\n"
     ]
    }
   ],
   "source": [
    "for attribute in metadata['item'].items():\n",
    "    print(attribute[0], ':\\t', attribute[1])"
   ]
  },
  {
   "cell_type": "code",
   "execution_count": 7,
   "metadata": {},
   "outputs": [],
   "source": [
    "metadata_fields_file = join('/Users/julia.cave.arbanas/si676-2024-data','collection_project','metadata_fields.txt')\n",
    "\n",
    "with open(metadata_fields_file, 'w') as f:\n",
    "    f.write('attribute\\tvalue\\n')\n",
    "    for attribute in metadata['item'].items():\n",
    "        f.write(str(attribute[0]) + '\\t' + str(attribute[1]) + '\\n')"
   ]
  },
  {
   "cell_type": "code",
   "execution_count": 8,
   "metadata": {},
   "outputs": [
    {
     "name": "stdout",
     "output_type": "stream",
     "text": [
      "created\n",
      "created_published\n",
      "created_published_date\n",
      "source_created\n"
     ]
    }
   ],
   "source": [
    "for attribute in metadata.keys():\n",
    "    if 'created' in attribute:\n",
    "        print(attribute)\n"
   ]
  },
  {
   "cell_type": "code",
   "execution_count": 9,
   "metadata": {},
   "outputs": [
    {
     "name": "stdout",
     "output_type": "stream",
     "text": [
      "created_published_date\n",
      "date\n",
      "dates\n",
      "sort_date\n"
     ]
    }
   ],
   "source": [
    "for attribute in metadata.keys():\n",
    "    if 'date' in attribute:\n",
    "        print(attribute)\n"
   ]
  },
  {
   "cell_type": "code",
   "execution_count": 10,
   "metadata": {},
   "outputs": [
    {
     "name": "stdout",
     "output_type": "stream",
     "text": [
      "2016-04-21T09:17:00Z\n",
      "1916-01-01\n",
      "[ca. 1916]\n",
      "1991-08-22T00:00:00Z\n",
      "[{'1916': 'https://www.loc.gov/search/?dates=1916/1916&fo=json'}]\n"
     ]
    }
   ],
   "source": [
    "created = metadata['created']\n",
    "date = metadata['date']\n",
    "created_published_date = metadata['created_published_date']\n",
    "source_created = metadata['source_created']\n",
    "dates = metadata['dates']\n",
    "\n",
    "print(created)\n",
    "print(date)\n",
    "print(created_published_date)\n",
    "print(source_created)\n",
    "print(dates)\n"
   ]
  },
  {
   "cell_type": "code",
   "execution_count": 11,
   "metadata": {},
   "outputs": [
    {
     "name": "stdout",
     "output_type": "stream",
     "text": [
      "{'date': '1916-01-01', 'created': '[ca. 1916]'}\n"
     ]
    }
   ],
   "source": [
    "item_data = {\n",
    "    'date': metadata['date'],\n",
    "    'created': metadata['created_published_date']\n",
    "}\n",
    "\n",
    "print(item_data)\n"
   ]
  }
 ],
 "metadata": {
  "kernelspec": {
   "display_name": "Python 3",
   "language": "python",
   "name": "python3"
  },
  "language_info": {
   "codemirror_mode": {
    "name": "ipython",
    "version": 3
   },
   "file_extension": ".py",
   "mimetype": "text/x-python",
   "name": "python",
   "nbconvert_exporter": "python",
   "pygments_lexer": "ipython3",
   "version": "3.9.6"
  }
 },
 "nbformat": 4,
 "nbformat_minor": 2
}
