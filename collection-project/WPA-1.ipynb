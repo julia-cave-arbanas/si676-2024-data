{
 "cells": [
  {
   "cell_type": "code",
   "execution_count": 1,
   "metadata": {},
   "outputs": [
    {
     "name": "stderr",
     "output_type": "stream",
     "text": [
      "/Users/julia.cave.arbanas/Library/Python/3.9/lib/python/site-packages/urllib3/__init__.py:35: NotOpenSSLWarning: urllib3 v2 only supports OpenSSL 1.1.1+, currently the 'ssl' module is compiled with 'LibreSSL 2.8.3'. See: https://github.com/urllib3/urllib3/issues/3020\n",
      "  warnings.warn(\n"
     ]
    }
   ],
   "source": [
    "import csv\n",
    "import json\n",
    "import requests\n",
    "import os"
   ]
  },
  {
   "cell_type": "code",
   "execution_count": 2,
   "metadata": {},
   "outputs": [],
   "source": [
    "endpoint = 'https://www.loc.gov/free-to-use'\n",
    "parameters = {\n",
    "    'fo' : 'json'\n",
    "}"
   ]
  },
  {
   "cell_type": "code",
   "execution_count": 3,
   "metadata": {},
   "outputs": [],
   "source": [
    "collection = 'wpa-posters'"
   ]
  },
  {
   "cell_type": "code",
   "execution_count": 4,
   "metadata": {},
   "outputs": [],
   "source": [
    "collection_list_response = requests.get(endpoint + '/' + collection, params=parameters)"
   ]
  },
  {
   "cell_type": "code",
   "execution_count": 5,
   "metadata": {},
   "outputs": [
    {
     "name": "stdout",
     "output_type": "stream",
     "text": [
      "JSON data saved\n"
     ]
    }
   ],
   "source": [
    "collection_json = collection_list_response.json()\n",
    "\n",
    "local_json_collection = '/Users/julia.cave.arbanas/si676-2024-data/collection_project_WPA/collection_list_response.json'\n",
    "\n",
    "with open(local_json_collection, 'w', encoding='utf-8', newline='') as f:\n",
    "    json.dump(collection_json, f, ensure_ascii=False, indent=4)\n",
    "print(f'JSON data saved')"
   ]
  },
  {
   "cell_type": "code",
   "execution_count": 6,
   "metadata": {},
   "outputs": [
    {
     "data": {
      "text/plain": [
       "dict_keys(['breadcrumbs', 'content', 'content_is_post', 'description', 'disable_max_line_length', 'expert_resources', 'manifest', 'next', 'next_sibling', 'options', 'pages', 'portal', 'previous', 'previous_sibling', 'site_type', 'timestamp', 'title', 'type'])"
      ]
     },
     "execution_count": 6,
     "metadata": {},
     "output_type": "execute_result"
    }
   ],
   "source": [
    "collection_json.keys()"
   ]
  },
  {
   "cell_type": "code",
   "execution_count": 7,
   "metadata": {},
   "outputs": [
    {
     "name": "stdout",
     "output_type": "stream",
     "text": [
      "{'image': '/static/portals/free-to-use/public-domain/wpa-posters/a-book-mark-would-be-better-loc_6629878315_o.jpg', 'link': '/item/2011645389/', 'title': 'A book mark would be better!'}\n",
      "{'image': '/static/portals/free-to-use/public-domain/wpa-posters/live-here-at-low-rent---lakeview-terrace-1340-west-28th-st-at-main-avenue-bridge-loc_6629877709_o.jpg', 'link': '/item/98518952/', 'title': 'Live here at low rent - Lakeview Terrace, 1340 West 28th St. at Main Avenue bridge'}\n",
      "{'image': '/static/portals/free-to-use/public-domain/wpa-posters/be-careful-near-machinery-loc_6629877217_o.jpg', 'link': '/item/98518717/', 'title': 'Be careful near machinery'}\n",
      "{'image': '/static/portals/free-to-use/public-domain/wpa-posters/the-national-parks-preserve-wild-life-loc_6629876663_o.jpg', 'link': '/item/98518597/', 'title': 'The national parks preserve wild life'}\n",
      "{'image': '/static/portals/free-to-use/public-domain/wpa-posters/understanding-the-arts-loc_6629876317_o.jpg', 'link': '/item/98518272/', 'title': 'Understanding the arts / Shari.'}\n",
      "{'image': '/static/portals/free-to-use/public-domain/wpa-posters/keeping-up-with-science-loc_6629875959_o.jpg', 'link': '/item/98518267/', 'title': 'Keeping up with science'}\n",
      "{'image': '/static/portals/free-to-use/public-domain/wpa-posters/careers-ahead-loc_6629875593_o.jpg', 'link': '/item/98517916/', 'title': 'Careers ahead'}\n",
      "{'image': '/static/portals/free-to-use/public-domain/wpa-posters/work-with-care-loc_6629875181_o.jpg', 'link': '/item/98517388/', 'title': 'Work with care'}\n",
      "{'image': '/static/portals/free-to-use/public-domain/wpa-posters/let-them-grow-loc_6629874647_o.jpg', 'link': '/item/98517179/', 'title': 'Let them grow'}\n",
      "{'image': '/static/portals/free-to-use/public-domain/wpa-posters/spare-our-trees-loc_6629874295_o.jpg', 'link': '/item/98517129/', 'title': 'Spare our trees'}\n",
      "{'image': '/static/portals/free-to-use/public-domain/wpa-posters/keep-your-fire-escapes-clear-loc_6629873905_o.jpg', 'link': '/item/98516613/', 'title': 'Keep your fire escapes clear'}\n",
      "{'image': '/static/portals/free-to-use/public-domain/wpa-posters/balanced-diet-for-the-expectant-mother-loc_6629873557_o.jpg', 'link': '/item/98513398/', 'title': 'Balanced diet for the expectant mother'}\n",
      "{'image': '/static/portals/free-to-use/public-domain/wpa-posters/the-vacation-reading-club---join-now-at-your-public-library-loc_6629873199_o.jpg', 'link': '/item/98510373/', 'title': 'The vacation reading club - join now at your public library'}\n",
      "{'image': '/static/portals/free-to-use/public-domain/wpa-posters/national-letter-writing-week-oct-1-7-loc_6629872823_o.jpg', 'link': '/item/98508422/', 'title': 'National letter writing week, Oct. 1-7'}\n",
      "{'image': '/static/portals/free-to-use/public-domain/wpa-posters/fire-wrecks-a-forest-loc_6629872501_o.jpg', 'link': '/item/98508191/', 'title': 'Fire wrecks a forest'}\n",
      "{'image': '/static/portals/free-to-use/public-domain/wpa-posters/in-march-read-the-books-youve-always-meant-to-read-loc_6629871985_o.jpg', 'link': '/item/98507722/', 'title': \"In March read the books you've always meant to read\"}\n",
      "{'image': '/static/portals/free-to-use/public-domain/wpa-posters/photography-exhibition-loc_6629871657_o.jpg', 'link': '/item/98507251/', 'title': 'Photography exhibition'}\n",
      "{'image': '/static/portals/free-to-use/public-domain/wpa-posters/photographs-second-annual-exhibition-sioux-city-camera-club-loc_6629871169_o.jpg', 'link': '/item/96510383/', 'title': 'Photographs, second annual exhibition, Sioux City Camera Club'}\n",
      "{'image': '/static/portals/free-to-use/public-domain/wpa-posters/see-america-loc_6629870749_o.jpg', 'link': '/item/96503125/', 'title': 'See America'}\n",
      "{'image': '/static/portals/free-to-use/public-domain/wpa-posters/bands-on-parade-outstanding-eastern-illinois-high-school-bands-loc_8384088837_o.jpg', 'link': '/item/98508363/', 'title': 'Bands on parade outstanding eastern Illinois high school bands.'}\n",
      "{'image': '/static/portals/free-to-use/public-domain/wpa-posters/visit-the-zoo-loc_6629867953_o.jpg', 'link': '/item/94502738/', 'title': 'Visit the zoo'}\n",
      "{'image': '/static/portals/free-to-use/public-domain/wpa-posters/dont-mix-em-loc_6629870069_o.jpg', 'link': '/item/93511155/', 'title': \"Don't mix 'em\"}\n",
      "{'image': '/static/portals/free-to-use/public-domain/wpa-posters/keep-your-teeth-clean-loc_6629869765_o.jpg', 'link': '/item/92517367/', 'title': 'Keep your teeth clean'}\n",
      "{'image': '/static/portals/free-to-use/public-domain/wpa-posters/dont-kill-our-wild-life-loc_6629869437_o.jpg', 'link': '/item/92509203/', 'title': \"Don't kill our wild life\"}\n"
     ]
    }
   ],
   "source": [
    "for k in collection_json['content']['set']['items']:\n",
    "    print(k)"
   ]
  },
  {
   "cell_type": "code",
   "execution_count": 8,
   "metadata": {},
   "outputs": [
    {
     "data": {
      "text/plain": [
       "24"
      ]
     },
     "execution_count": 8,
     "metadata": {},
     "output_type": "execute_result"
    }
   ],
   "source": [
    "len(collection_json['content']['set']['items'])"
   ]
  },
  {
   "cell_type": "code",
   "execution_count": 9,
   "metadata": {},
   "outputs": [
    {
     "data": {
      "text/plain": [
       "dict_keys(['image', 'link', 'title'])"
      ]
     },
     "execution_count": 9,
     "metadata": {},
     "output_type": "execute_result"
    }
   ],
   "source": [
    "collection_json['content']['set']['items'][0].keys()"
   ]
  },
  {
   "cell_type": "code",
   "execution_count": 13,
   "metadata": {},
   "outputs": [
    {
     "name": "stdout",
     "output_type": "stream",
     "text": [
      "wrote /Users/julia.cave.arbanas/si676-2024-data/collection_project_WPA/ftu-WPA-set-list.csv\n"
     ]
    }
   ],
   "source": [
    "collection_set_list = '/Users/julia.cave.arbanas/si676-2024-data/collection_project_WPA/ftu-WPA-set-list.csv'\n",
    "headers = ['image','link','title']\n",
    "\n",
    "with open(collection_set_list, 'w', encoding='utf-8', newline='') as f:\n",
    "    writer = csv.DictWriter(f, fieldnames=headers)\n",
    "    writer.writeheader()\n",
    "    for item in collection_json['content']['set']['items']:\n",
    "        item['title'] = item['title'].rstrip()\n",
    "        writer.writerow(item)\n",
    "    print('wrote',collection_set_list)"
   ]
  },
  {
   "cell_type": "code",
   "execution_count": 11,
   "metadata": {},
   "outputs": [],
   "source": [
    "import csv\n",
    "import json\n",
    "import requests\n",
    "\n",
    "import os\n",
    "from os.path import join"
   ]
  },
  {
   "cell_type": "code",
   "execution_count": 12,
   "metadata": {},
   "outputs": [
    {
     "name": "stdout",
     "output_type": "stream",
     "text": [
      "/Users/julia.cave.arbanas/si676-2024-data/collection-project\n"
     ]
    }
   ],
   "source": [
    "print(os.getcwd())"
   ]
  },
  {
   "cell_type": "code",
   "execution_count": 14,
   "metadata": {},
   "outputs": [],
   "source": [
    "def regenerate_collection_list(collection_csv):\n",
    "    \"\"\"\n",
    "    Reads a CSV file and returns the data as a dictionary.\n",
    "    \n",
    "    Parameters:\n",
    "    collection_csv (str): The path to the CSV file\n",
    "\n",
    "    Returns:\n",
    "    dict: A dictionary where each key is a column header and each value is a list of column values.\n",
    "    \"\"\"\n",
    "\n",
    "    coll_items = list()\n",
    "\n",
    "    with open(collection_csv, 'r', newline='', encoding='utf-8') as f:\n",
    "        data = csv.DictReader(f)\n",
    "\n",
    "        for row in data:\n",
    "            row_dict = dict()\n",
    "            for field in data.fieldnames:\n",
    "                row_dict[field] = row[field]\n",
    "            coll_items.append(row_dict)\n",
    "\n",
    "        return coll_items\n"
   ]
  },
  {
   "cell_type": "code",
   "execution_count": 16,
   "metadata": {},
   "outputs": [],
   "source": [
    "collection_csv = os.path.join('/Users/julia.cave.arbanas/si676-2024-data/collection_project_WPA', 'ftu-WPA-set-list.csv')\n",
    "\n",
    "collection_set_list = regenerate_collection_list(collection_csv)"
   ]
  },
  {
   "cell_type": "code",
   "execution_count": 17,
   "metadata": {},
   "outputs": [
    {
     "data": {
      "text/plain": [
       "{'image': '/static/portals/free-to-use/public-domain/wpa-posters/a-book-mark-would-be-better-loc_6629878315_o.jpg',\n",
       " 'link': '/item/2011645389/',\n",
       " 'title': 'A book mark would be better!'}"
      ]
     },
     "execution_count": 17,
     "metadata": {},
     "output_type": "execute_result"
    }
   ],
   "source": [
    "collection_set_list[0]"
   ]
  },
  {
   "cell_type": "code",
   "execution_count": 18,
   "metadata": {},
   "outputs": [],
   "source": [
    "baseURL = 'https://www.loc.gov'\n",
    "parameters = {\n",
    "    'fo' : 'json'\n",
    "}"
   ]
  },
  {
   "cell_type": "code",
   "execution_count": 19,
   "metadata": {},
   "outputs": [
    {
     "name": "stdout",
     "output_type": "stream",
     "text": [
      "created /Users/julia.cave.arbanas/si676-2024-data/collection_project_WPA/item_metadata\n"
     ]
    }
   ],
   "source": [
    "import os\n",
    "from os.path import join\n",
    "\n",
    "base_directory = os.path.expanduser('~/si676-2024-data')\n",
    "item_metadata_directory = join(base_directory, 'collection_project_WPA', 'item_metadata')\n",
    "\n",
    "if os.path.isdir(item_metadata_directory):\n",
    "    print(item_metadata_directory,'exists')\n",
    "else:\n",
    "    os.mkdir(item_metadata_directory)\n",
    "    print('created',item_metadata_directory)"
   ]
  },
  {
   "cell_type": "code",
   "execution_count": 20,
   "metadata": {},
   "outputs": [
    {
     "name": "stdout",
     "output_type": "stream",
     "text": [
      "requested https://www.loc.gov/item/2011645389/?fo=json 200\n",
      "wrote /Users/julia.cave.arbanas/si676-2024-data/collection_project_WPA/item_metadata/item_metadata-2011645389.json\n",
      "requested https://www.loc.gov/item/98518952/?fo=json 200\n",
      "wrote /Users/julia.cave.arbanas/si676-2024-data/collection_project_WPA/item_metadata/item_metadata-98518952.json\n",
      "requested https://www.loc.gov/item/98518717/?fo=json 200\n",
      "wrote /Users/julia.cave.arbanas/si676-2024-data/collection_project_WPA/item_metadata/item_metadata-98518717.json\n",
      "requested https://www.loc.gov/item/98518597/?fo=json 200\n",
      "wrote /Users/julia.cave.arbanas/si676-2024-data/collection_project_WPA/item_metadata/item_metadata-98518597.json\n",
      "requested https://www.loc.gov/item/98518272/?fo=json 200\n",
      "wrote /Users/julia.cave.arbanas/si676-2024-data/collection_project_WPA/item_metadata/item_metadata-98518272.json\n",
      "requested https://www.loc.gov/item/98518267/?fo=json 200\n",
      "wrote /Users/julia.cave.arbanas/si676-2024-data/collection_project_WPA/item_metadata/item_metadata-98518267.json\n",
      "requested https://www.loc.gov/item/98517916/?fo=json 200\n",
      "wrote /Users/julia.cave.arbanas/si676-2024-data/collection_project_WPA/item_metadata/item_metadata-98517916.json\n",
      "requested https://www.loc.gov/item/98517388/?fo=json 200\n",
      "wrote /Users/julia.cave.arbanas/si676-2024-data/collection_project_WPA/item_metadata/item_metadata-98517388.json\n",
      "requested https://www.loc.gov/item/98517179/?fo=json 200\n",
      "wrote /Users/julia.cave.arbanas/si676-2024-data/collection_project_WPA/item_metadata/item_metadata-98517179.json\n",
      "requested https://www.loc.gov/item/98517129/?fo=json 200\n",
      "wrote /Users/julia.cave.arbanas/si676-2024-data/collection_project_WPA/item_metadata/item_metadata-98517129.json\n",
      "requested https://www.loc.gov/item/98516613/?fo=json 200\n",
      "wrote /Users/julia.cave.arbanas/si676-2024-data/collection_project_WPA/item_metadata/item_metadata-98516613.json\n",
      "requested https://www.loc.gov/item/98513398/?fo=json 200\n",
      "wrote /Users/julia.cave.arbanas/si676-2024-data/collection_project_WPA/item_metadata/item_metadata-98513398.json\n",
      "requested https://www.loc.gov/item/98510373/?fo=json 200\n",
      "wrote /Users/julia.cave.arbanas/si676-2024-data/collection_project_WPA/item_metadata/item_metadata-98510373.json\n",
      "requested https://www.loc.gov/item/98508422/?fo=json 200\n",
      "wrote /Users/julia.cave.arbanas/si676-2024-data/collection_project_WPA/item_metadata/item_metadata-98508422.json\n",
      "requested https://www.loc.gov/item/98508191/?fo=json 200\n",
      "wrote /Users/julia.cave.arbanas/si676-2024-data/collection_project_WPA/item_metadata/item_metadata-98508191.json\n",
      "requested https://www.loc.gov/item/98507722/?fo=json 200\n",
      "wrote /Users/julia.cave.arbanas/si676-2024-data/collection_project_WPA/item_metadata/item_metadata-98507722.json\n",
      "requested https://www.loc.gov/item/98507251/?fo=json 200\n",
      "wrote /Users/julia.cave.arbanas/si676-2024-data/collection_project_WPA/item_metadata/item_metadata-98507251.json\n",
      "requested https://www.loc.gov/item/96510383/?fo=json 200\n",
      "wrote /Users/julia.cave.arbanas/si676-2024-data/collection_project_WPA/item_metadata/item_metadata-96510383.json\n",
      "requested https://www.loc.gov/item/96503125/?fo=json 200\n",
      "wrote /Users/julia.cave.arbanas/si676-2024-data/collection_project_WPA/item_metadata/item_metadata-96503125.json\n",
      "requested https://www.loc.gov/item/98508363/?fo=json 200\n",
      "wrote /Users/julia.cave.arbanas/si676-2024-data/collection_project_WPA/item_metadata/item_metadata-98508363.json\n",
      "requested https://www.loc.gov/item/94502738/?fo=json 200\n",
      "wrote /Users/julia.cave.arbanas/si676-2024-data/collection_project_WPA/item_metadata/item_metadata-94502738.json\n",
      "requested https://www.loc.gov/item/93511155/?fo=json 200\n",
      "wrote /Users/julia.cave.arbanas/si676-2024-data/collection_project_WPA/item_metadata/item_metadata-93511155.json\n",
      "requested https://www.loc.gov/item/92517367/?fo=json 200\n",
      "wrote /Users/julia.cave.arbanas/si676-2024-data/collection_project_WPA/item_metadata/item_metadata-92517367.json\n",
      "requested https://www.loc.gov/item/92509203/?fo=json 200\n",
      "wrote /Users/julia.cave.arbanas/si676-2024-data/collection_project_WPA/item_metadata/item_metadata-92509203.json\n",
      "--- mini LOG ---\n",
      "items requested: 24\n",
      "errors: 0\n",
      "files written: 24\n"
     ]
    }
   ],
   "source": [
    "item_count = 0\n",
    "error_count = 0\n",
    "file_count = 0\n",
    "\n",
    "base_directory = os.path.expanduser('~/si676-2024-data')\n",
    "item_metadata_directory = os.path.join(base_directory, 'collection_project_WPA', 'item_metadata')\n",
    "\n",
    "if not os.path.exists(item_metadata_directory):\n",
    "    os.makedirs(item_metadata_directory)\n",
    "    print('Created directory:', item_metadata_directory)\n",
    "\n",
    "data_directory = 'collection_project_WPA'\n",
    "item_metadata_directory = 'item_metadata'\n",
    "item_metadata_file_prefix = 'item_metadata'\n",
    "json_suffix = '.json'\n",
    "\n",
    "for item in collection_set_list:\n",
    "    if item['link'] == 'link':\n",
    "        continue\n",
    "    if '?' in item['link']:\n",
    "        resource_ID = item['link']\n",
    "        short_ID = item['link'].split('/')[2]\n",
    "        item_metadata = requests.get(baseURL + resource_ID, params={'fo':'json'})\n",
    "        print('requested',item_metadata.url,item_metadata.status_code)\n",
    "        if item_metadata.status_code != 200:\n",
    "            print('requested',item_metadata.url,item_metadata.status_code)\n",
    "            error_count += 1\n",
    "            continue\n",
    "        try:\n",
    "            item_metadata.json()\n",
    "        except:\n",
    "            error_count += 1\n",
    "            print('no json found')\n",
    "            continue\n",
    "        fout = os.path.join(base_directory,data_directory, item_metadata_directory, str(item_metadata_file_prefix + '-' + short_ID + json_suffix))\n",
    "        with open(fout, 'w', encoding='utf-8') as json_file:\n",
    "            json_file.write(json.dumps(item_metadata.json()['item']))\n",
    "            file_count += 1\n",
    "            print('wrote', fout)\n",
    "        item_count += 1\n",
    "    else:\n",
    "        resource_ID = item['link']\n",
    "        short_ID = item['link'].split('/')[2]\n",
    "        item_metadata = requests.get(baseURL + resource_ID, params={'fo':'json'})\n",
    "        print('requested',item_metadata.url,item_metadata.status_code)\n",
    "        if item_metadata.status_code != 200:\n",
    "            print('requested',item_metadata.url,item_metadata.status_code)\n",
    "            error_count += 1\n",
    "            continue\n",
    "        try:\n",
    "            item_metadata.json()\n",
    "        except:\n",
    "            error_count += 1\n",
    "            print('no json found')\n",
    "            continue\n",
    "        fout = os.path.join(base_directory,data_directory, item_metadata_directory, str(item_metadata_file_prefix + '-' + short_ID + json_suffix))\n",
    "        with open(fout, 'w', encoding='utf-8') as json_file:\n",
    "            json_file.write(json.dumps(item_metadata.json()['item']))\n",
    "            file_count += 1\n",
    "            print('wrote', fout)\n",
    "        item_count += 1\n",
    "\n",
    "print('--- mini LOG ---')\n",
    "print('items requested:',item_count)\n",
    "print('errors:',error_count)\n",
    "print('files written:',file_count)"
   ]
  },
  {
   "cell_type": "code",
   "execution_count": 21,
   "metadata": {},
   "outputs": [
    {
     "name": "stdout",
     "output_type": "stream",
     "text": [
      "Checking for /Users/julia.cave.arbanas/si676-2024-data/collection_project_WPA/item_files\n",
      "Created file directory: /Users/julia.cave.arbanas/si676-2024-data/collection_project_WPA/item_files\n"
     ]
    }
   ],
   "source": [
    "base_directory = os.path.expanduser('~/si676-2024-data')\n",
    "project_dir = 'collection_project_WPA'\n",
    "files_dir = 'item_files'\n",
    "metadata_dir = 'item_metadata'\n",
    "\n",
    "files_loc = os.path.join(base_directory,project_dir,files_dir)\n",
    "print('Checking for',files_loc)\n",
    "\n",
    "# check directory\n",
    "if os.path.isdir(files_loc):\n",
    "    print('Files directory exists')\n",
    "else:\n",
    "    os.mkdir(files_loc)\n",
    "    print('Created file directory:',files_loc)"
   ]
  },
  {
   "cell_type": "code",
   "execution_count": 24,
   "metadata": {},
   "outputs": [],
   "source": [
    "import glob"
   ]
  },
  {
   "cell_type": "code",
   "execution_count": 23,
   "metadata": {},
   "outputs": [
    {
     "name": "stdout",
     "output_type": "stream",
     "text": [
      "/Users/julia.cave.arbanas/si676-2024-data/collection_project_WPA/item_metadata\n",
      "['/Users/julia.cave.arbanas/si676-2024-data/collection_project_WPA/item_metadata/item_metadata-98507722.json', '/Users/julia.cave.arbanas/si676-2024-data/collection_project_WPA/item_metadata/item_metadata-96503125.json', '/Users/julia.cave.arbanas/si676-2024-data/collection_project_WPA/item_metadata/item_metadata-98508422.json', '/Users/julia.cave.arbanas/si676-2024-data/collection_project_WPA/item_metadata/item_metadata-98518272.json', '/Users/julia.cave.arbanas/si676-2024-data/collection_project_WPA/item_metadata/item_metadata-98517129.json', '/Users/julia.cave.arbanas/si676-2024-data/collection_project_WPA/item_metadata/item_metadata-93511155.json', '/Users/julia.cave.arbanas/si676-2024-data/collection_project_WPA/item_metadata/item_metadata-92509203.json', '/Users/julia.cave.arbanas/si676-2024-data/collection_project_WPA/item_metadata/item_metadata-98517179.json', '/Users/julia.cave.arbanas/si676-2024-data/collection_project_WPA/item_metadata/item_metadata-94502738.json', '/Users/julia.cave.arbanas/si676-2024-data/collection_project_WPA/item_metadata/item_metadata-98518717.json', '/Users/julia.cave.arbanas/si676-2024-data/collection_project_WPA/item_metadata/item_metadata-98513398.json', '/Users/julia.cave.arbanas/si676-2024-data/collection_project_WPA/item_metadata/item_metadata-98507251.json', '/Users/julia.cave.arbanas/si676-2024-data/collection_project_WPA/item_metadata/item_metadata-92517367.json', '/Users/julia.cave.arbanas/si676-2024-data/collection_project_WPA/item_metadata/item_metadata-98508191.json', '/Users/julia.cave.arbanas/si676-2024-data/collection_project_WPA/item_metadata/item_metadata-98510373.json', '/Users/julia.cave.arbanas/si676-2024-data/collection_project_WPA/item_metadata/item_metadata-98518597.json', '/Users/julia.cave.arbanas/si676-2024-data/collection_project_WPA/item_metadata/item_metadata-2011645389.json', '/Users/julia.cave.arbanas/si676-2024-data/collection_project_WPA/item_metadata/item_metadata-98516613.json', '/Users/julia.cave.arbanas/si676-2024-data/collection_project_WPA/item_metadata/item_metadata-98508363.json', '/Users/julia.cave.arbanas/si676-2024-data/collection_project_WPA/item_metadata/item_metadata-98518267.json', '/Users/julia.cave.arbanas/si676-2024-data/collection_project_WPA/item_metadata/item_metadata-96510383.json', '/Users/julia.cave.arbanas/si676-2024-data/collection_project_WPA/item_metadata/item_metadata-98517916.json', '/Users/julia.cave.arbanas/si676-2024-data/collection_project_WPA/item_metadata/item_metadata-98518952.json', '/Users/julia.cave.arbanas/si676-2024-data/collection_project_WPA/item_metadata/item_metadata-98517388.json']\n"
     ]
    }
   ],
   "source": [
    "import glob\n",
    "\n",
    "base_directory = os.path.expanduser('~/si676-2024-data')\n",
    "\n",
    "search_for_metadata_here = os.path.join(base_directory,project_dir,metadata_dir)\n",
    "\n",
    "print(search_for_metadata_here)\n",
    "\n",
    "metadata_file_list = glob.glob(search_for_metadata_here + '/*.json')\n",
    "\n",
    "print(metadata_file_list)"
   ]
  },
  {
   "cell_type": "code",
   "execution_count": 25,
   "metadata": {},
   "outputs": [
    {
     "name": "stdout",
     "output_type": "stream",
     "text": [
      "Identified 24 image URLs\n"
     ]
    }
   ],
   "source": [
    "item_image_urls = list()\n",
    "count = 0\n",
    "\n",
    "for item in metadata_file_list:\n",
    "    with open(item, 'r', encoding='utf-8') as f:\n",
    "        metadata = json.load(f)\n",
    "        # noted this resource for working out index out of range errors: https://rollbar.com/blog/how-to-fix-python-list-index-out-of-range-error-in-for-loops/\n",
    "        image_url_no = len(metadata['image_url'])\n",
    "        image_url = metadata['image_url'][-1]\n",
    "        item_image_urls.append(image_url)\n",
    "        count += 1\n",
    "\n",
    "print(f'Identified { str(count) } image URLs')\n",
    "\n"
   ]
  },
  {
   "cell_type": "code",
   "execution_count": 26,
   "metadata": {},
   "outputs": [
    {
     "data": {
      "text/plain": [
       "['https://tile.loc.gov/storage-services/service/pnp/cph/3f00000/3f05000/3f05100/3f05175v.jpg#h=1024&w=688',\n",
       " 'https://tile.loc.gov/storage-services/service/pnp/cph/3g00000/3g04000/3g04200/3g04243v.jpg#h=1024&w=829',\n",
       " 'https://tile.loc.gov/storage-services/service/pnp/cph/3b40000/3b48000/3b48700/3b48755v.jpg#h=1024&w=658',\n",
       " 'https://tile.loc.gov/storage-services/service/pnp/cph/3b40000/3b48000/3b48700/3b48726v.jpg#h=1024&w=687',\n",
       " 'https://tile.loc.gov/storage-services/service/pnp/cph/3b40000/3b48000/3b48800/3b48810v.jpg#h=1024&w=655',\n",
       " 'https://tile.loc.gov/storage-services/service/pnp/cph/3b40000/3b49000/3b49000/3b49006v.jpg#h=1024&w=799',\n",
       " 'https://tile.loc.gov/storage-services/service/pnp/cph/3b40000/3b48000/3b48900/3b48901v.jpg#h=1024&w=810',\n",
       " 'https://tile.loc.gov/storage-services/service/pnp/cph/3b40000/3b48000/3b48800/3b48809v.jpg#h=1024&w=657',\n",
       " 'https://tile.loc.gov/storage-services/service/pnp/cph/3b40000/3b49000/3b49000/3b49068v.jpg#h=1024&w=791',\n",
       " 'https://tile.loc.gov/storage-services/service/pnp/cph/3b40000/3b48000/3b48900/3b48999v.jpg#h=1024&w=766',\n",
       " 'https://tile.loc.gov/storage-services/service/pnp/cph/3f00000/3f05000/3f05300/3f05309v.jpg#h=1024&w=692',\n",
       " 'https://tile.loc.gov/storage-services/service/pnp/cph/3b40000/3b48000/3b48800/3b48827v.jpg#h=1024&w=653',\n",
       " 'https://tile.loc.gov/storage-services/service/pnp/ppmsca/38300/38343v.jpg#h=1024&w=663',\n",
       " 'https://tile.loc.gov/storage-services/service/pnp/cph/3b40000/3b48000/3b48700/3b48759v.jpg#h=1024&w=659',\n",
       " 'https://tile.loc.gov/storage-services/service/pnp/cph/3b40000/3b48000/3b48700/3b48769v.jpg#h=1024&w=657',\n",
       " 'https://tile.loc.gov/storage-services/service/pnp/ppmsca/23000/23061v.jpg#h=1024&w=808',\n",
       " 'https://tile.loc.gov/storage-services/service/pnp/ppmsca/31200/31264v.jpg#h=1024&w=823',\n",
       " 'https://tile.loc.gov/storage-services/service/pnp/ds/05000/05007v.jpg#h=1024&w=665',\n",
       " 'https://tile.loc.gov/storage-services/service/pnp/cph/3f00000/3f05000/3f05100/3f05169v.jpg#h=1024&w=711',\n",
       " 'https://tile.loc.gov/storage-services/service/pnp/ppmsca/86700/86708v.jpg#h=1024&w=697',\n",
       " 'https://tile.loc.gov/storage-services/service/pnp/ds/14900/14977v.jpg#h=1024&w=673',\n",
       " 'https://tile.loc.gov/storage-services/service/pnp/cph/3b40000/3b48000/3b48700/3b48729v.jpg#h=1024&w=691',\n",
       " 'https://tile.loc.gov/storage-services/service/pnp/cph/3b40000/3b48000/3b48900/3b48920v.jpg#h=1024&w=691',\n",
       " 'https://tile.loc.gov/storage-services/service/pnp/cph/3b40000/3b49000/3b49000/3b49002v.jpg#h=1024&w=830']"
      ]
     },
     "execution_count": 26,
     "metadata": {},
     "output_type": "execute_result"
    }
   ],
   "source": [
    "item_image_urls"
   ]
  },
  {
   "cell_type": "code",
   "execution_count": 27,
   "metadata": {},
   "outputs": [
    {
     "name": "stdout",
     "output_type": "stream",
     "text": [
      "{'item_URI': 'http://www.loc.gov/item/98507722/', 'lccn': '98507722', 'title': \"In March read the books you've always meant to read\", 'image_URL_large': 'https://tile.loc.gov/storage-services/service/pnp/cph/3f00000/3f05000/3f05100/3f05175v.jpg#h=1024&w=688'}\n"
     ]
    }
   ],
   "source": [
    "collection_set_list_with_images = list()\n",
    "\n",
    "for item in metadata_file_list:\n",
    "    with open(item, 'r', encoding='utf-8') as item_info:\n",
    "        item_metadata = json.load(item_info)\n",
    "\n",
    "        item_metadata_dict = dict()\n",
    "        item_metadata_dict['item_URI'] = item_metadata['id']\n",
    "        try:\n",
    "            item_metadata_dict['lccn'] = item_metadata['library_of_congress_control_number']\n",
    "        except:\n",
    "            item_metadata_dict['lccn'] = None\n",
    "        item_metadata_dict['title'] = item_metadata['title']\n",
    "        item_metadata_dict['image_URL_large'] = item_metadata['image_url'][-1]\n",
    "        \n",
    "        collection_set_list_with_images.append(item_metadata_dict)\n",
    "\n",
    "print(collection_set_list_with_images[0])"
   ]
  },
  {
   "cell_type": "code",
   "execution_count": 28,
   "metadata": {},
   "outputs": [
    {
     "name": "stdout",
     "output_type": "stream",
     "text": [
      "... requesting https://tile.loc.gov/storage-services/service/pnp/cph/3f00000/3f05000/3f05100/3f05175v.jpg#h=1024&w=688\n",
      "Saved /Users/julia.cave.arbanas/si676-2024-data/collection_project_WPA/item_files/img_98507722.jpg\n",
      "... requesting https://tile.loc.gov/storage-services/service/pnp/cph/3g00000/3g04000/3g04200/3g04243v.jpg#h=1024&w=829\n",
      "Saved /Users/julia.cave.arbanas/si676-2024-data/collection_project_WPA/item_files/img_96503125.jpg\n",
      "... requesting https://tile.loc.gov/storage-services/service/pnp/cph/3b40000/3b48000/3b48700/3b48755v.jpg#h=1024&w=658\n",
      "Saved /Users/julia.cave.arbanas/si676-2024-data/collection_project_WPA/item_files/img_98508422.jpg\n",
      "... requesting https://tile.loc.gov/storage-services/service/pnp/cph/3b40000/3b48000/3b48700/3b48726v.jpg#h=1024&w=687\n",
      "Saved /Users/julia.cave.arbanas/si676-2024-data/collection_project_WPA/item_files/img_98518272.jpg\n",
      "... requesting https://tile.loc.gov/storage-services/service/pnp/cph/3b40000/3b48000/3b48800/3b48810v.jpg#h=1024&w=655\n",
      "Saved /Users/julia.cave.arbanas/si676-2024-data/collection_project_WPA/item_files/img_98517129.jpg\n",
      "... requesting https://tile.loc.gov/storage-services/service/pnp/cph/3b40000/3b49000/3b49000/3b49006v.jpg#h=1024&w=799\n",
      "Saved /Users/julia.cave.arbanas/si676-2024-data/collection_project_WPA/item_files/img_93511155.jpg\n",
      "... requesting https://tile.loc.gov/storage-services/service/pnp/cph/3b40000/3b48000/3b48900/3b48901v.jpg#h=1024&w=810\n",
      "Saved /Users/julia.cave.arbanas/si676-2024-data/collection_project_WPA/item_files/img_92509203.jpg\n",
      "... requesting https://tile.loc.gov/storage-services/service/pnp/cph/3b40000/3b48000/3b48800/3b48809v.jpg#h=1024&w=657\n",
      "Saved /Users/julia.cave.arbanas/si676-2024-data/collection_project_WPA/item_files/img_98517179.jpg\n",
      "... requesting https://tile.loc.gov/storage-services/service/pnp/cph/3b40000/3b49000/3b49000/3b49068v.jpg#h=1024&w=791\n",
      "Saved /Users/julia.cave.arbanas/si676-2024-data/collection_project_WPA/item_files/img_94502738.jpg\n",
      "... requesting https://tile.loc.gov/storage-services/service/pnp/cph/3b40000/3b48000/3b48900/3b48999v.jpg#h=1024&w=766\n",
      "Saved /Users/julia.cave.arbanas/si676-2024-data/collection_project_WPA/item_files/img_98518717.jpg\n",
      "... requesting https://tile.loc.gov/storage-services/service/pnp/cph/3f00000/3f05000/3f05300/3f05309v.jpg#h=1024&w=692\n",
      "Saved /Users/julia.cave.arbanas/si676-2024-data/collection_project_WPA/item_files/img_98513398.jpg\n",
      "... requesting https://tile.loc.gov/storage-services/service/pnp/cph/3b40000/3b48000/3b48800/3b48827v.jpg#h=1024&w=653\n",
      "Saved /Users/julia.cave.arbanas/si676-2024-data/collection_project_WPA/item_files/img_98507251.jpg\n",
      "... requesting https://tile.loc.gov/storage-services/service/pnp/ppmsca/38300/38343v.jpg#h=1024&w=663\n",
      "Saved /Users/julia.cave.arbanas/si676-2024-data/collection_project_WPA/item_files/img_92517367.jpg\n",
      "... requesting https://tile.loc.gov/storage-services/service/pnp/cph/3b40000/3b48000/3b48700/3b48759v.jpg#h=1024&w=659\n",
      "Saved /Users/julia.cave.arbanas/si676-2024-data/collection_project_WPA/item_files/img_98508191.jpg\n",
      "... requesting https://tile.loc.gov/storage-services/service/pnp/cph/3b40000/3b48000/3b48700/3b48769v.jpg#h=1024&w=657\n",
      "Saved /Users/julia.cave.arbanas/si676-2024-data/collection_project_WPA/item_files/img_98510373.jpg\n",
      "... requesting https://tile.loc.gov/storage-services/service/pnp/ppmsca/23000/23061v.jpg#h=1024&w=808\n",
      "Saved /Users/julia.cave.arbanas/si676-2024-data/collection_project_WPA/item_files/img_98518597.jpg\n",
      "... requesting https://tile.loc.gov/storage-services/service/pnp/ppmsca/31200/31264v.jpg#h=1024&w=823\n",
      "Saved /Users/julia.cave.arbanas/si676-2024-data/collection_project_WPA/item_files/img_2011645389.jpg\n",
      "... requesting https://tile.loc.gov/storage-services/service/pnp/ds/05000/05007v.jpg#h=1024&w=665\n",
      "Saved /Users/julia.cave.arbanas/si676-2024-data/collection_project_WPA/item_files/img_98516613.jpg\n",
      "... requesting https://tile.loc.gov/storage-services/service/pnp/cph/3f00000/3f05000/3f05100/3f05169v.jpg#h=1024&w=711\n",
      "Saved /Users/julia.cave.arbanas/si676-2024-data/collection_project_WPA/item_files/img_98508363.jpg\n",
      "... requesting https://tile.loc.gov/storage-services/service/pnp/ppmsca/86700/86708v.jpg#h=1024&w=697\n",
      "Saved /Users/julia.cave.arbanas/si676-2024-data/collection_project_WPA/item_files/img_98518267.jpg\n",
      "... requesting https://tile.loc.gov/storage-services/service/pnp/ds/14900/14977v.jpg#h=1024&w=673\n",
      "Saved /Users/julia.cave.arbanas/si676-2024-data/collection_project_WPA/item_files/img_96510383.jpg\n",
      "... requesting https://tile.loc.gov/storage-services/service/pnp/cph/3b40000/3b48000/3b48700/3b48729v.jpg#h=1024&w=691\n",
      "Saved /Users/julia.cave.arbanas/si676-2024-data/collection_project_WPA/item_files/img_98517916.jpg\n",
      "... requesting https://tile.loc.gov/storage-services/service/pnp/cph/3b40000/3b48000/3b48900/3b48920v.jpg#h=1024&w=691\n",
      "Saved /Users/julia.cave.arbanas/si676-2024-data/collection_project_WPA/item_files/img_98518952.jpg\n",
      "... requesting https://tile.loc.gov/storage-services/service/pnp/cph/3b40000/3b49000/3b49000/3b49002v.jpg#h=1024&w=830\n",
      "Saved /Users/julia.cave.arbanas/si676-2024-data/collection_project_WPA/item_files/img_98517388.jpg\n",
      "--- mini LOG ---\n",
      "files requested: 24\n",
      "errors: 0\n",
      "files written: 24\n"
     ]
    }
   ],
   "source": [
    "item_count = 0\n",
    "error_count = 0\n",
    "file_count = 0\n",
    "\n",
    "img_file_prefix = 'img_'\n",
    "\n",
    "base_directory = os.path.expanduser('~/si676-2024-data')\n",
    "\n",
    "for item in collection_set_list_with_images:\n",
    "        image_URL = item['image_URL_large']\n",
    "        short_ID = item['item_URI'].split('/')[-2]\n",
    "        print('... requesting',image_URL)\n",
    "        item_count += 1\n",
    "\n",
    "        r = requests.get(image_URL)\n",
    "        if r.status_code == 200:\n",
    "            img_out = os.path.join(base_directory,project_dir,files_dir,str(img_file_prefix + short_ID + '.jpg'))\n",
    "            with open(img_out, 'wb') as file:\n",
    "                file.write(r.content)\n",
    "                print('Saved',img_out)\n",
    "                file_count += 1\n",
    "\n",
    "\n",
    "print('--- mini LOG ---')\n",
    "print('files requested:',item_count)\n",
    "print('errors:',error_count)\n",
    "print('files written:',file_count)"
   ]
  }
 ],
 "metadata": {
  "kernelspec": {
   "display_name": "Python 3",
   "language": "python",
   "name": "python3"
  },
  "language_info": {
   "codemirror_mode": {
    "name": "ipython",
    "version": 3
   },
   "file_extension": ".py",
   "mimetype": "text/x-python",
   "name": "python",
   "nbconvert_exporter": "python",
   "pygments_lexer": "ipython3",
   "version": "3.9.6"
  }
 },
 "nbformat": 4,
 "nbformat_minor": 2
}
