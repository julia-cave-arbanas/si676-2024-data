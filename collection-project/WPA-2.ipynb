{
 "cells": [
  {
   "cell_type": "code",
   "execution_count": 1,
   "metadata": {},
   "outputs": [],
   "source": [
    "import csv\n",
    "import json\n",
    "\n",
    "import glob\n",
    "import os\n",
    "from os.path import join"
   ]
  },
  {
   "cell_type": "code",
   "execution_count": 2,
   "metadata": {},
   "outputs": [
    {
     "name": "stdout",
     "output_type": "stream",
     "text": [
      "/Users/julia.cave.arbanas/si676-2024-data/collection-project\n"
     ]
    }
   ],
   "source": [
    "current_loc = os.getcwd()\n",
    "\n",
    "print(current_loc)"
   ]
  },
  {
   "cell_type": "code",
   "execution_count": 3,
   "metadata": {},
   "outputs": [
    {
     "name": "stdout",
     "output_type": "stream",
     "text": [
      "collection_project_WPA/item_metadata\n"
     ]
    }
   ],
   "source": [
    "metadata_file_path = os.path.join('collection_project_WPA','item_metadata')\n",
    "\n",
    "print(metadata_file_path)"
   ]
  },
  {
   "cell_type": "code",
   "execution_count": 4,
   "metadata": {},
   "outputs": [
    {
     "name": "stdout",
     "output_type": "stream",
     "text": [
      "/Users/julia.cave.arbanas/si676-2024-data/collection_project_WPA/item_metadata/item_metadata-98507722.json\n",
      "/Users/julia.cave.arbanas/si676-2024-data/collection_project_WPA/item_metadata/item_metadata-96503125.json\n",
      "/Users/julia.cave.arbanas/si676-2024-data/collection_project_WPA/item_metadata/item_metadata-98508422.json\n",
      "/Users/julia.cave.arbanas/si676-2024-data/collection_project_WPA/item_metadata/item_metadata-98518272.json\n",
      "/Users/julia.cave.arbanas/si676-2024-data/collection_project_WPA/item_metadata/item_metadata-98517129.json\n",
      "/Users/julia.cave.arbanas/si676-2024-data/collection_project_WPA/item_metadata/item_metadata-93511155.json\n",
      "/Users/julia.cave.arbanas/si676-2024-data/collection_project_WPA/item_metadata/item_metadata-92509203.json\n",
      "/Users/julia.cave.arbanas/si676-2024-data/collection_project_WPA/item_metadata/item_metadata-98517179.json\n",
      "/Users/julia.cave.arbanas/si676-2024-data/collection_project_WPA/item_metadata/item_metadata-94502738.json\n",
      "/Users/julia.cave.arbanas/si676-2024-data/collection_project_WPA/item_metadata/item_metadata-98518717.json\n",
      "/Users/julia.cave.arbanas/si676-2024-data/collection_project_WPA/item_metadata/item_metadata-98513398.json\n",
      "/Users/julia.cave.arbanas/si676-2024-data/collection_project_WPA/item_metadata/item_metadata-98507251.json\n",
      "/Users/julia.cave.arbanas/si676-2024-data/collection_project_WPA/item_metadata/item_metadata-92517367.json\n",
      "/Users/julia.cave.arbanas/si676-2024-data/collection_project_WPA/item_metadata/item_metadata-98508191.json\n",
      "/Users/julia.cave.arbanas/si676-2024-data/collection_project_WPA/item_metadata/item_metadata-98510373.json\n",
      "/Users/julia.cave.arbanas/si676-2024-data/collection_project_WPA/item_metadata/item_metadata-98518597.json\n",
      "/Users/julia.cave.arbanas/si676-2024-data/collection_project_WPA/item_metadata/item_metadata-2011645389.json\n",
      "/Users/julia.cave.arbanas/si676-2024-data/collection_project_WPA/item_metadata/item_metadata-98516613.json\n",
      "/Users/julia.cave.arbanas/si676-2024-data/collection_project_WPA/item_metadata/item_metadata-98508363.json\n",
      "/Users/julia.cave.arbanas/si676-2024-data/collection_project_WPA/item_metadata/item_metadata-98518267.json\n",
      "/Users/julia.cave.arbanas/si676-2024-data/collection_project_WPA/item_metadata/item_metadata-96510383.json\n",
      "/Users/julia.cave.arbanas/si676-2024-data/collection_project_WPA/item_metadata/item_metadata-98517916.json\n",
      "/Users/julia.cave.arbanas/si676-2024-data/collection_project_WPA/item_metadata/item_metadata-98518952.json\n",
      "/Users/julia.cave.arbanas/si676-2024-data/collection_project_WPA/item_metadata/item_metadata-98517388.json\n",
      "found 24\n"
     ]
    }
   ],
   "source": [
    "file_count = 0\n",
    "\n",
    "for file in glob.glob('/Users/julia.cave.arbanas/si676-2024-data/collection_project_WPA/item_metadata/item_metadata-*.json'):\n",
    "    file_count += 1\n",
    "    print(file)\n",
    "    \n",
    "print('found',file_count)"
   ]
  },
  {
   "cell_type": "code",
   "execution_count": 5,
   "metadata": {},
   "outputs": [],
   "source": [
    "list_of_item_metadata_files = list() \n",
    "for file in glob.glob('/Users/julia.cave.arbanas/si676-2024-data/collection_project_WPA/item_metadata/item_metadata-*.json'):\n",
    "    list_of_item_metadata_files.append(file)"
   ]
  },
  {
   "cell_type": "code",
   "execution_count": 6,
   "metadata": {},
   "outputs": [
    {
     "data": {
      "text/plain": [
       "24"
      ]
     },
     "execution_count": 6,
     "metadata": {},
     "output_type": "execute_result"
    }
   ],
   "source": [
    "len(list_of_item_metadata_files)"
   ]
  },
  {
   "cell_type": "code",
   "execution_count": 7,
   "metadata": {},
   "outputs": [
    {
     "name": "stdout",
     "output_type": "stream",
     "text": [
      "/Users/julia.cave.arbanas/si676-2024-data/collection_project_WPA/item_metadata/item_metadata-2011645389.json\n",
      "/Users/julia.cave.arbanas/si676-2024-data/collection_project_WPA/item_metadata/item_metadata-92509203.json\n",
      "/Users/julia.cave.arbanas/si676-2024-data/collection_project_WPA/item_metadata/item_metadata-92517367.json\n",
      "/Users/julia.cave.arbanas/si676-2024-data/collection_project_WPA/item_metadata/item_metadata-93511155.json\n",
      "/Users/julia.cave.arbanas/si676-2024-data/collection_project_WPA/item_metadata/item_metadata-94502738.json\n",
      "/Users/julia.cave.arbanas/si676-2024-data/collection_project_WPA/item_metadata/item_metadata-96503125.json\n",
      "/Users/julia.cave.arbanas/si676-2024-data/collection_project_WPA/item_metadata/item_metadata-96510383.json\n",
      "/Users/julia.cave.arbanas/si676-2024-data/collection_project_WPA/item_metadata/item_metadata-98507251.json\n",
      "/Users/julia.cave.arbanas/si676-2024-data/collection_project_WPA/item_metadata/item_metadata-98507722.json\n",
      "/Users/julia.cave.arbanas/si676-2024-data/collection_project_WPA/item_metadata/item_metadata-98508191.json\n",
      "/Users/julia.cave.arbanas/si676-2024-data/collection_project_WPA/item_metadata/item_metadata-98508363.json\n",
      "/Users/julia.cave.arbanas/si676-2024-data/collection_project_WPA/item_metadata/item_metadata-98508422.json\n",
      "/Users/julia.cave.arbanas/si676-2024-data/collection_project_WPA/item_metadata/item_metadata-98510373.json\n",
      "/Users/julia.cave.arbanas/si676-2024-data/collection_project_WPA/item_metadata/item_metadata-98513398.json\n",
      "/Users/julia.cave.arbanas/si676-2024-data/collection_project_WPA/item_metadata/item_metadata-98516613.json\n",
      "/Users/julia.cave.arbanas/si676-2024-data/collection_project_WPA/item_metadata/item_metadata-98517129.json\n",
      "/Users/julia.cave.arbanas/si676-2024-data/collection_project_WPA/item_metadata/item_metadata-98517179.json\n",
      "/Users/julia.cave.arbanas/si676-2024-data/collection_project_WPA/item_metadata/item_metadata-98517388.json\n",
      "/Users/julia.cave.arbanas/si676-2024-data/collection_project_WPA/item_metadata/item_metadata-98517916.json\n",
      "/Users/julia.cave.arbanas/si676-2024-data/collection_project_WPA/item_metadata/item_metadata-98518267.json\n",
      "/Users/julia.cave.arbanas/si676-2024-data/collection_project_WPA/item_metadata/item_metadata-98518272.json\n",
      "/Users/julia.cave.arbanas/si676-2024-data/collection_project_WPA/item_metadata/item_metadata-98518597.json\n",
      "/Users/julia.cave.arbanas/si676-2024-data/collection_project_WPA/item_metadata/item_metadata-98518717.json\n",
      "/Users/julia.cave.arbanas/si676-2024-data/collection_project_WPA/item_metadata/item_metadata-98518952.json\n"
     ]
    }
   ],
   "source": [
    "list_of_item_metadata_files.sort()\n",
    "\n",
    "for file in list_of_item_metadata_files:\n",
    "    print(file)\n",
    "#checking for duplicates"
   ]
  },
  {
   "cell_type": "code",
   "execution_count": 8,
   "metadata": {},
   "outputs": [
    {
     "name": "stdout",
     "output_type": "stream",
     "text": [
      "file: /Users/julia.cave.arbanas/si676-2024-data/collection_project_WPA/item_metadata/item_metadata-2011645389.json \n",
      "\n",
      "_version_ : 1754109015537745920\n",
      "access_restricted : False\n",
      "aka : ['http://www.loc.gov/pictures/collection/wpapos/item/2011645389/', 'http://www.loc.gov/item/2011645389/', 'http://www.loc.gov/pictures/item/2011645389/', 'https://hdl.loc.gov/loc.pnp/ppmsca.31264', 'http://www.loc.gov/resource/ppmsca.31264/', 'http://lccn.loc.gov/2011645389']\n",
      "call_number : POS - WPA - ILL .G75, no. 8 (B size) [P&P]\n",
      "campaigns : []\n",
      "contributor_names : ['Gregg, Arlington, artist', 'United States. Works Progress Administration (Ill.), sponsor']\n",
      "contributors : [{'gregg, arlington': 'https://www.loc.gov/search/?fa=contributor:gregg,+arlington&fo=json'}, {'united states. works progress administration (ill.)': 'https://www.loc.gov/search/?fa=contributor:united+states.+works+progress+administration+%28ill.%29&fo=json'}]\n",
      "control_number : \n",
      "created : 2016-04-20 17:00:30\n",
      "created_published : ['Chicago : Made by Illinois W.P.A. Art Project, [between 1936 and 1940]']\n",
      "created_published_date : [between 1936 and 1940]\n",
      "date : 1936-01-01\n",
      "dates : [{'1936': 'https://www.loc.gov/search/?dates=1936/1936&fo=json'}]\n",
      "description : ['1 print on board (poster) : silkscreen, color ; 35.6 x 28 cm. | WPA poster shows a boy ironing down the page of a book.']\n",
      "digital_id : ['ppmsca 31264 //hdl.loc.gov/loc.pnp/ppmsca.31264']\n",
      "digitized : True\n",
      "display_offsite : True\n",
      "extract_timestamp : 2021-09-01T23:01:15.427Z\n",
      "extract_urls : ['http://www.loc.gov/pictures/collection/wpapos/item/2011645389/#wpapos', 'http://lccn.loc.gov/2011645389#catalog-split-07']\n",
      "format : [{'photo, print, drawing': 'https://www.loc.gov/search/?fa=original_format:photo,+print,+drawing&fo=json'}]\n",
      "format_headings : ['Posters--1930-1940.', 'Screen prints--Color--1930-1940.']\n",
      "genre : ['Posters--1930-1940', 'Screen prints--Color--1930-1940']\n",
      "group : ['wpapos', 'catalog-split-07', 'catalog', 'wpa-posters', 'main-catalog-split-07', 'main-catalog']\n",
      "hassegments : False\n",
      "id : http://www.loc.gov/item/2011645389/\n",
      "image_url : ['https://tile.loc.gov/storage-services/service/pnp/ppmsca/31200/31264_150px.jpg#h=150&w=121', 'https://tile.loc.gov/storage-services/service/pnp/ppmsca/31200/31264t.gif#h=150&w=121', 'https://tile.loc.gov/storage-services/service/pnp/ppmsca/31200/31264r.jpg#h=640&w=515', 'https://tile.loc.gov/storage-services/service/pnp/ppmsca/31200/31264v.jpg#h=1024&w=823']\n",
      "index : 1\n",
      "item : {'call_number': 'POS - WPA - ILL .G75, no. 8 (B size) [P&P]', 'contributor_names': ['United States. Works Progress Administration (Ill.), sponsor '], 'contributors': ['Gregg, Arlington, artist.', 'United States. Works Progress Administration (Ill.), sponsor.'], 'control_number': '2011645389', 'created': '2016-04-20 17:00:30', 'created_published': 'Chicago : Made by Illinois W.P.A. Art Project, [between 1936 and 1940]', 'created_published_date': '[between 1936 and 1940]', 'creators': [{'link': '//www.loc.gov/pictures/related/?fi=name&q=Gregg%2C%20Arlington&co=wpapos', 'role': 'artist', 'title': 'Gregg, Arlington'}, {'link': '//www.loc.gov/pictures/related/?fi=name&q=United%20States.%20Works%20Progress%20Administration%20%28Ill.%29&co=wpapos', 'role': 'sponsor', 'title': 'United States. Works Progress Administration (Ill.)'}], 'date': '[between 1936 and 1940]', 'digital_id': ['ppmsca 31264 //hdl.loc.gov/loc.pnp/ppmsca.31264'], 'display_offsite': True, 'format': ['still image'], 'formats': [{'link': '//www.loc.gov/pictures/related/?fi=format&q=Posters--1930-1940.&co=wpapos', 'title': 'Posters--1930-1940.'}, {'link': '//www.loc.gov/pictures/related/?fi=format&q=Screen%20prints--Color--1930-1940.&co=wpapos', 'title': 'Screen prints--Color--1930-1940.'}], 'genre': ['Posters--1930-1940', 'Screen prints--Color--1930-1940'], 'id': '2011645389', 'language': ['eng'], 'link': '//www.loc.gov/pictures/item/2011645389/', 'marc': '//www.loc.gov/pictures/item/2011645389/marc/', 'medium': ['1 print on board (poster) : silkscreen, color ; 35.6 x 28 cm.'], 'medium_brief': '1 print on board (poster) :', 'mediums': ['1 print on board (poster) : silkscreen, color ; 35.6 x 28 cm.'], 'modified': '2016-04-20 17:00:30', 'notes': ['Title from item.', 'Purchase; Swann Galleries; 2010; (DLC/PP-2010:157.08).', 'More information about the WPA Posters is available at http://hdl.loc.gov/loc.pnp/pp.wpapos'], 'repository': 'Library of Congress Prints and Photographs Division Washington, D.C. 20540 USA http://hdl.loc.gov/loc.pnp/pp.print', 'reproduction_number': 'LC-DIG-ppmsca-31264 (digital file from original item)', 'resource_links': ['//hdl.loc.gov/loc.pnp/ppmsca.31264'], 'rights_advisory': 'No known restrictions on publication.', 'rights_information': 'No known restrictions on publication.', 'service_low': 'https://tile.loc.gov/storage-services/service/pnp/ppmsca/31200/31264_150px.jpg', 'service_medium': 'https://tile.loc.gov/storage-services/service/pnp/ppmsca/31200/31264r.jpg', 'sort_date': '1936', 'source_created': '2011-04-05 00:00:00', 'source_modified': '2011-12-12 17:52:54', 'subject_headings': ['Books--1930-1940.', 'Conservation & restoration--1930-1940.'], 'subjects': ['Books--1930-1940', 'Conservation & restoration--1930-1940'], 'summary': 'WPA poster shows a boy ironing down the page of a book.', 'thumb_gallery': 'https://tile.loc.gov/storage-services/service/pnp/ppmsca/31200/31264_150px.jpg', 'title': 'A book mark would be better!'}\n",
      "language : ['english']\n",
      "languages : [{'english': 'https://www.loc.gov/search/?fa=language:english&fo=json'}]\n",
      "library_of_congress_control_number : 2011645389\n",
      "link : //www.loc.gov/pictures/item/2011645389/\n",
      "marc : //www.loc.gov/pictures/item/2011645389/marc/\n",
      "medium : ['1 print on board (poster) : silkscreen, color ; 35.6 x 28 cm.']\n",
      "medium_brief : 1 print on board (poster) :\n",
      "mime_type : ['image/gif', 'image/jpg', 'image/tif']\n",
      "modified : 2016-04-20 17:00:30\n",
      "notes : ['Title from item.', 'Purchase; Swann Galleries; 2010; (DLC/PP-2010:157.08).', 'More information about the WPA Posters is available at http://hdl.loc.gov/loc.pnp/pp.wpapos']\n",
      "number : ['2011-12-12t17:52:54', '2011645389']\n",
      "number_lccn : ['2011645389']\n",
      "number_source_modified : ['2011-12-12t17:52:54']\n",
      "online_format : ['image']\n",
      "original_format : ['photo, print, drawing']\n",
      "other_formats : [{'label': 'MARCXML Record', 'link': 'https://lccn.loc.gov/2011645389/marcxml'}, {'label': 'MODS Record', 'link': 'https://lccn.loc.gov/2011645389/mods'}, {'label': 'Dublin Core Record', 'link': 'https://lccn.loc.gov/2011645389/dc'}]\n",
      "partof : [{'count': 932, 'title': 'by the people, for the people: posters from the wpa, 1936-1943', 'url': 'https://www.loc.gov/search/?fa=partof:by+the+people,+for+the+people:+posters+from+the+wpa,+1936-1943&fo=json'}, {'count': 947, 'title': 'posters: wpa posters', 'url': 'https://www.loc.gov/collections/works-progress-administration-posters/?fo=json'}, {'count': 437343, 'title': 'american memory', 'url': 'https://www.loc.gov/search/?fa=partof:american+memory&fo=json'}, {'count': 949695, 'title': 'prints & photographs online catalog (library of congress)', 'url': 'https://www.loc.gov/search/?fa=partof:prints+%26+photographs+online+catalog+%28library+of+congress%29&fo=json'}, {'count': 1082487, 'title': 'prints and photographs division', 'url': 'https://www.loc.gov/search/?fa=partof:prints+and+photographs+division&fo=json'}, {'count': 1591977, 'title': 'catalog', 'url': 'https://www.loc.gov/search/?fa=partof:catalog&fo=json'}]\n",
      "related : {'neighbors': '//www.loc.gov/pictures/related/?&co=wpapos&pk=2011645389&st=gallery&sb=call_number#focus'}\n",
      "repository : ['Library of Congress Prints and Photographs Division Washington, D.C. 20540 USA http://hdl.loc.gov/loc.pnp/pp.print']\n",
      "reproduction_number : LC-DIG-ppmsca-31264 (digital file from original item)\n",
      "reproductions : []\n",
      "resource_links : ['//hdl.loc.gov/loc.pnp/ppmsca.31264']\n",
      "resources : [{'caption': 'digital file from original print', 'files': 1, 'image': 'https://tile.loc.gov/storage-services/service/pnp/ppmsca/31200/31264_150px.jpg', 'url': 'https://www.loc.gov/resource/ppmsca.31264/'}]\n",
      "rights : ['<p>The Library of Congress does not&nbsp;own rights to material  in its collections. Therefore, it does not license or charge permission fees  for use of such material and cannot grant or deny permission to publish or  otherwise distribute the material. </p>\\n<p>Ultimately, it is the researcher\\'s obligation to assess copyright or other use restrictions and  obtain permission from third parties when necessary before publishing or  otherwise distributing materials found in the Library\\'s collections. </p>\\n<p>For information about reproducing,  publishing, and citing material from this collection, as well as access to the  original items, see: <a href=\"//www.loc.gov/rr/print/res/217_wpa.html\">Work Projects Administration Posters - Rights and Restrictions Information</a> </p>\\n \\n']\n",
      "rights_advisory : No known restrictions on publication.\n",
      "rights_information : No known restrictions on publication.\n",
      "score : 19.213547\n",
      "shard : 00\n",
      "shelf_id : POS - WPA - ILL .G75, no. 8 (B size) [P&P]\n",
      "site : ['pictures', 'catalog']\n",
      "sort_date : 1936\n",
      "source_created : 2011-04-05 00:00:00\n",
      "source_modified : 2011-12-12 17:52:54\n",
      "subject : ['color', 'conservation & restoration', 'books', 'posters', 'screen prints']\n",
      "subject_headings : ['Books--1930-1940', 'Conservation & restoration--1930-1940']\n",
      "subjects : [{'books': 'https://www.loc.gov/search/?fa=subject:books&fo=json'}, {'color': 'https://www.loc.gov/search/?fa=subject:color&fo=json'}, {'conservation & restoration': 'https://www.loc.gov/search/?fa=subject:conservation+%26+restoration&fo=json'}, {'posters': 'https://www.loc.gov/search/?fa=subject:posters&fo=json'}, {'screen prints': 'https://www.loc.gov/search/?fa=subject:screen+prints&fo=json'}]\n",
      "summary : WPA poster shows a boy ironing down the page of a book.\n",
      "thumb_gallery : https://tile.loc.gov/storage-services/service/pnp/ppmsca/31200/31264_150px.jpg\n",
      "timestamp : 2023-01-04T16:11:56.156Z\n",
      "title : A book mark would be better!\n",
      "type : ['photo, print, drawing']\n",
      "unrestricted : True\n",
      "url : https://www.loc.gov/item/2011645389/\n"
     ]
    }
   ],
   "source": [
    "with open(list_of_item_metadata_files[0], 'r', encoding='utf-8') as item:\n",
    "    print('file:',list_of_item_metadata_files[0],'\\n')\n",
    "    item_data = json.load(item)\n",
    "    for element in item_data.keys():\n",
    "        print(element,':',item_data[element])"
   ]
  },
  {
   "cell_type": "code",
   "execution_count": 9,
   "metadata": {},
   "outputs": [
    {
     "data": {
      "text/plain": [
       "dict_keys(['_version_', 'access_restricted', 'aka', 'call_number', 'campaigns', 'contributor_names', 'contributors', 'control_number', 'created', 'created_published', 'created_published_date', 'date', 'dates', 'description', 'digital_id', 'digitized', 'display_offsite', 'extract_timestamp', 'extract_urls', 'format', 'format_headings', 'genre', 'group', 'hassegments', 'id', 'image_url', 'index', 'item', 'language', 'languages', 'library_of_congress_control_number', 'link', 'marc', 'medium', 'medium_brief', 'mime_type', 'modified', 'notes', 'number', 'number_lccn', 'number_source_modified', 'online_format', 'original_format', 'other_formats', 'partof', 'related', 'repository', 'reproduction_number', 'reproductions', 'resource_links', 'resources', 'rights', 'rights_advisory', 'rights_information', 'score', 'shard', 'shelf_id', 'site', 'sort_date', 'source_created', 'source_modified', 'subject', 'subject_headings', 'subjects', 'summary', 'thumb_gallery', 'timestamp', 'title', 'type', 'unrestricted', 'url'])"
      ]
     },
     "execution_count": 9,
     "metadata": {},
     "output_type": "execute_result"
    }
   ],
   "source": [
    "item_data.keys()"
   ]
  },
  {
   "cell_type": "code",
   "execution_count": 10,
   "metadata": {},
   "outputs": [
    {
     "name": "stdout",
     "output_type": "stream",
     "text": [
      "\n",
      "date: 1936-01-01 <class 'str'>\n",
      "\n",
      "format: {'photo, print, drawing': 'https://www.loc.gov/search/?fa=original_format:photo,+print,+drawing&fo=json'} <class 'list'>\n"
     ]
    }
   ],
   "source": [
    "    # example w/ date\n",
    "    print('\\ndate:',item_data['date'], type(item_data['date']))\n",
    "    # example w/ formate\n",
    "    print('\\nformat:',item_data['format'][0], type(item_data['format']))"
   ]
  },
  {
   "cell_type": "code",
   "execution_count": 12,
   "metadata": {},
   "outputs": [
    {
     "name": "stdout",
     "output_type": "stream",
     "text": [
      "created row dictionary: {'source_file': '/Users/julia.cave.arbanas/si676-2024-data/collection_project_WPA/item_metadata/item_metadata-98518952.json', 'identifier': '2011645389', 'title': 'A book mark would be better!', 'creation_date': ['Chicago : Made by Illinois W.P.A. Art Project, [between 1936 and 1940]'], 'source_url': 'https://www.loc.gov/item/2011645389/', 'description': 'WPA poster shows a boy ironing down the page of a book.', 'creators': ['Gregg, Arlington, artist', 'United States. Works Progress Administration (Ill.), sponsor'], 'location': 'Not found', 'medium': ['Posters--1930-1940', 'Screen prints--Color--1930-1940'], 'subjects': ['Books--1930-1940', 'Conservation & restoration--1930-1940'], 'type': {'photo, print, drawing': 'https://www.loc.gov/search/?fa=original_format:photo,+print,+drawing&fo=json'}, 'rights': 'No known restrictions on publication.'}\n",
      "wrote collection_items_data.csv\n"
     ]
    }
   ],
   "source": [
    "collection_info_csv = 'collection_items_data.csv'\n",
    "\n",
    "headers = ['source_file', 'identifier', 'title', 'creation_date', 'source_url', 'description', 'creators', 'location', 'medium', 'subjects', 'type', 'rights'] \n",
    "\n",
    "# try first with one file\n",
    "with open(list_of_item_metadata_files[0], 'r', encoding='utf-8') as data:\n",
    "    item_data = json.load(data)\n",
    "    \n",
    "    # extract the data you want\n",
    "    # for checking purposes, add in the source of the info\n",
    "    source_file = str(file)\n",
    "    # make sure there's some unique and stable identifier\n",
    "    try:\n",
    "        identifier = item_data['library_of_congress_control_number']\n",
    "    except:\n",
    "        identifier = item_data['url'].split('/')[-2]\n",
    "    title = item_data['title']\n",
    "    creation_date = item_data['created_published']\n",
    "    source_url = item_data['url']\n",
    "    description = item_data['summary']\n",
    "    try:\n",
    "        creators = item_data['contributor_names']\n",
    "    except:\n",
    "        creators = 'Not found'\n",
    "    try:\n",
    "        location = item_data['location']\n",
    "    except:\n",
    "        location = 'Not found'\n",
    "    medium = item_data['genre']\n",
    "    subjects = item_data['subject_headings']\n",
    "    try:\n",
    "        type = item_data['format'][0]\n",
    "    except:\n",
    "        type = 'Not found'\n",
    "    try:\n",
    "        rights = item_data['rights_advisory']\n",
    "    except:\n",
    "        rights = 'Undetermined'\n",
    "\n",
    "\n",
    "    # making a dictionary for the rows\n",
    "row_dict = {\n",
    "        'source_file': source_file,\n",
    "        'identifier': identifier,\n",
    "        'title': title,\n",
    "        'creation_date': creation_date,\n",
    "        'source_url': source_url,\n",
    "        'description': description,\n",
    "        'creators': creators,\n",
    "        'location': location,\n",
    "        'medium': medium,\n",
    "        'subjects': subjects,\n",
    "        'type': type,\n",
    "        'rights': rights,\n",
    "    }\n",
    "print('created row dictionary:',row_dict)\n",
    "\n",
    "    # write to the csv\n",
    "with open(collection_info_csv, 'w', encoding='utf-8') as fout:\n",
    "    writer = csv.DictWriter(fout, fieldnames=headers)\n",
    "    writer.writeheader()\n",
    "    writer.writerow(row_dict)\n",
    "    print('wrote',collection_info_csv)"
   ]
  },
  {
   "cell_type": "code",
   "execution_count": 13,
   "metadata": {},
   "outputs": [
    {
     "name": "stdout",
     "output_type": "stream",
     "text": [
      "https://tile.loc.gov/storage-services/service/pnp/ppmsca/31200/31264v.jpg#h=1024&w=823\n"
     ]
    }
   ],
   "source": [
    "collection_info_csv = 'collection_items_data.csv'\n",
    "\n",
    "# set up a list for the columns in your csv; in future, this should be more automated but this works for now as you set up the crosswalk\n",
    "headers = ['source_file', 'identifier', 'title', 'creation_date', 'source_url', 'description', 'creators', 'location', 'medium', 'subjects', 'type', 'rights'] \n",
    "\n",
    "# try first with one file\n",
    "with open(list_of_item_metadata_files[0], 'r', encoding='utf-8') as data:\n",
    "    # load the item data\n",
    "    item_data = json.load(data)\n",
    "    \n",
    "    print(item_data['image_url'][3])"
   ]
  },
  {
   "cell_type": "code",
   "execution_count": 14,
   "metadata": {},
   "outputs": [
    {
     "name": "stdout",
     "output_type": "stream",
     "text": [
      "removed collection_items_data.csv\n"
     ]
    }
   ],
   "source": [
    "items_data_file = os.path.join('collection_items_data.csv')\n",
    "\n",
    "if os.path.isfile(items_data_file):\n",
    "    os.unlink(items_data_file)\n",
    "    print('removed',items_data_file)\n",
    "\n",
    "# clear row_dict\n",
    "row_dict = ()"
   ]
  },
  {
   "cell_type": "code",
   "execution_count": 15,
   "metadata": {},
   "outputs": [
    {
     "name": "stdout",
     "output_type": "stream",
     "text": [
      "2024-12-14\n"
     ]
    }
   ],
   "source": [
    "from datetime import date\n",
    "\n",
    "date_string_for_today = date.today().strftime('%Y-%m-%d') # see https://docs.python.org/3/library/datetime.html#strftime-strptime-behavior\n",
    "\n",
    "print(date_string_for_today)"
   ]
  },
  {
   "cell_type": "code",
   "execution_count": 17,
   "metadata": {},
   "outputs": [
    {
     "name": "stdout",
     "output_type": "stream",
     "text": [
      "opening /Users/julia.cave.arbanas/si676-2024-data/collection_project_WPA/item_metadata/item_metadata-2011645389.json\n",
      "adding 2011645389\n",
      "opening /Users/julia.cave.arbanas/si676-2024-data/collection_project_WPA/item_metadata/item_metadata-92509203.json\n",
      "adding 92509203\n",
      "opening /Users/julia.cave.arbanas/si676-2024-data/collection_project_WPA/item_metadata/item_metadata-92517367.json\n",
      "adding 92517367\n",
      "opening /Users/julia.cave.arbanas/si676-2024-data/collection_project_WPA/item_metadata/item_metadata-93511155.json\n",
      "adding 93511155\n",
      "opening /Users/julia.cave.arbanas/si676-2024-data/collection_project_WPA/item_metadata/item_metadata-94502738.json\n",
      "adding 94502738\n",
      "opening /Users/julia.cave.arbanas/si676-2024-data/collection_project_WPA/item_metadata/item_metadata-96503125.json\n",
      "adding 96503125\n",
      "opening /Users/julia.cave.arbanas/si676-2024-data/collection_project_WPA/item_metadata/item_metadata-96510383.json\n",
      "adding 96510383\n",
      "opening /Users/julia.cave.arbanas/si676-2024-data/collection_project_WPA/item_metadata/item_metadata-98507251.json\n",
      "adding 98507251\n",
      "opening /Users/julia.cave.arbanas/si676-2024-data/collection_project_WPA/item_metadata/item_metadata-98507722.json\n",
      "adding 98507722\n",
      "opening /Users/julia.cave.arbanas/si676-2024-data/collection_project_WPA/item_metadata/item_metadata-98508191.json\n",
      "adding 98508191\n",
      "opening /Users/julia.cave.arbanas/si676-2024-data/collection_project_WPA/item_metadata/item_metadata-98508363.json\n",
      "adding 98508363\n",
      "opening /Users/julia.cave.arbanas/si676-2024-data/collection_project_WPA/item_metadata/item_metadata-98508422.json\n",
      "adding 98508422\n",
      "opening /Users/julia.cave.arbanas/si676-2024-data/collection_project_WPA/item_metadata/item_metadata-98510373.json\n",
      "adding 98510373\n",
      "opening /Users/julia.cave.arbanas/si676-2024-data/collection_project_WPA/item_metadata/item_metadata-98513398.json\n",
      "adding 98513398\n",
      "opening /Users/julia.cave.arbanas/si676-2024-data/collection_project_WPA/item_metadata/item_metadata-98516613.json\n",
      "adding 98516613\n",
      "opening /Users/julia.cave.arbanas/si676-2024-data/collection_project_WPA/item_metadata/item_metadata-98517129.json\n",
      "adding 98517129\n",
      "opening /Users/julia.cave.arbanas/si676-2024-data/collection_project_WPA/item_metadata/item_metadata-98517179.json\n",
      "adding 98517179\n",
      "opening /Users/julia.cave.arbanas/si676-2024-data/collection_project_WPA/item_metadata/item_metadata-98517388.json\n",
      "adding 98517388\n",
      "opening /Users/julia.cave.arbanas/si676-2024-data/collection_project_WPA/item_metadata/item_metadata-98517916.json\n",
      "adding 98517916\n",
      "opening /Users/julia.cave.arbanas/si676-2024-data/collection_project_WPA/item_metadata/item_metadata-98518267.json\n",
      "adding 98518267\n",
      "opening /Users/julia.cave.arbanas/si676-2024-data/collection_project_WPA/item_metadata/item_metadata-98518272.json\n",
      "adding 98518272\n",
      "opening /Users/julia.cave.arbanas/si676-2024-data/collection_project_WPA/item_metadata/item_metadata-98518597.json\n",
      "adding 98518597\n",
      "opening /Users/julia.cave.arbanas/si676-2024-data/collection_project_WPA/item_metadata/item_metadata-98518717.json\n",
      "adding 98518717\n",
      "opening /Users/julia.cave.arbanas/si676-2024-data/collection_project_WPA/item_metadata/item_metadata-98518952.json\n",
      "adding 98518952\n",
      "\n",
      "\n",
      "--- LOG ---\n",
      "wrote /Users/julia.cave.arbanas/si676-2024-data/collection_project_WPA/collection_items_data.csv\n",
      "with 24 items\n",
      "0 errors (info not written)\n"
     ]
    }
   ],
   "source": [
    "# set up the containers to create the csv & counters \n",
    "# file for csv to read out\n",
    "collection_info_csv = os.path.join('/Users/julia.cave.arbanas/si676-2024-data','collection_project_WPA','collection_items_data.csv')\n",
    "file_count = 0\n",
    "items_written = 0\n",
    "error_count = 0\n",
    "\n",
    "# add in a couple of extras for Omeka, including item type and date uploaded\n",
    "\n",
    "# set up a list for the columns in your csv; in future, this should be more automated but this works for now as you set up the crosswalk\n",
    "headers = ['source_file', 'identifier', 'title', 'creation_date', 'source_url', 'description', 'creators', 'location', 'medium', 'subjects', 'type', 'rights', 'image_url'] \n",
    "\n",
    "# now, adapt the previous loop to open each file:\n",
    "for file in list_of_item_metadata_files:\n",
    "    file_count += 1\n",
    "    print('opening',file)\n",
    "    with open(file, 'r', encoding='utf-8') as item:\n",
    "        # load the item data\n",
    "        try:\n",
    "            item_data = json.load(item)\n",
    "        except:\n",
    "            print('error loading',file)\n",
    "            error_count += 1\n",
    "            continue\n",
    "\n",
    "        # extract/name the data you want\n",
    "        # item type\n",
    "        item_type = 'Item'\n",
    "        # date uplaoded\n",
    "        date_uploaded = date_string_for_today\n",
    "        # for checking purposes, add in the source of the info\n",
    "        source_file = str(file)\n",
    "        # make sure there's some unique and stable identifier\n",
    "        try:\n",
    "            identifier = item_data['library_of_congress_control_number']\n",
    "        except:\n",
    "            identifier = item_data['url'].split('/')[-2]\n",
    "        title = item_data['title']\n",
    "        creation_date = item_data['created_published']\n",
    "        source_url = item_data['url']\n",
    "        try:\n",
    "            description = item_data['summary']\n",
    "        except:\n",
    "            description = 'Not found'\n",
    "        try:\n",
    "            creators = item_data['contributor_names']\n",
    "        except:\n",
    "            creators = 'Not found'\n",
    "        try:\n",
    "            location = item_data['location']\n",
    "        except:\n",
    "            location = 'Not found'\n",
    "        try:\n",
    "            medium = item_data['genre']\n",
    "        except:\n",
    "            medium = 'Not found'\n",
    "        try:\n",
    "            subjects = item_data['subject_headings']\n",
    "        except:\n",
    "            subjects = \"Not found\"\n",
    "        try:\n",
    "            type = item_data['format'][0]\n",
    "        except:\n",
    "            type = 'Not found'\n",
    "        try:\n",
    "            rights = item_data['rights_advisory']\n",
    "        except:\n",
    "            rights = 'Undetermined'\n",
    "        try:\n",
    "            image_url = item_data['image_url'][3]\n",
    "        except:\n",
    "            image_url = 'Did not identify a URL.'\n",
    "\n",
    "        # dictionary for the rows\n",
    "        row_dict = {\n",
    "            'source_file': source_file,\n",
    "            'identifier': identifier,\n",
    "            'title': title,\n",
    "            'creation_date': creation_date,\n",
    "            'source_url': source_url,\n",
    "            'description': description,\n",
    "            'creators': creators,\n",
    "            'location': location,\n",
    "            'medium': medium,\n",
    "            'subjects': subjects,\n",
    "            'type': type,\n",
    "            'rights': rights,\n",
    "            'image_url': image_url\n",
    "            }\n",
    "\n",
    "        # write to the csv\n",
    "    with open(collection_info_csv, 'a', encoding='utf-8') as fout:\n",
    "        writer = csv.DictWriter(fout, fieldnames=headers)\n",
    "        if items_written == 0:\n",
    "            writer.writeheader()\n",
    "        writer.writerow(row_dict)\n",
    "        items_written += 1\n",
    "        print('adding',identifier)\n",
    "\n",
    "print('\\n\\n--- LOG ---')\n",
    "print('wrote',collection_info_csv)\n",
    "print('with',items_written,'items')\n",
    "print(error_count,'errors (info not written)')\n"
   ]
  },
  {
   "cell_type": "code",
   "execution_count": null,
   "metadata": {},
   "outputs": [],
   "source": []
  }
 ],
 "metadata": {
  "kernelspec": {
   "display_name": "Python 3",
   "language": "python",
   "name": "python3"
  },
  "language_info": {
   "codemirror_mode": {
    "name": "ipython",
    "version": 3
   },
   "file_extension": ".py",
   "mimetype": "text/x-python",
   "name": "python",
   "nbconvert_exporter": "python",
   "pygments_lexer": "ipython3",
   "version": "3.9.6"
  }
 },
 "nbformat": 4,
 "nbformat_minor": 2
}
